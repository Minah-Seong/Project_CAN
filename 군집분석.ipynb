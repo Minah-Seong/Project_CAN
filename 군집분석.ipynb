{
 "cells": [
  {
   "cell_type": "code",
   "execution_count": 78,
   "id": "f7369986-e378-471d-9446-a67d12f97047",
   "metadata": {},
   "outputs": [
    {
     "name": "stdout",
     "output_type": "stream",
     "text": [
      "0.12.1.post1\n"
     ]
    }
   ],
   "source": [
    "import pandas as pd\n",
    "import seaborn as sns\n",
    "import numpy as np\n",
    "import matplotlib.pyplot as plt\n",
    "import sys\n",
    "from matplotlib import font_manager, rc, cm                \n",
    "from sklearn.preprocessing import MinMaxScaler\n",
    "from sklearn.cluster import KMeans\n",
    "from yellowbrick.cluster import KElbowVisualizer\n",
    "import folium\n",
    "import json\n",
    "from folium import plugins\n",
    "print(folium.__version__)\n",
    "\n",
    "font_path = './font/GmarketSansTTFMedium.ttf'\n",
    "font_name = font_manager.FontProperties(fname=font_path).get_name()\n",
    "rc('font', family=font_name)\n"
   ]
  },
  {
   "cell_type": "code",
   "execution_count": 79,
   "id": "d4b1a18d-8161-4c77-86e3-c0b4c944befb",
   "metadata": {},
   "outputs": [
    {
     "data": {
      "text/html": [
       "<div>\n",
       "<style scoped>\n",
       "    .dataframe tbody tr th:only-of-type {\n",
       "        vertical-align: middle;\n",
       "    }\n",
       "\n",
       "    .dataframe tbody tr th {\n",
       "        vertical-align: top;\n",
       "    }\n",
       "\n",
       "    .dataframe thead th {\n",
       "        text-align: right;\n",
       "    }\n",
       "</style>\n",
       "<table border=\"1\" class=\"dataframe\">\n",
       "  <thead>\n",
       "    <tr style=\"text-align: right;\">\n",
       "      <th></th>\n",
       "      <th>호당 매매가(천원)</th>\n",
       "      <th>호당 전세가(천원)</th>\n",
       "      <th>전세가율(%)</th>\n",
       "      <th>건축허가면적(m2)</th>\n",
       "      <th>지하철역 수(개)</th>\n",
       "      <th>주민등록세대수(호)</th>\n",
       "      <th>은행 점포수(개)</th>\n",
       "    </tr>\n",
       "    <tr>\n",
       "      <th>SIG_KOR_NM</th>\n",
       "      <th></th>\n",
       "      <th></th>\n",
       "      <th></th>\n",
       "      <th></th>\n",
       "      <th></th>\n",
       "      <th></th>\n",
       "      <th></th>\n",
       "    </tr>\n",
       "  </thead>\n",
       "  <tbody>\n",
       "    <tr>\n",
       "      <th>강남구</th>\n",
       "      <td>190725</td>\n",
       "      <td>85901</td>\n",
       "      <td>45.039193</td>\n",
       "      <td>1615344</td>\n",
       "      <td>33</td>\n",
       "      <td>234233</td>\n",
       "      <td>283</td>\n",
       "    </tr>\n",
       "    <tr>\n",
       "      <th>강동구</th>\n",
       "      <td>93878</td>\n",
       "      <td>46026</td>\n",
       "      <td>49.027461</td>\n",
       "      <td>1099704</td>\n",
       "      <td>13</td>\n",
       "      <td>201613</td>\n",
       "      <td>51</td>\n",
       "    </tr>\n",
       "    <tr>\n",
       "      <th>강북구</th>\n",
       "      <td>66844</td>\n",
       "      <td>37170</td>\n",
       "      <td>55.607085</td>\n",
       "      <td>482673</td>\n",
       "      <td>11</td>\n",
       "      <td>144536</td>\n",
       "      <td>24</td>\n",
       "    </tr>\n",
       "    <tr>\n",
       "      <th>강서구</th>\n",
       "      <td>78990</td>\n",
       "      <td>39767</td>\n",
       "      <td>50.344347</td>\n",
       "      <td>2104922</td>\n",
       "      <td>22</td>\n",
       "      <td>271175</td>\n",
       "      <td>63</td>\n",
       "    </tr>\n",
       "    <tr>\n",
       "      <th>관악구</th>\n",
       "      <td>72896</td>\n",
       "      <td>42716</td>\n",
       "      <td>58.598551</td>\n",
       "      <td>330146</td>\n",
       "      <td>4</td>\n",
       "      <td>276597</td>\n",
       "      <td>36</td>\n",
       "    </tr>\n",
       "    <tr>\n",
       "      <th>...</th>\n",
       "      <td>...</td>\n",
       "      <td>...</td>\n",
       "      <td>...</td>\n",
       "      <td>...</td>\n",
       "      <td>...</td>\n",
       "      <td>...</td>\n",
       "      <td>...</td>\n",
       "    </tr>\n",
       "    <tr>\n",
       "      <th>파주시</th>\n",
       "      <td>32642</td>\n",
       "      <td>26435</td>\n",
       "      <td>80.984621</td>\n",
       "      <td>3607188</td>\n",
       "      <td>7</td>\n",
       "      <td>211916</td>\n",
       "      <td>33</td>\n",
       "    </tr>\n",
       "    <tr>\n",
       "      <th>평택시</th>\n",
       "      <td>24993</td>\n",
       "      <td>19066</td>\n",
       "      <td>76.285360</td>\n",
       "      <td>5178955</td>\n",
       "      <td>5</td>\n",
       "      <td>262097</td>\n",
       "      <td>43</td>\n",
       "    </tr>\n",
       "    <tr>\n",
       "      <th>포천시</th>\n",
       "      <td>15951</td>\n",
       "      <td>13799</td>\n",
       "      <td>86.508683</td>\n",
       "      <td>1153610</td>\n",
       "      <td>0</td>\n",
       "      <td>73584</td>\n",
       "      <td>12</td>\n",
       "    </tr>\n",
       "    <tr>\n",
       "      <th>하남시</th>\n",
       "      <td>91988</td>\n",
       "      <td>51790</td>\n",
       "      <td>56.300822</td>\n",
       "      <td>706933</td>\n",
       "      <td>3</td>\n",
       "      <td>138764</td>\n",
       "      <td>23</td>\n",
       "    </tr>\n",
       "    <tr>\n",
       "      <th>화성시</th>\n",
       "      <td>52178</td>\n",
       "      <td>29800</td>\n",
       "      <td>57.112193</td>\n",
       "      <td>6235622</td>\n",
       "      <td>1</td>\n",
       "      <td>372888</td>\n",
       "      <td>72</td>\n",
       "    </tr>\n",
       "  </tbody>\n",
       "</table>\n",
       "<p>72 rows × 7 columns</p>\n",
       "</div>"
      ],
      "text/plain": [
       "            호당 매매가(천원)  호당 전세가(천원)    전세가율(%)  건축허가면적(m2)  지하철역 수(개)  \\\n",
       "SIG_KOR_NM                                                             \n",
       "강남구             190725       85901  45.039193     1615344         33   \n",
       "강동구              93878       46026  49.027461     1099704         13   \n",
       "강북구              66844       37170  55.607085      482673         11   \n",
       "강서구              78990       39767  50.344347     2104922         22   \n",
       "관악구              72896       42716  58.598551      330146          4   \n",
       "...                ...         ...        ...         ...        ...   \n",
       "파주시              32642       26435  80.984621     3607188          7   \n",
       "평택시              24993       19066  76.285360     5178955          5   \n",
       "포천시              15951       13799  86.508683     1153610          0   \n",
       "하남시              91988       51790  56.300822      706933          3   \n",
       "화성시              52178       29800  57.112193     6235622          1   \n",
       "\n",
       "            주민등록세대수(호)  은행 점포수(개)  \n",
       "SIG_KOR_NM                         \n",
       "강남구             234233        283  \n",
       "강동구             201613         51  \n",
       "강북구             144536         24  \n",
       "강서구             271175         63  \n",
       "관악구             276597         36  \n",
       "...                ...        ...  \n",
       "파주시             211916         33  \n",
       "평택시             262097         43  \n",
       "포천시              73584         12  \n",
       "하남시             138764         23  \n",
       "화성시             372888         72  \n",
       "\n",
       "[72 rows x 7 columns]"
      ]
     },
     "execution_count": 79,
     "metadata": {},
     "output_type": "execute_result"
    }
   ],
   "source": [
    "# 데이터 불러오기\n",
    "\n",
    "df = pd.read_excel('./data/통합파일.xlsx', index_col=1)\n",
    "df.drop('지 역', axis=1, inplace=True)\n",
    "df"
   ]
  },
  {
   "cell_type": "code",
   "execution_count": 80,
   "id": "9de73342-a540-450f-8e65-bfe4765667a5",
   "metadata": {},
   "outputs": [],
   "source": [
    "# Min-Max 정규화\n",
    "\n",
    "data = df[['호당 매매가(천원)', '호당 전세가(천원)','전세가율(%)']]\n",
    "\n",
    "scaler = MinMaxScaler()\n",
    "data_scale = scaler.fit_transform(data)\n",
    "\n",
    "# ndata = pd.DataFrame(data_scale)\n",
    "# ndata.index=data.index\n",
    "# ndata.columns=data.bin"
   ]
  },
  {
   "cell_type": "code",
   "execution_count": null,
   "id": "01f09f7d-26ef-4f6c-a7fe-d49fdc5705b6",
   "metadata": {},
   "outputs": [],
   "source": [
    "model = KMeans()\n",
    "visualizer = KElbowVisualizer(model, k=(1,10))\n",
    "visualizer.fit(data_scale)"
   ]
  },
  {
   "cell_type": "code",
   "execution_count": 81,
   "id": "dea3d231-56d7-437d-8bee-a72d3d01801a",
   "metadata": {},
   "outputs": [
    {
     "name": "stdout",
     "output_type": "stream",
     "text": [
      "            호당 매매가(천원)  호당 전세가(천원)    전세가율(%)  건축허가면적(m2)  지하철역 수(개)  \\\n",
      "SIG_KOR_NM                                                             \n",
      "강남구             190725       85901  45.039193     1615344         33   \n",
      "강동구              93878       46026  49.027461     1099704         13   \n",
      "강북구              66844       37170  55.607085      482673         11   \n",
      "강서구              78990       39767  50.344347     2104922         22   \n",
      "관악구              72896       42716  58.598551      330146          4   \n",
      "\n",
      "            주민등록세대수(호)  은행 점포수(개)  cluster  \n",
      "SIG_KOR_NM                                  \n",
      "강남구             234233        283        1  \n",
      "강동구             201613         51        0  \n",
      "강북구             144536         24        0  \n",
      "강서구             271175         63        0  \n",
      "관악구             276597         36        0  \n"
     ]
    }
   ],
   "source": [
    "k = 3\n",
    "\n",
    "# 그룹 수, random_state 설정\n",
    "model = KMeans(n_clusters = k, random_state = 10)\n",
    "\n",
    "# 정규화된 데이터에 학습\n",
    "model.fit(data_scale)\n",
    "\n",
    "# 클러스터링 결과 각 데이터가 몇 번째 그룹에 속하는지 저장\n",
    "df['cluster'] = model.fit_predict(data_scale)\n",
    "print(df.head())"
   ]
  },
  {
   "cell_type": "code",
   "execution_count": 70,
   "id": "734b1da3-6c47-43f7-9089-907b7106e47a",
   "metadata": {},
   "outputs": [
    {
     "data": {
      "image/png": "[encoded data removed]",
      "text/plain": [
       "<Figure size 576x576 with 1 Axes>"
      ]
     },
     "metadata": {},
     "output_type": "display_data"
    }
   ],
   "source": [
    "import matplotlib.pyplot as plt\n",
    "\n",
    "plt.figure(figsize = (8, 8))\n",
    "\n",
    "for i in range(k):\n",
    "    plt.scatter(df.loc[df['cluster'] == i, '호당 매매가(천원)'], df.loc[df['cluster'] == i, '호당 전세가(천원)'], \n",
    "                label = 'cluster ' + str(i))\n",
    "    \n",
    "plt.legend()\n",
    "plt.title('K = %d results'%k , size = 15)\n",
    "plt.xlabel('호당 매매가(천원)', size = 12)\n",
    "plt.ylabel('호당 전세가(천원)', size = 12)\n",
    "plt.show()"
   ]
  },
  {
   "cell_type": "code",
   "execution_count": 71,
   "id": "7bf19738-e0f3-4683-882c-857f9caab0d9",
   "metadata": {},
   "outputs": [
    {
     "data": {
      "image/png": "[encoded data removed]",
      "text/plain": [
       "<Figure size 576x576 with 1 Axes>"
      ]
     },
     "metadata": {},
     "output_type": "display_data"
    }
   ],
   "source": [
    "import matplotlib.pyplot as plt\n",
    "\n",
    "plt.figure(figsize = (8, 8))\n",
    "\n",
    "for i in range(k):\n",
    "    plt.scatter(df.loc[df['cluster'] == i, '호당 매매가(천원)'], df.loc[df['cluster'] == i, '전세가율(%)'], \n",
    "                label = 'cluster ' + str(i))\n",
    "\n",
    "plt.legend()\n",
    "plt.title('K = %d results'%k , size = 15)\n",
    "plt.xlabel('호당 매매가(천원)', size = 12)\n",
    "plt.ylabel('전세가율(%)', size = 12)\n",
    "plt.show()"
   ]
  },
  {
   "cell_type": "code",
   "execution_count": 72,
   "id": "a0593260-4739-4bd2-9b64-95cfd47d2763",
   "metadata": {},
   "outputs": [
    {
     "data": {
      "image/png": "[encoded data removed]",
      "text/plain": [
       "<Figure size 576x576 with 1 Axes>"
      ]
     },
     "metadata": {},
     "output_type": "display_data"
    }
   ],
   "source": [
    "import matplotlib.pyplot as plt\n",
    "\n",
    "plt.figure(figsize = (8, 8))\n",
    "\n",
    "for i in range(k):\n",
    "    plt.scatter(df.loc[df['cluster'] == i, '호당 전세가(천원)'], df.loc[df['cluster'] == i, '전세가율(%)'], \n",
    "                label = 'cluster ' + str(i))\n",
    "\n",
    "plt.legend()\n",
    "plt.title('K = %d results'%k , size = 15)\n",
    "plt.xlabel('호당 전세가(천원)', size = 12)\n",
    "plt.ylabel('전세가율(%)', size = 12)\n",
    "plt.show()"
   ]
  },
  {
   "cell_type": "code",
   "execution_count": 82,
   "id": "8d48494e-48a8-4432-9e96-9679f92c9159",
   "metadata": {},
   "outputs": [],
   "source": [
    "clu1 = df[(df['cluster'] == 0)]\n",
    "clu2 = df[(df['cluster'] == 1)]\n",
    "clu3 = df[(df['cluster'] == 2)]"
   ]
  },
  {
   "cell_type": "code",
   "execution_count": 83,
   "id": "d4f0be4f-16bb-4a40-9f2e-661b89cd5779",
   "metadata": {},
   "outputs": [],
   "source": [
    "# 군집분석 지도 시각화\n",
    "\n",
    "state_geo = 'data/전국_군집분석용.json'\n",
    "state_geo2 = json.load(open(state_geo, encoding =\"utf-8\"))"
   ]
  },
  {
   "cell_type": "code",
   "execution_count": 111,
   "id": "37e90de0-8b6c-4bfb-9f13-81fb70911ce6",
   "metadata": {},
   "outputs": [],
   "source": [
    "m = folium.Map(location = [37.5760, 126.9769], tiles=\"OpenStreetMap\", zoom_start=9)\n",
    "\n",
    "choropleth = folium.Choropleth(\n",
    "    geo_data=state_geo2,\n",
    "    name = \"지도\",\n",
    "    data = df,\n",
    "    columns=(df.index, \"cluster\"),\n",
    "    fill_color='Spectral',\n",
    "    key_on=\"feature.properties.SIG_KOR_NM\",\n",
    "    fill_opactiy = 1,\n",
    "    line_opacity = 0.5,\n",
    "    nan_fill_color='#FAEB78',\n",
    "    nan_fill_opacity=0,\n",
    ").add_to(m)"
   ]
  },
  {
   "cell_type": "code",
   "execution_count": 113,
   "id": "4b09e569-99bd-417c-935f-3142e0955e10",
   "metadata": {},
   "outputs": [],
   "source": [
    "m\n",
    "\n",
    "m.save('군집분석_시각화.html')"
   ]
  },
  {
   "cell_type": "code",
   "execution_count": null,
   "id": "9e445a70-cca0-4bce-9d16-e4561bbdcb9c",
   "metadata": {},
   "outputs": [],
   "source": []
  },
  {
   "cell_type": "code",
   "execution_count": null,
   "id": "a385c4cc-e351-4b47-9c7e-f38d4648e2fc",
   "metadata": {},
   "outputs": [],
   "source": []
  },
  {
   "cell_type": "code",
   "execution_count": null,
   "id": "479ce5d4-99d4-4b59-8fda-d5045eefdbbd",
   "metadata": {},
   "outputs": [],
   "source": []
  },
  {
   "cell_type": "code",
   "execution_count": null,
   "id": "99afd3e3-8636-4d87-95a8-eddfb07b4774",
   "metadata": {},
   "outputs": [],
   "source": []
  },
  {
   "cell_type": "code",
   "execution_count": null,
   "id": "9d45f018-7f0d-4843-b17b-810761639481",
   "metadata": {},
   "outputs": [],
   "source": []
  },
  {
   "cell_type": "code",
   "execution_count": null,
   "id": "6c09578f-4f85-4237-920b-578d91c9fad4",
   "metadata": {},
   "outputs": [],
   "source": []
  },
  {
   "cell_type": "code",
   "execution_count": null,
   "id": "827cfb87-4232-4a60-b948-05187166728b",
   "metadata": {},
   "outputs": [],
   "source": []
  },
  {
   "cell_type": "code",
   "execution_count": null,
   "id": "78ec63b6-6325-48ec-b1ab-2132ec511c01",
   "metadata": {},
   "outputs": [],
   "source": []
  },
  {
   "cell_type": "code",
   "execution_count": null,
   "id": "7ba6c49e-89db-4b34-9249-791a2b449433",
   "metadata": {},
   "outputs": [],
   "source": []
  },
  {
   "cell_type": "code",
   "execution_count": null,
   "id": "97319b68-a268-4bb9-93fc-199eae7693eb",
   "metadata": {},
   "outputs": [],
   "source": []
  },
  {
   "cell_type": "code",
   "execution_count": null,
   "id": "63f17ceb-602d-4c6a-8aba-b4b06b8dd98f",
   "metadata": {},
   "outputs": [],
   "source": []
  },
  {
   "cell_type": "code",
   "execution_count": null,
   "id": "74ae3afd-d118-4be3-b195-8e77c4a341b5",
   "metadata": {},
   "outputs": [],
   "source": []
  }
 ],
 "metadata": {
  "kernelspec": {
   "display_name": "pydatavenv",
   "language": "python",
   "name": "pydatavenv"
  },
  "language_info": {
   "codemirror_mode": {
    "name": "ipython",
    "version": 3
   },
   "file_extension": ".py",
   "mimetype": "text/x-python",
   "name": "python",
   "nbconvert_exporter": "python",
   "pygments_lexer": "ipython3",
   "version": "3.9.12"
  }
 },
 "nbformat": 4,
 "nbformat_minor": 5
}
