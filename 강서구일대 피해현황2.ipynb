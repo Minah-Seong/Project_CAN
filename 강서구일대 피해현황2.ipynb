{
 "cells": [
  {
   "cell_type": "code",
   "execution_count": 2,
   "id": "f373632d-c0eb-4c94-b3ab-dc2132466b7f",
   "metadata": {},
   "outputs": [],
   "source": [
    "import pandas as pd\n",
    "import seaborn as sns\n",
    "import numpy as np\n",
    "import matplotlib.pyplot as plt\n",
    "import sys\n",
    "from matplotlib import font_manager, rc, cm                ## 폰트를 관리하는 함수와 설정 함수를 사용한다. \n",
    "\n",
    "font_path = './font/GmarketSansTTFMedium.ttf'\n",
    "font_name = font_manager.FontProperties(fname=font_path).get_name()\n",
    "rc('font', family=font_name)"
   ]
  },
  {
   "cell_type": "code",
   "execution_count": 3,
   "id": "dec543c3-dbe3-44d9-8bfc-e29b81b97332",
   "metadata": {},
   "outputs": [
    {
     "data": {
      "text/html": [
       "<div>\n",
       "<style scoped>\n",
       "    .dataframe tbody tr th:only-of-type {\n",
       "        vertical-align: middle;\n",
       "    }\n",
       "\n",
       "    .dataframe tbody tr th {\n",
       "        vertical-align: top;\n",
       "    }\n",
       "\n",
       "    .dataframe thead th {\n",
       "        text-align: right;\n",
       "    }\n",
       "</style>\n",
       "<table border=\"1\" class=\"dataframe\">\n",
       "  <thead>\n",
       "    <tr style=\"text-align: right;\">\n",
       "      <th></th>\n",
       "      <th>지역코드</th>\n",
       "      <th>2017건수</th>\n",
       "      <th>2017금액</th>\n",
       "      <th>2018건수</th>\n",
       "      <th>2018금액</th>\n",
       "      <th>2019건수</th>\n",
       "      <th>2019금액</th>\n",
       "      <th>2020건수</th>\n",
       "      <th>2020금액</th>\n",
       "      <th>2021건수</th>\n",
       "      <th>2021금액</th>\n",
       "      <th>건수 합계</th>\n",
       "      <th>금액 합계</th>\n",
       "      <th>Unnamed: 15</th>\n",
       "    </tr>\n",
       "    <tr>\n",
       "      <th>SIG_KOR_NM</th>\n",
       "      <th></th>\n",
       "      <th></th>\n",
       "      <th></th>\n",
       "      <th></th>\n",
       "      <th></th>\n",
       "      <th></th>\n",
       "      <th></th>\n",
       "      <th></th>\n",
       "      <th></th>\n",
       "      <th></th>\n",
       "      <th></th>\n",
       "      <th></th>\n",
       "      <th></th>\n",
       "      <th></th>\n",
       "    </tr>\n",
       "  </thead>\n",
       "  <tbody>\n",
       "    <tr>\n",
       "      <th>부천시</th>\n",
       "      <td>41190</td>\n",
       "      <td>1.0</td>\n",
       "      <td>155000000.0</td>\n",
       "      <td>9</td>\n",
       "      <td>2018300000</td>\n",
       "      <td>22</td>\n",
       "      <td>3950000000</td>\n",
       "      <td>91</td>\n",
       "      <td>18296700000</td>\n",
       "      <td>321</td>\n",
       "      <td>70363650000</td>\n",
       "      <td>444</td>\n",
       "      <td>94783650000</td>\n",
       "      <td>NaN</td>\n",
       "    </tr>\n",
       "    <tr>\n",
       "      <th>강서구</th>\n",
       "      <td>11500</td>\n",
       "      <td>NaN</td>\n",
       "      <td>NaN</td>\n",
       "      <td>10</td>\n",
       "      <td>1917000000</td>\n",
       "      <td>154</td>\n",
       "      <td>30847500000</td>\n",
       "      <td>402</td>\n",
       "      <td>82064250000</td>\n",
       "      <td>549</td>\n",
       "      <td>125023000000</td>\n",
       "      <td>1115</td>\n",
       "      <td>239851750000</td>\n",
       "      <td>NaN</td>\n",
       "    </tr>\n",
       "    <tr>\n",
       "      <th>양천구</th>\n",
       "      <td>11470</td>\n",
       "      <td>NaN</td>\n",
       "      <td>NaN</td>\n",
       "      <td>4</td>\n",
       "      <td>859000000</td>\n",
       "      <td>46</td>\n",
       "      <td>9092000000</td>\n",
       "      <td>116</td>\n",
       "      <td>23254250000</td>\n",
       "      <td>170</td>\n",
       "      <td>38493000000</td>\n",
       "      <td>336</td>\n",
       "      <td>71698250000</td>\n",
       "      <td>NaN</td>\n",
       "    </tr>\n",
       "  </tbody>\n",
       "</table>\n",
       "</div>"
      ],
      "text/plain": [
       "             지역코드  2017건수       2017금액  2018건수      2018금액  2019건수  \\\n",
       "SIG_KOR_NM                                                           \n",
       "부천시         41190     1.0  155000000.0       9  2018300000      22   \n",
       "강서구         11500     NaN          NaN      10  1917000000     154   \n",
       "양천구         11470     NaN          NaN       4   859000000      46   \n",
       "\n",
       "                 2019금액  2020건수       2020금액  2021건수        2021금액  건수 합계  \\\n",
       "SIG_KOR_NM                                                                  \n",
       "부천시          3950000000      91  18296700000     321   70363650000    444   \n",
       "강서구         30847500000     402  82064250000     549  125023000000   1115   \n",
       "양천구          9092000000     116  23254250000     170   38493000000    336   \n",
       "\n",
       "                   금액 합계  Unnamed: 15  \n",
       "SIG_KOR_NM                             \n",
       "부천시          94783650000          NaN  \n",
       "강서구         239851750000          NaN  \n",
       "양천구          71698250000          NaN  "
      ]
     },
     "execution_count": 3,
     "metadata": {},
     "output_type": "execute_result"
    }
   ],
   "source": [
    "df = pd.read_excel(\"data/강서구일대 사기피해현황.xlsx\",index_col=1)\n",
    "df.drop('지 역', axis=1, inplace=True)\n",
    "df"
   ]
  },
  {
   "cell_type": "code",
   "execution_count": 4,
   "id": "f15a8d8b-76de-4d00-a2c0-e31870754430",
   "metadata": {},
   "outputs": [
    {
     "name": "stderr",
     "output_type": "stream",
     "text": [
      "C:\\Users\\User\\anaconda3\\envs\\pydatavenv\\lib\\site-packages\\pandas\\core\\frame.py:4462: SettingWithCopyWarning: \n",
      "A value is trying to be set on a copy of a slice from a DataFrame\n",
      "\n",
      "See the caveats in the documentation: https://pandas.pydata.org/pandas-docs/stable/user_guide/indexing.html#returning-a-view-versus-a-copy\n",
      "  return super().fillna(\n"
     ]
    }
   ],
   "source": [
    "ndf = df[['2019건수','2020건수','2021건수']]\n",
    "ndf.fillna(0, inplace=True)\n",
    "\n"
   ]
  },
  {
   "cell_type": "code",
   "execution_count": 6,
   "id": "fe24db20-005d-4648-a2f0-16756fc1a965",
   "metadata": {},
   "outputs": [
    {
     "data": {
      "text/html": [
       "<div>\n",
       "<style scoped>\n",
       "    .dataframe tbody tr th:only-of-type {\n",
       "        vertical-align: middle;\n",
       "    }\n",
       "\n",
       "    .dataframe tbody tr th {\n",
       "        vertical-align: top;\n",
       "    }\n",
       "\n",
       "    .dataframe thead th {\n",
       "        text-align: right;\n",
       "    }\n",
       "</style>\n",
       "<table border=\"1\" class=\"dataframe\">\n",
       "  <thead>\n",
       "    <tr style=\"text-align: right;\">\n",
       "      <th></th>\n",
       "      <th>2019건수</th>\n",
       "      <th>2020건수</th>\n",
       "      <th>2021건수</th>\n",
       "    </tr>\n",
       "    <tr>\n",
       "      <th>SIG_KOR_NM</th>\n",
       "      <th></th>\n",
       "      <th></th>\n",
       "      <th></th>\n",
       "    </tr>\n",
       "  </thead>\n",
       "  <tbody>\n",
       "    <tr>\n",
       "      <th>부천시</th>\n",
       "      <td>22</td>\n",
       "      <td>91</td>\n",
       "      <td>321</td>\n",
       "    </tr>\n",
       "    <tr>\n",
       "      <th>강서구</th>\n",
       "      <td>154</td>\n",
       "      <td>402</td>\n",
       "      <td>549</td>\n",
       "    </tr>\n",
       "    <tr>\n",
       "      <th>양천구</th>\n",
       "      <td>46</td>\n",
       "      <td>116</td>\n",
       "      <td>170</td>\n",
       "    </tr>\n",
       "  </tbody>\n",
       "</table>\n",
       "</div>"
      ],
      "text/plain": [
       "            2019건수  2020건수  2021건수\n",
       "SIG_KOR_NM                        \n",
       "부천시             22      91     321\n",
       "강서구            154     402     549\n",
       "양천구             46     116     170"
      ]
     },
     "execution_count": 6,
     "metadata": {},
     "output_type": "execute_result"
    }
   ],
   "source": [
    "ndf = ndf.T\n",
    "\n",
    "ndf"
   ]
  },
  {
   "cell_type": "code",
   "execution_count": 23,
   "id": "042742ef-18bf-4d11-a808-cfbd2b907948",
   "metadata": {},
   "outputs": [
    {
     "name": "stderr",
     "output_type": "stream",
     "text": [
      "C:\\Users\\User\\AppData\\Local\\Temp\\ipykernel_29156\\2909940316.py:33: UserWarning: FixedFormatter should only be used together with FixedLocator\n",
      "  ax.set_xticklabels([2019,2020,2021], fontsize=13)\n"
     ]
    },
    {
     "data": {
      "image/png": "[encoded data removed]",
      "text/plain": [
       "<Figure size 720x576 with 1 Axes>"
      ]
     },
     "metadata": {},
     "output_type": "display_data"
    }
   ],
   "source": [
    "# colors = sns.color_palette('BuGn',len(ndf.columns))\n",
    "\n",
    "fig = plt.figure(figsize=(10,8))\n",
    "fig.set_facecolor('white')\n",
    "ax = fig.add_subplot()\n",
    "\n",
    "line1 = ax.plot(ndf.columns, ndf.loc['부천시'], label='경기도 부천시', linewidth=6, alpha=0.7, marker='o', markersize=12)\n",
    "line1 = line1[0]\n",
    "\n",
    "line2 = ax.plot(ndf.columns, ndf.loc['강서구'], label='서울시 강서구', linewidth=6, alpha=0.7, marker='o', markersize=12)\n",
    "line2 = line2[0]\n",
    "\n",
    "line3 = ax.plot(ndf.columns, ndf.loc['양천구'], label='서울시 양천구', linewidth=6, alpha=0.7, marker='o', markersize=12)\n",
    "line3 = line3[0]\n",
    "\n",
    "xylist1 = list(line1.get_xydata())\n",
    "for coord in xylist1[0:2]:\n",
    "    ax.text(coord[0]+0.1,coord[1]-15,f'{round(coord[1])}건',fontsize=13, ha='center')\n",
    "for coord in xylist1[2:3]:\n",
    "    ax.text(coord[0],coord[1]+20,f'{round(coord[1])}건',fontsize=13, ha='center')\n",
    "\n",
    "xylist2 = list(line2.get_xydata())\n",
    "for coord in xylist2[0:3]:\n",
    "    ax.text(coord[0],coord[1]+20,f'{round(coord[1])}건',fontsize=13, ha='center')\n",
    "    \n",
    "xylist3 = list(line3.get_xydata())\n",
    "for coord in xylist3[0:3]:\n",
    "    ax.text(coord[0],coord[1]+20,f'{round(coord[1])}건',fontsize=13, ha='center')\n",
    "\n",
    "ax.set_title('2019-2021 전세보증금반환보증 사고현황',size=20, pad=10)\n",
    "\n",
    "\n",
    "ax.set_xticklabels([2019,2020,2021], fontsize=13)\n",
    "plt.yticks(fontsize=13)\n",
    "ax.set_ylim(0,630)\n",
    "ax.set_xlabel('연도', fontsize = 15)\n",
    "ax.set_ylabel('사고건수(건)', fontsize = 15)\n",
    "               \n",
    "ax.legend(loc='upper left')\n",
    "\n",
    "plt.savefig('output/강서구_일대_전세보증금반환보증_사고현황2.png')"
   ]
  },
  {
   "cell_type": "code",
   "execution_count": null,
   "id": "5ce480d7-2241-4d28-8742-b3bf21cd6b42",
   "metadata": {},
   "outputs": [],
   "source": []
  },
  {
   "cell_type": "code",
   "execution_count": null,
   "id": "df9d0db4-bc64-4dcf-87b5-435d83a95d89",
   "metadata": {},
   "outputs": [],
   "source": []
  },
  {
   "cell_type": "code",
   "execution_count": null,
   "id": "9d7f11f3-fabd-45a1-8baf-c5b2f8617c5c",
   "metadata": {},
   "outputs": [],
   "source": []
  },
  {
   "cell_type": "code",
   "execution_count": null,
   "id": "d4e766ee-979c-42ac-8fef-ecb56825f1b2",
   "metadata": {},
   "outputs": [],
   "source": []
  },
  {
   "cell_type": "code",
   "execution_count": null,
   "id": "2f0fb5c0-0c3d-4c5b-8b10-4e6cbf4e70bc",
   "metadata": {},
   "outputs": [],
   "source": []
  },
  {
   "cell_type": "code",
   "execution_count": null,
   "id": "d182910a-1b04-4971-9937-3776c620d94b",
   "metadata": {},
   "outputs": [],
   "source": []
  },
  {
   "cell_type": "code",
   "execution_count": null,
   "id": "a75ac62d-3029-4cf4-83d9-2e4d3cf42de8",
   "metadata": {},
   "outputs": [],
   "source": []
  },
  {
   "cell_type": "code",
   "execution_count": null,
   "id": "ea926d9f-cd81-4e3e-b705-c84952258ae6",
   "metadata": {},
   "outputs": [],
   "source": []
  }
 ],
 "metadata": {
  "kernelspec": {
   "display_name": "pydatavenv",
   "language": "python",
   "name": "pydatavenv"
  },
  "language_info": {
   "codemirror_mode": {
    "name": "ipython",
    "version": 3
   },
   "file_extension": ".py",
   "mimetype": "text/x-python",
   "name": "python",
   "nbconvert_exporter": "python",
   "pygments_lexer": "ipython3",
   "version": "3.9.12"
  }
 },
 "nbformat": 4,
 "nbformat_minor": 5
}
