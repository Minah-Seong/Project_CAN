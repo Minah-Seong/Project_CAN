{
 "cells": [
  {
   "cell_type": "code",
   "execution_count": 2,
   "id": "a9dd3c93-de3f-4095-b451-be6969f3a1f6",
   "metadata": {},
   "outputs": [],
   "source": [
    "import pandas as pd\n",
    "import seaborn as sns\n",
    "import matplotlib.pyplot as plt"
   ]
  },
  {
   "cell_type": "code",
   "execution_count": 3,
   "id": "8718ffa0-65d6-482c-9834-7a1e21944768",
   "metadata": {},
   "outputs": [],
   "source": [
    "import sys                                               ## 파이썬 엔진에 대한 정보를 관리하는 모듈을 사용한다. \n",
    "from matplotlib import font_manager, rc                  ## 폰트를 관리하는 함수와 설정 함수를 사용한다. \n",
    "\n",
    "if sys.platform  == 'darwin':                             ## MAC OS의 이름을 확인한다.\n",
    "    path = '.....'  \n",
    "elif sys.platform == 'win32':                             ## Windows 이름을 확인한다.\n",
    "    path = \"font/malgun.ttf\"\n",
    "else:\n",
    "    print('Unknown system... sorry~~~~') \n",
    "    \n",
    "font_name = font_manager.FontProperties(fname=path).get_name()        ##  폰트가 있는지를 확인한다. \n",
    "rc('font', family=font_name)                                          ## 한글 폰트를 시각화 환경에 세팅한다. \n",
    "plt.rcParams['axes.unicode_minus'] = False "
   ]
  },
  {
   "cell_type": "code",
   "execution_count": 4,
   "id": "3a4d7eca-c5a1-4136-8a72-033b659251ae",
   "metadata": {},
   "outputs": [],
   "source": [
    "data = pd.read_csv('./data/주택도시보증공사_보증사고현황_20201231.csv', encoding='CP949')"
   ]
  },
  {
   "cell_type": "code",
   "execution_count": 5,
   "id": "ec7a73d1-7375-422c-b4d8-ac1f8c830b30",
   "metadata": {},
   "outputs": [
    {
     "data": {
      "text/html": [
       "<div>\n",
       "<style scoped>\n",
       "    .dataframe tbody tr th:only-of-type {\n",
       "        vertical-align: middle;\n",
       "    }\n",
       "\n",
       "    .dataframe tbody tr th {\n",
       "        vertical-align: top;\n",
       "    }\n",
       "\n",
       "    .dataframe thead th {\n",
       "        text-align: right;\n",
       "    }\n",
       "</style>\n",
       "<table border=\"1\" class=\"dataframe\">\n",
       "  <thead>\n",
       "    <tr style=\"text-align: right;\">\n",
       "      <th></th>\n",
       "      <th>연도</th>\n",
       "      <th>보증종류</th>\n",
       "      <th>건수</th>\n",
       "      <th>금액(억원)</th>\n",
       "    </tr>\n",
       "  </thead>\n",
       "  <tbody>\n",
       "    <tr>\n",
       "      <th>17</th>\n",
       "      <td>2016</td>\n",
       "      <td>전세보증금반환보증</td>\n",
       "      <td>27</td>\n",
       "      <td>34</td>\n",
       "    </tr>\n",
       "    <tr>\n",
       "      <th>38</th>\n",
       "      <td>2017</td>\n",
       "      <td>전세보증금반환보증</td>\n",
       "      <td>33</td>\n",
       "      <td>74</td>\n",
       "    </tr>\n",
       "    <tr>\n",
       "      <th>59</th>\n",
       "      <td>2018</td>\n",
       "      <td>전세보증금반환보증</td>\n",
       "      <td>372</td>\n",
       "      <td>792</td>\n",
       "    </tr>\n",
       "    <tr>\n",
       "      <th>81</th>\n",
       "      <td>2019</td>\n",
       "      <td>전세보증금반환보증</td>\n",
       "      <td>1630</td>\n",
       "      <td>3442</td>\n",
       "    </tr>\n",
       "    <tr>\n",
       "      <th>104</th>\n",
       "      <td>2020</td>\n",
       "      <td>전세보증금반환보증</td>\n",
       "      <td>2408</td>\n",
       "      <td>4682</td>\n",
       "    </tr>\n",
       "  </tbody>\n",
       "</table>\n",
       "</div>"
      ],
      "text/plain": [
       "       연도       보증종류    건수 금액(억원)\n",
       "17   2016  전세보증금반환보증    27     34\n",
       "38   2017  전세보증금반환보증    33     74\n",
       "59   2018  전세보증금반환보증   372    792\n",
       "81   2019  전세보증금반환보증  1630   3442\n",
       "104  2020  전세보증금반환보증  2408   4682"
      ]
     },
     "execution_count": 5,
     "metadata": {},
     "output_type": "execute_result"
    }
   ],
   "source": [
    "df = data[data['보증종류'] == '전세보증금반환보증']\n",
    "df"
   ]
  },
  {
   "cell_type": "code",
   "execution_count": 6,
   "id": "67f1c25a-8a91-4612-8a19-6d30f58362a5",
   "metadata": {},
   "outputs": [
    {
     "name": "stderr",
     "output_type": "stream",
     "text": [
      "C:\\Users\\Public\\Documents\\ESTsoft\\CreatorTemp\\ipykernel_10156\\2460894348.py:1: FutureWarning: The frame.append method is deprecated and will be removed from pandas in a future version. Use pandas.concat instead.\n",
      "  df = df.append({'연도': 2021, '보증종류': '전세보증금반환보증','건수': 2799, '금액(억원)': 5790},ignore_index=True)\n"
     ]
    }
   ],
   "source": [
    "df = df.append({'연도': 2021, '보증종류': '전세보증금반환보증','건수': 2799, '금액(억원)': 5790},ignore_index=True)"
   ]
  },
  {
   "cell_type": "code",
   "execution_count": 7,
   "id": "d0818520-2de8-4846-b54a-57b489cb78ea",
   "metadata": {},
   "outputs": [],
   "source": [
    "df['건수'] = pd.to_numeric(df['건수'])\n",
    "df['금액(억원)'] = pd.to_numeric(df['금액(억원)'])"
   ]
  },
  {
   "cell_type": "code",
   "execution_count": 12,
   "id": "320485e3-95bf-44ed-bb9d-f1fddd219aa9",
   "metadata": {},
   "outputs": [
    {
     "data": {
      "text/html": [
       "<div>\n",
       "<style scoped>\n",
       "    .dataframe tbody tr th:only-of-type {\n",
       "        vertical-align: middle;\n",
       "    }\n",
       "\n",
       "    .dataframe tbody tr th {\n",
       "        vertical-align: top;\n",
       "    }\n",
       "\n",
       "    .dataframe thead th {\n",
       "        text-align: right;\n",
       "    }\n",
       "</style>\n",
       "<table border=\"1\" class=\"dataframe\">\n",
       "  <thead>\n",
       "    <tr style=\"text-align: right;\">\n",
       "      <th></th>\n",
       "      <th>연도</th>\n",
       "      <th>보증종류</th>\n",
       "      <th>건수</th>\n",
       "      <th>금액(억원)</th>\n",
       "    </tr>\n",
       "  </thead>\n",
       "  <tbody>\n",
       "    <tr>\n",
       "      <th>0</th>\n",
       "      <td>2016</td>\n",
       "      <td>전세보증금반환보증</td>\n",
       "      <td>27</td>\n",
       "      <td>34</td>\n",
       "    </tr>\n",
       "    <tr>\n",
       "      <th>1</th>\n",
       "      <td>2017</td>\n",
       "      <td>전세보증금반환보증</td>\n",
       "      <td>33</td>\n",
       "      <td>74</td>\n",
       "    </tr>\n",
       "    <tr>\n",
       "      <th>2</th>\n",
       "      <td>2018</td>\n",
       "      <td>전세보증금반환보증</td>\n",
       "      <td>372</td>\n",
       "      <td>792</td>\n",
       "    </tr>\n",
       "    <tr>\n",
       "      <th>3</th>\n",
       "      <td>2019</td>\n",
       "      <td>전세보증금반환보증</td>\n",
       "      <td>1630</td>\n",
       "      <td>3442</td>\n",
       "    </tr>\n",
       "    <tr>\n",
       "      <th>4</th>\n",
       "      <td>2020</td>\n",
       "      <td>전세보증금반환보증</td>\n",
       "      <td>2408</td>\n",
       "      <td>4682</td>\n",
       "    </tr>\n",
       "    <tr>\n",
       "      <th>5</th>\n",
       "      <td>2021</td>\n",
       "      <td>전세보증금반환보증</td>\n",
       "      <td>2799</td>\n",
       "      <td>5790</td>\n",
       "    </tr>\n",
       "  </tbody>\n",
       "</table>\n",
       "</div>"
      ],
      "text/plain": [
       "     연도       보증종류    건수  금액(억원)\n",
       "0  2016  전세보증금반환보증    27      34\n",
       "1  2017  전세보증금반환보증    33      74\n",
       "2  2018  전세보증금반환보증   372     792\n",
       "3  2019  전세보증금반환보증  1630    3442\n",
       "4  2020  전세보증금반환보증  2408    4682\n",
       "5  2021  전세보증금반환보증  2799    5790"
      ]
     },
     "execution_count": 12,
     "metadata": {},
     "output_type": "execute_result"
    }
   ],
   "source": [
    "df"
   ]
  },
  {
   "cell_type": "code",
   "execution_count": 137,
   "id": "08ab95d3-eb6c-4e19-bf29-4b3bac1f755b",
   "metadata": {},
   "outputs": [
    {
     "data": {
      "image/png": "[encoded data removed]",
      "text/plain": [
       "<Figure size 720x720 with 2 Axes>"
      ]
     },
     "metadata": {
      "needs_background": "light"
     },
     "output_type": "display_data"
    }
   ],
   "source": [
    "colors = sns.color_palette('Blues',len(df['연도']))\n",
    "\n",
    "plt.rcParams['font.size'] = 15\n",
    "plt.rcParams['figure.figsize'] = (10, 10)\n",
    "\n",
    "fig, ax1 = plt.subplots()\n",
    "\n",
    "ax1.bar(df['연도'], df['건수'], color=colors, label='건수')\n",
    "ax1.legend(loc='upper left', bbox_to_anchor=(0, 0.94))\n",
    "ax1.set_xlabel('연도')\n",
    "ax1.set_ylabel('건수')\n",
    "\n",
    "ax2 = ax1.twinx()\n",
    "ax2.plot(df['연도'], df['금액(억원)'], linewidth=4, color ='orange', marker='o', markersize=10, label='금액')\n",
    "ax2.legend(loc='upper left')\n",
    "ax2.set_ylabel('금액(억원)', labelpad=10)\n",
    "\n",
    "plt.title('전세보증금반환')\n",
    "plt.show()"
   ]
  },
  {
   "cell_type": "code",
   "execution_count": 26,
   "id": "aeb7b52d-5d8b-4a25-a929-201daf35cddb",
   "metadata": {},
   "outputs": [
    {
     "data": {
      "text/plain": [
       "[2016, 2017, 2018, 2019, 2020, 2021]"
      ]
     },
     "execution_count": 26,
     "metadata": {},
     "output_type": "execute_result"
    }
   ],
   "source": [
    "list(df['연도'])"
   ]
  },
  {
   "cell_type": "code",
   "execution_count": null,
   "id": "50941bc9-a067-4ca7-a1b7-05cb34fc91c8",
   "metadata": {},
   "outputs": [],
   "source": []
  }
 ],
 "metadata": {
  "kernelspec": {
   "display_name": "pydatavenv",
   "language": "python",
   "name": "pydatavenv"
  },
  "language_info": {
   "codemirror_mode": {
    "name": "ipython",
    "version": 3
   },
   "file_extension": ".py",
   "mimetype": "text/x-python",
   "name": "python",
   "nbconvert_exporter": "python",
   "pygments_lexer": "ipython3",
   "version": "3.9.12"
  }
 },
 "nbformat": 4,
 "nbformat_minor": 5
}
