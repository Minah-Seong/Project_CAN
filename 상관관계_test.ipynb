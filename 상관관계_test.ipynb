{
 "cells": [
  {
   "cell_type": "code",
   "execution_count": 68,
   "id": "2138c895-ac4c-40af-b772-68bae7ef70dd",
   "metadata": {},
   "outputs": [],
   "source": [
    "import pandas as pd\n",
    "import seaborn as sns\n",
    "import numpy as np\n",
    "import matplotlib.pyplot as plt\n",
    "import sys\n",
    "from matplotlib import font_manager, rc, cm                ## 폰트를 관리하는 함수와 설정 함수를 사용한다. \n",
    "\n",
    "font_path = './font/GmarketSansTTFMedium.ttf'\n",
    "font_name = font_manager.FontProperties(fname=font_path).get_name()\n",
    "rc('font', family=font_name)"
   ]
  },
  {
   "cell_type": "code",
   "execution_count": 69,
   "id": "e6a659a6-ca97-4a63-a550-b90555353d9c",
   "metadata": {},
   "outputs": [],
   "source": [
    "seoul = pd.read_excel('./data/상관관계_test.xlsx', sheet_name='서울')\n",
    "seoul = seoul.set_index('연도')\n",
    "busan = pd.read_excel('./data/상관관계_test.xlsx', sheet_name='부산')\n",
    "busan = busan.set_index('연도')\n",
    "daegu = pd.read_excel('./data/상관관계_test.xlsx', sheet_name='대구')\n",
    "daegu = daegu.set_index('연도')\n",
    "incheon = pd.read_excel('./data/상관관계_test.xlsx', sheet_name='인천')\n",
    "incheon = incheon.set_index('연도')\n",
    "gwangju = pd.read_excel('./data/상관관계_test.xlsx', sheet_name='광주')\n",
    "gwangju = gwangju.set_index('연도')\n",
    "daegeon = pd.read_excel('./data/상관관계_test.xlsx', sheet_name='대전')\n",
    "daegeon = daegeon.set_index('연도')\n",
    "sum_data = pd.read_excel('./data/상관관계_test.xlsx', sheet_name='전국')\n",
    "sum_data = sum_data.set_index('연도')"
   ]
  },
  {
   "cell_type": "code",
   "execution_count": 52,
   "id": "b95d63b4-73d0-4228-86ca-04e7e90cb6a2",
   "metadata": {},
   "outputs": [
    {
     "data": {
      "text/html": [
       "<div>\n",
       "<style scoped>\n",
       "    .dataframe tbody tr th:only-of-type {\n",
       "        vertical-align: middle;\n",
       "    }\n",
       "\n",
       "    .dataframe tbody tr th {\n",
       "        vertical-align: top;\n",
       "    }\n",
       "\n",
       "    .dataframe thead th {\n",
       "        text-align: right;\n",
       "    }\n",
       "</style>\n",
       "<table border=\"1\" class=\"dataframe\">\n",
       "  <thead>\n",
       "    <tr style=\"text-align: right;\">\n",
       "      <th></th>\n",
       "      <th>건수</th>\n",
       "      <th>매매가</th>\n",
       "      <th>전세가</th>\n",
       "      <th>전세가율</th>\n",
       "    </tr>\n",
       "  </thead>\n",
       "  <tbody>\n",
       "    <tr>\n",
       "      <th>건수</th>\n",
       "      <td>1.000000</td>\n",
       "      <td>0.841803</td>\n",
       "      <td>0.917647</td>\n",
       "      <td>-0.463122</td>\n",
       "    </tr>\n",
       "    <tr>\n",
       "      <th>매매가</th>\n",
       "      <td>0.841803</td>\n",
       "      <td>1.000000</td>\n",
       "      <td>0.869020</td>\n",
       "      <td>-0.825965</td>\n",
       "    </tr>\n",
       "    <tr>\n",
       "      <th>전세가</th>\n",
       "      <td>0.917647</td>\n",
       "      <td>0.869020</td>\n",
       "      <td>1.000000</td>\n",
       "      <td>-0.442006</td>\n",
       "    </tr>\n",
       "    <tr>\n",
       "      <th>전세가율</th>\n",
       "      <td>-0.463122</td>\n",
       "      <td>-0.825965</td>\n",
       "      <td>-0.442006</td>\n",
       "      <td>1.000000</td>\n",
       "    </tr>\n",
       "  </tbody>\n",
       "</table>\n",
       "</div>"
      ],
      "text/plain": [
       "            건수       매매가       전세가      전세가율\n",
       "건수    1.000000  0.841803  0.917647 -0.463122\n",
       "매매가   0.841803  1.000000  0.869020 -0.825965\n",
       "전세가   0.917647  0.869020  1.000000 -0.442006\n",
       "전세가율 -0.463122 -0.825965 -0.442006  1.000000"
      ]
     },
     "execution_count": 52,
     "metadata": {},
     "output_type": "execute_result"
    }
   ],
   "source": [
    "sale_data = pd.DataFrame(seoul['매매가'])\n",
    "lease_data = pd.DataFrame(seoul['전세가'])\n",
    "per_data = pd.DataFrame(seoul['전세가율'])\n",
    "accident_data = pd.DataFrame(seoul['건수'])\n",
    "\n",
    "df = pd.concat([accident_data, sale_data, lease_data, per_data], join='inner', axis=1)\n",
    "df.corr()"
   ]
  },
  {
   "cell_type": "code",
   "execution_count": 53,
   "id": "b56992de-2809-4724-a6c6-f3a82dbffe2e",
   "metadata": {},
   "outputs": [
    {
     "name": "stderr",
     "output_type": "stream",
     "text": [
      "C:\\Users\\Seungjun\\anaconda3\\envs\\pydatavenv\\lib\\site-packages\\seaborn\\utils.py:95: UserWarning: Glyph 8722 (\\N{MINUS SIGN}) missing from current font.\n",
      "  fig.canvas.draw()\n",
      "C:\\Users\\Seungjun\\anaconda3\\envs\\pydatavenv\\lib\\site-packages\\IPython\\core\\pylabtools.py:151: UserWarning: Glyph 8722 (\\N{MINUS SIGN}) missing from current font.\n",
      "  fig.canvas.print_figure(bytes_io, **kw)\n"
     ]
    },
    {
     "data": {
      "image/png": "[encoded data removed]",
      "text/plain": [
       "<Figure size 504x504 with 2 Axes>"
      ]
     },
     "metadata": {
      "needs_background": "light"
     },
     "output_type": "display_data"
    }
   ],
   "source": [
    "fig, ax = plt.subplots( figsize=(7,7) )\n",
    "\n",
    "# 히트맵을 그린다\n",
    "sns.heatmap(df.corr(), \n",
    "            cmap = 'RdYlBu_r',\n",
    "            annot = True,\n",
    "            linewidths=.5,  # 경계면 실선으로 구분하기\n",
    "            cbar_kws={\"shrink\": .5},# 컬러바 크기 절반으로 줄이기\n",
    "            vmin = -1,vmax = 1   # 컬러바 범위 -1 ~ 1\n",
    "           )  \n",
    "plt.show()"
   ]
  },
  {
   "cell_type": "code",
   "execution_count": 57,
   "id": "a87bb40a-4494-4a0a-a883-04d1eb43332b",
   "metadata": {},
   "outputs": [
    {
     "data": {
      "text/html": [
       "<div>\n",
       "<style scoped>\n",
       "    .dataframe tbody tr th:only-of-type {\n",
       "        vertical-align: middle;\n",
       "    }\n",
       "\n",
       "    .dataframe tbody tr th {\n",
       "        vertical-align: top;\n",
       "    }\n",
       "\n",
       "    .dataframe thead th {\n",
       "        text-align: right;\n",
       "    }\n",
       "</style>\n",
       "<table border=\"1\" class=\"dataframe\">\n",
       "  <thead>\n",
       "    <tr style=\"text-align: right;\">\n",
       "      <th></th>\n",
       "      <th>매매가</th>\n",
       "      <th>전세가</th>\n",
       "      <th>전세가율</th>\n",
       "      <th>건수</th>\n",
       "    </tr>\n",
       "    <tr>\n",
       "      <th>연도</th>\n",
       "      <th></th>\n",
       "      <th></th>\n",
       "      <th></th>\n",
       "      <th></th>\n",
       "    </tr>\n",
       "  </thead>\n",
       "  <tbody>\n",
       "    <tr>\n",
       "      <th>2016년</th>\n",
       "      <td>23729</td>\n",
       "      <td>16120</td>\n",
       "      <td>67.933752</td>\n",
       "      <td>0</td>\n",
       "    </tr>\n",
       "    <tr>\n",
       "      <th>2017년</th>\n",
       "      <td>23770</td>\n",
       "      <td>16519</td>\n",
       "      <td>69.495162</td>\n",
       "      <td>1</td>\n",
       "    </tr>\n",
       "    <tr>\n",
       "      <th>2018년</th>\n",
       "      <td>24227</td>\n",
       "      <td>16891</td>\n",
       "      <td>69.719734</td>\n",
       "      <td>13</td>\n",
       "    </tr>\n",
       "    <tr>\n",
       "      <th>2019년</th>\n",
       "      <td>28824</td>\n",
       "      <td>16972</td>\n",
       "      <td>58.881488</td>\n",
       "      <td>56</td>\n",
       "    </tr>\n",
       "    <tr>\n",
       "      <th>2020년</th>\n",
       "      <td>32291</td>\n",
       "      <td>18157</td>\n",
       "      <td>56.229290</td>\n",
       "      <td>78</td>\n",
       "    </tr>\n",
       "  </tbody>\n",
       "</table>\n",
       "</div>"
      ],
      "text/plain": [
       "         매매가    전세가       전세가율  건수\n",
       "연도                                \n",
       "2016년  23729  16120  67.933752   0\n",
       "2017년  23770  16519  69.495162   1\n",
       "2018년  24227  16891  69.719734  13\n",
       "2019년  28824  16972  58.881488  56\n",
       "2020년  32291  18157  56.229290  78"
      ]
     },
     "execution_count": 57,
     "metadata": {},
     "output_type": "execute_result"
    }
   ],
   "source": [
    "sale_data = pd.DataFrame(busan['매매가'])\n",
    "lease_data = pd.DataFrame(busan['전세가'])\n",
    "per_data = pd.DataFrame(busan['전세가율'])\n",
    "accident_data = pd.DataFrame(busan['건수'])\n",
    "\n",
    "df = pd.concat([accident_data, sale_data, lease_data, per_data], join='inner', axis=1)\n",
    "df.corr()\n",
    "busan"
   ]
  },
  {
   "cell_type": "code",
   "execution_count": 56,
   "id": "ac28def2-2779-4150-b057-eee11f1d59a9",
   "metadata": {},
   "outputs": [
    {
     "name": "stderr",
     "output_type": "stream",
     "text": [
      "C:\\Users\\Seungjun\\anaconda3\\envs\\pydatavenv\\lib\\site-packages\\seaborn\\utils.py:95: UserWarning: Glyph 8722 (\\N{MINUS SIGN}) missing from current font.\n",
      "  fig.canvas.draw()\n",
      "C:\\Users\\Seungjun\\anaconda3\\envs\\pydatavenv\\lib\\site-packages\\IPython\\core\\pylabtools.py:151: UserWarning: Glyph 8722 (\\N{MINUS SIGN}) missing from current font.\n",
      "  fig.canvas.print_figure(bytes_io, **kw)\n"
     ]
    },
    {
     "data": {
      "image/png": "[encoded data removed]",
      "text/plain": [
       "<Figure size 504x504 with 2 Axes>"
      ]
     },
     "metadata": {
      "needs_background": "light"
     },
     "output_type": "display_data"
    }
   ],
   "source": [
    "fig, ax = plt.subplots( figsize=(7,7) )\n",
    "\n",
    "# 히트맵을 그린다\n",
    "sns.heatmap(df.corr(), \n",
    "            cmap = 'RdYlBu_r',\n",
    "            annot = True,\n",
    "            linewidths=.5,  # 경계면 실선으로 구분하기\n",
    "            cbar_kws={\"shrink\": .5},# 컬러바 크기 절반으로 줄이기\n",
    "            vmin = -1,vmax = 1   # 컬러바 범위 -1 ~ 1\n",
    "           )  \n",
    "plt.show()"
   ]
  },
  {
   "cell_type": "code",
   "execution_count": 59,
   "id": "21128476-17bd-4ec4-847f-82788ba26945",
   "metadata": {},
   "outputs": [
    {
     "data": {
      "text/html": [
       "<div>\n",
       "<style scoped>\n",
       "    .dataframe tbody tr th:only-of-type {\n",
       "        vertical-align: middle;\n",
       "    }\n",
       "\n",
       "    .dataframe tbody tr th {\n",
       "        vertical-align: top;\n",
       "    }\n",
       "\n",
       "    .dataframe thead th {\n",
       "        text-align: right;\n",
       "    }\n",
       "</style>\n",
       "<table border=\"1\" class=\"dataframe\">\n",
       "  <thead>\n",
       "    <tr style=\"text-align: right;\">\n",
       "      <th></th>\n",
       "      <th>건수</th>\n",
       "      <th>매매가</th>\n",
       "      <th>전세가</th>\n",
       "      <th>전세가율</th>\n",
       "    </tr>\n",
       "  </thead>\n",
       "  <tbody>\n",
       "    <tr>\n",
       "      <th>건수</th>\n",
       "      <td>1.000000</td>\n",
       "      <td>0.847425</td>\n",
       "      <td>0.709604</td>\n",
       "      <td>-0.948565</td>\n",
       "    </tr>\n",
       "    <tr>\n",
       "      <th>매매가</th>\n",
       "      <td>0.847425</td>\n",
       "      <td>1.000000</td>\n",
       "      <td>0.973334</td>\n",
       "      <td>-0.683859</td>\n",
       "    </tr>\n",
       "    <tr>\n",
       "      <th>전세가</th>\n",
       "      <td>0.709604</td>\n",
       "      <td>0.973334</td>\n",
       "      <td>1.000000</td>\n",
       "      <td>-0.498302</td>\n",
       "    </tr>\n",
       "    <tr>\n",
       "      <th>전세가율</th>\n",
       "      <td>-0.948565</td>\n",
       "      <td>-0.683859</td>\n",
       "      <td>-0.498302</td>\n",
       "      <td>1.000000</td>\n",
       "    </tr>\n",
       "  </tbody>\n",
       "</table>\n",
       "</div>"
      ],
      "text/plain": [
       "            건수       매매가       전세가      전세가율\n",
       "건수    1.000000  0.847425  0.709604 -0.948565\n",
       "매매가   0.847425  1.000000  0.973334 -0.683859\n",
       "전세가   0.709604  0.973334  1.000000 -0.498302\n",
       "전세가율 -0.948565 -0.683859 -0.498302  1.000000"
      ]
     },
     "execution_count": 59,
     "metadata": {},
     "output_type": "execute_result"
    }
   ],
   "source": [
    "sale_data = pd.DataFrame(incheon['매매가'])\n",
    "lease_data = pd.DataFrame(incheon['전세가'])\n",
    "per_data = pd.DataFrame(incheon['전세가율'])\n",
    "accident_data = pd.DataFrame(incheon['건수'])\n",
    "\n",
    "df = pd.concat([accident_data, sale_data, lease_data, per_data], join='inner', axis=1)\n",
    "df.corr()"
   ]
  },
  {
   "cell_type": "code",
   "execution_count": 60,
   "id": "e228cd15-259e-4551-9291-935325ecaeeb",
   "metadata": {},
   "outputs": [
    {
     "name": "stderr",
     "output_type": "stream",
     "text": [
      "C:\\Users\\Seungjun\\anaconda3\\envs\\pydatavenv\\lib\\site-packages\\seaborn\\utils.py:95: UserWarning: Glyph 8722 (\\N{MINUS SIGN}) missing from current font.\n",
      "  fig.canvas.draw()\n",
      "C:\\Users\\Seungjun\\anaconda3\\envs\\pydatavenv\\lib\\site-packages\\IPython\\core\\pylabtools.py:151: UserWarning: Glyph 8722 (\\N{MINUS SIGN}) missing from current font.\n",
      "  fig.canvas.print_figure(bytes_io, **kw)\n"
     ]
    },
    {
     "data": {
      "image/png": "[encoded data removed]",
      "text/plain": [
       "<Figure size 504x504 with 2 Axes>"
      ]
     },
     "metadata": {
      "needs_background": "light"
     },
     "output_type": "display_data"
    }
   ],
   "source": [
    "fig, ax = plt.subplots( figsize=(7,7) )\n",
    "\n",
    "# 히트맵을 그린다\n",
    "sns.heatmap(df.corr(), \n",
    "            cmap = 'RdYlBu_r',\n",
    "            annot = True,\n",
    "            linewidths=.5,  # 경계면 실선으로 구분하기\n",
    "            cbar_kws={\"shrink\": .5},# 컬러바 크기 절반으로 줄이기\n",
    "            vmin = -1,vmax = 1   # 컬러바 범위 -1 ~ 1\n",
    "           )  \n",
    "plt.show()"
   ]
  },
  {
   "cell_type": "code",
   "execution_count": 61,
   "id": "5fcf96c9-d7af-4e3f-98b5-8231aed29813",
   "metadata": {},
   "outputs": [
    {
     "data": {
      "text/html": [
       "<div>\n",
       "<style scoped>\n",
       "    .dataframe tbody tr th:only-of-type {\n",
       "        vertical-align: middle;\n",
       "    }\n",
       "\n",
       "    .dataframe tbody tr th {\n",
       "        vertical-align: top;\n",
       "    }\n",
       "\n",
       "    .dataframe thead th {\n",
       "        text-align: right;\n",
       "    }\n",
       "</style>\n",
       "<table border=\"1\" class=\"dataframe\">\n",
       "  <thead>\n",
       "    <tr style=\"text-align: right;\">\n",
       "      <th></th>\n",
       "      <th>건수</th>\n",
       "      <th>매매가</th>\n",
       "      <th>전세가</th>\n",
       "      <th>전세가율</th>\n",
       "    </tr>\n",
       "  </thead>\n",
       "  <tbody>\n",
       "    <tr>\n",
       "      <th>건수</th>\n",
       "      <td>1.000000</td>\n",
       "      <td>0.900141</td>\n",
       "      <td>0.849931</td>\n",
       "      <td>0.079128</td>\n",
       "    </tr>\n",
       "    <tr>\n",
       "      <th>매매가</th>\n",
       "      <td>0.900141</td>\n",
       "      <td>1.000000</td>\n",
       "      <td>0.917622</td>\n",
       "      <td>0.031295</td>\n",
       "    </tr>\n",
       "    <tr>\n",
       "      <th>전세가</th>\n",
       "      <td>0.849931</td>\n",
       "      <td>0.917622</td>\n",
       "      <td>1.000000</td>\n",
       "      <td>0.425835</td>\n",
       "    </tr>\n",
       "    <tr>\n",
       "      <th>전세가율</th>\n",
       "      <td>0.079128</td>\n",
       "      <td>0.031295</td>\n",
       "      <td>0.425835</td>\n",
       "      <td>1.000000</td>\n",
       "    </tr>\n",
       "  </tbody>\n",
       "</table>\n",
       "</div>"
      ],
      "text/plain": [
       "            건수       매매가       전세가      전세가율\n",
       "건수    1.000000  0.900141  0.849931  0.079128\n",
       "매매가   0.900141  1.000000  0.917622  0.031295\n",
       "전세가   0.849931  0.917622  1.000000  0.425835\n",
       "전세가율  0.079128  0.031295  0.425835  1.000000"
      ]
     },
     "execution_count": 61,
     "metadata": {},
     "output_type": "execute_result"
    }
   ],
   "source": [
    "sale_data = pd.DataFrame(gwangju['매매가'])\n",
    "lease_data = pd.DataFrame(gwangju['전세가'])\n",
    "per_data = pd.DataFrame(gwangju['전세가율'])\n",
    "accident_data = pd.DataFrame(gwangju['건수'])\n",
    "\n",
    "df = pd.concat([accident_data, sale_data, lease_data, per_data], join='inner', axis=1)\n",
    "df.corr()"
   ]
  },
  {
   "cell_type": "code",
   "execution_count": 62,
   "id": "757d0945-fc3d-458c-b76d-7fea409f454c",
   "metadata": {},
   "outputs": [
    {
     "name": "stderr",
     "output_type": "stream",
     "text": [
      "C:\\Users\\Seungjun\\anaconda3\\envs\\pydatavenv\\lib\\site-packages\\seaborn\\utils.py:95: UserWarning: Glyph 8722 (\\N{MINUS SIGN}) missing from current font.\n",
      "  fig.canvas.draw()\n",
      "C:\\Users\\Seungjun\\anaconda3\\envs\\pydatavenv\\lib\\site-packages\\IPython\\core\\pylabtools.py:151: UserWarning: Glyph 8722 (\\N{MINUS SIGN}) missing from current font.\n",
      "  fig.canvas.print_figure(bytes_io, **kw)\n"
     ]
    },
    {
     "data": {
      "image/png": "[encoded data removed]",
      "text/plain": [
       "<Figure size 504x504 with 2 Axes>"
      ]
     },
     "metadata": {
      "needs_background": "light"
     },
     "output_type": "display_data"
    }
   ],
   "source": [
    "fig, ax = plt.subplots( figsize=(7,7) )\n",
    "\n",
    "# 히트맵을 그린다\n",
    "sns.heatmap(df.corr(), \n",
    "            cmap = 'RdYlBu_r',\n",
    "            annot = True,\n",
    "            linewidths=.5,  # 경계면 실선으로 구분하기\n",
    "            cbar_kws={\"shrink\": .5},# 컬러바 크기 절반으로 줄이기\n",
    "            vmin = -1,vmax = 1   # 컬러바 범위 -1 ~ 1\n",
    "           )  \n",
    "plt.show()"
   ]
  },
  {
   "cell_type": "code",
   "execution_count": 63,
   "id": "fe0b99b1-1162-47f6-8c72-0812f9403e8b",
   "metadata": {},
   "outputs": [
    {
     "data": {
      "text/html": [
       "<div>\n",
       "<style scoped>\n",
       "    .dataframe tbody tr th:only-of-type {\n",
       "        vertical-align: middle;\n",
       "    }\n",
       "\n",
       "    .dataframe tbody tr th {\n",
       "        vertical-align: top;\n",
       "    }\n",
       "\n",
       "    .dataframe thead th {\n",
       "        text-align: right;\n",
       "    }\n",
       "</style>\n",
       "<table border=\"1\" class=\"dataframe\">\n",
       "  <thead>\n",
       "    <tr style=\"text-align: right;\">\n",
       "      <th></th>\n",
       "      <th>건수</th>\n",
       "      <th>매매가</th>\n",
       "      <th>전세가</th>\n",
       "      <th>전세가율</th>\n",
       "    </tr>\n",
       "  </thead>\n",
       "  <tbody>\n",
       "    <tr>\n",
       "      <th>건수</th>\n",
       "      <td>1.000000</td>\n",
       "      <td>0.465817</td>\n",
       "      <td>0.452891</td>\n",
       "      <td>0.417446</td>\n",
       "    </tr>\n",
       "    <tr>\n",
       "      <th>매매가</th>\n",
       "      <td>0.465817</td>\n",
       "      <td>1.000000</td>\n",
       "      <td>0.982403</td>\n",
       "      <td>0.856651</td>\n",
       "    </tr>\n",
       "    <tr>\n",
       "      <th>전세가</th>\n",
       "      <td>0.452891</td>\n",
       "      <td>0.982403</td>\n",
       "      <td>1.000000</td>\n",
       "      <td>0.937592</td>\n",
       "    </tr>\n",
       "    <tr>\n",
       "      <th>전세가율</th>\n",
       "      <td>0.417446</td>\n",
       "      <td>0.856651</td>\n",
       "      <td>0.937592</td>\n",
       "      <td>1.000000</td>\n",
       "    </tr>\n",
       "  </tbody>\n",
       "</table>\n",
       "</div>"
      ],
      "text/plain": [
       "            건수       매매가       전세가      전세가율\n",
       "건수    1.000000  0.465817  0.452891  0.417446\n",
       "매매가   0.465817  1.000000  0.982403  0.856651\n",
       "전세가   0.452891  0.982403  1.000000  0.937592\n",
       "전세가율  0.417446  0.856651  0.937592  1.000000"
      ]
     },
     "execution_count": 63,
     "metadata": {},
     "output_type": "execute_result"
    }
   ],
   "source": [
    "sale_data = pd.DataFrame(daegu['매매가'])\n",
    "lease_data = pd.DataFrame(daegu['전세가'])\n",
    "per_data = pd.DataFrame(daegu['전세가율'])\n",
    "accident_data = pd.DataFrame(daegu['건수'])\n",
    "\n",
    "df = pd.concat([accident_data, sale_data, lease_data, per_data], join='inner', axis=1)\n",
    "df.corr()"
   ]
  },
  {
   "cell_type": "code",
   "execution_count": 64,
   "id": "ebc3c89e-9b37-4526-b805-046e0945c18a",
   "metadata": {},
   "outputs": [
    {
     "name": "stderr",
     "output_type": "stream",
     "text": [
      "C:\\Users\\Seungjun\\anaconda3\\envs\\pydatavenv\\lib\\site-packages\\seaborn\\utils.py:95: UserWarning: Glyph 8722 (\\N{MINUS SIGN}) missing from current font.\n",
      "  fig.canvas.draw()\n",
      "C:\\Users\\Seungjun\\anaconda3\\envs\\pydatavenv\\lib\\site-packages\\IPython\\core\\pylabtools.py:151: UserWarning: Glyph 8722 (\\N{MINUS SIGN}) missing from current font.\n",
      "  fig.canvas.print_figure(bytes_io, **kw)\n"
     ]
    },
    {
     "data": {
      "image/png": "[encoded data removed]",
      "text/plain": [
       "<Figure size 504x504 with 2 Axes>"
      ]
     },
     "metadata": {
      "needs_background": "light"
     },
     "output_type": "display_data"
    }
   ],
   "source": [
    "fig, ax = plt.subplots( figsize=(7,7) )\n",
    "\n",
    "# 히트맵을 그린다\n",
    "sns.heatmap(df.corr(), \n",
    "            cmap = 'RdYlBu_r',\n",
    "            annot = True,\n",
    "            linewidths=.5,  # 경계면 실선으로 구분하기\n",
    "            cbar_kws={\"shrink\": .5},# 컬러바 크기 절반으로 줄이기\n",
    "            vmin = -1,vmax = 1   # 컬러바 범위 -1 ~ 1\n",
    "           )  \n",
    "plt.show()"
   ]
  },
  {
   "cell_type": "code",
   "execution_count": 70,
   "id": "a99f8bf8-6e76-4050-a606-0afa240296d4",
   "metadata": {},
   "outputs": [
    {
     "data": {
      "text/html": [
       "<div>\n",
       "<style scoped>\n",
       "    .dataframe tbody tr th:only-of-type {\n",
       "        vertical-align: middle;\n",
       "    }\n",
       "\n",
       "    .dataframe tbody tr th {\n",
       "        vertical-align: top;\n",
       "    }\n",
       "\n",
       "    .dataframe thead th {\n",
       "        text-align: right;\n",
       "    }\n",
       "</style>\n",
       "<table border=\"1\" class=\"dataframe\">\n",
       "  <thead>\n",
       "    <tr style=\"text-align: right;\">\n",
       "      <th></th>\n",
       "      <th>건수</th>\n",
       "      <th>매매가</th>\n",
       "      <th>전세가</th>\n",
       "      <th>전세가율</th>\n",
       "    </tr>\n",
       "  </thead>\n",
       "  <tbody>\n",
       "    <tr>\n",
       "      <th>건수</th>\n",
       "      <td>1.000000</td>\n",
       "      <td>0.868264</td>\n",
       "      <td>0.902196</td>\n",
       "      <td>0.446706</td>\n",
       "    </tr>\n",
       "    <tr>\n",
       "      <th>매매가</th>\n",
       "      <td>0.868264</td>\n",
       "      <td>1.000000</td>\n",
       "      <td>0.756113</td>\n",
       "      <td>0.077193</td>\n",
       "    </tr>\n",
       "    <tr>\n",
       "      <th>전세가</th>\n",
       "      <td>0.902196</td>\n",
       "      <td>0.756113</td>\n",
       "      <td>1.000000</td>\n",
       "      <td>0.710755</td>\n",
       "    </tr>\n",
       "    <tr>\n",
       "      <th>전세가율</th>\n",
       "      <td>0.446706</td>\n",
       "      <td>0.077193</td>\n",
       "      <td>0.710755</td>\n",
       "      <td>1.000000</td>\n",
       "    </tr>\n",
       "  </tbody>\n",
       "</table>\n",
       "</div>"
      ],
      "text/plain": [
       "            건수       매매가       전세가      전세가율\n",
       "건수    1.000000  0.868264  0.902196  0.446706\n",
       "매매가   0.868264  1.000000  0.756113  0.077193\n",
       "전세가   0.902196  0.756113  1.000000  0.710755\n",
       "전세가율  0.446706  0.077193  0.710755  1.000000"
      ]
     },
     "execution_count": 70,
     "metadata": {},
     "output_type": "execute_result"
    }
   ],
   "source": [
    "sale_data = pd.DataFrame(sum_data['매매가'])\n",
    "lease_data = pd.DataFrame(sum_data['전세가'])\n",
    "per_data = pd.DataFrame(sum_data['전세가율'])\n",
    "accident_data = pd.DataFrame(sum_data['건수'])\n",
    "\n",
    "df = pd.concat([accident_data, sale_data, lease_data, per_data], join='inner', axis=1)\n",
    "df.corr()"
   ]
  },
  {
   "cell_type": "code",
   "execution_count": 71,
   "id": "9cb0c25d-7253-4485-87eb-698857d8b8ea",
   "metadata": {},
   "outputs": [
    {
     "name": "stderr",
     "output_type": "stream",
     "text": [
      "C:\\Users\\Seungjun\\anaconda3\\envs\\pydatavenv\\lib\\site-packages\\seaborn\\utils.py:95: UserWarning: Glyph 8722 (\\N{MINUS SIGN}) missing from current font.\n",
      "  fig.canvas.draw()\n",
      "C:\\Users\\Seungjun\\anaconda3\\envs\\pydatavenv\\lib\\site-packages\\IPython\\core\\pylabtools.py:151: UserWarning: Glyph 8722 (\\N{MINUS SIGN}) missing from current font.\n",
      "  fig.canvas.print_figure(bytes_io, **kw)\n"
     ]
    },
    {
     "data": {
      "image/png": "[encoded data removed]",
      "text/plain": [
       "<Figure size 504x504 with 2 Axes>"
      ]
     },
     "metadata": {
      "needs_background": "light"
     },
     "output_type": "display_data"
    }
   ],
   "source": [
    "fig, ax = plt.subplots( figsize=(7,7) )\n",
    "\n",
    "# 히트맵을 그린다\n",
    "sns.heatmap(df.corr(), \n",
    "            cmap = 'RdYlBu_r',\n",
    "            annot = True,\n",
    "            linewidths=.5,  # 경계면 실선으로 구분하기\n",
    "            cbar_kws={\"shrink\": .5},# 컬러바 크기 절반으로 줄이기\n",
    "            vmin = -1,vmax = 1   # 컬러바 범위 -1 ~ 1\n",
    "           )  \n",
    "plt.show()"
   ]
  },
  {
   "cell_type": "code",
   "execution_count": null,
   "id": "a0cca122-972b-4669-9fb7-de53062513eb",
   "metadata": {},
   "outputs": [],
   "source": []
  }
 ],
 "metadata": {
  "kernelspec": {
   "display_name": "pydatavenv",
   "language": "python",
   "name": "pydatavenv"
  },
  "language_info": {
   "codemirror_mode": {
    "name": "ipython",
    "version": 3
   },
   "file_extension": ".py",
   "mimetype": "text/x-python",
   "name": "python",
   "nbconvert_exporter": "python",
   "pygments_lexer": "ipython3",
   "version": "3.9.12"
  }
 },
 "nbformat": 4,
 "nbformat_minor": 5
}
