{
 "cells": [
  {
   "cell_type": "code",
   "execution_count": 78,
   "id": "2138c895-ac4c-40af-b772-68bae7ef70dd",
   "metadata": {},
   "outputs": [],
   "source": [
    "import pandas as pd\n",
    "import seaborn as sns\n",
    "import numpy as np\n",
    "import matplotlib.pyplot as plt\n",
    "import sys\n",
    "from matplotlib import font_manager, rc, cm                ## 폰트를 관리하는 함수와 설정 함수를 사용한다. \n",
    "\n",
    "font_path = './font/GmarketSansTTFMedium.ttf'\n",
    "font_name = font_manager.FontProperties(fname=font_path).get_name()\n",
    "rc('font', family=font_name)"
   ]
  },
  {
   "cell_type": "code",
   "execution_count": 84,
   "id": "e6a659a6-ca97-4a63-a550-b90555353d9c",
   "metadata": {},
   "outputs": [
    {
     "data": {
      "text/html": [
       "<div>\n",
       "<style scoped>\n",
       "    .dataframe tbody tr th:only-of-type {\n",
       "        vertical-align: middle;\n",
       "    }\n",
       "\n",
       "    .dataframe tbody tr th {\n",
       "        vertical-align: top;\n",
       "    }\n",
       "\n",
       "    .dataframe thead th {\n",
       "        text-align: right;\n",
       "    }\n",
       "</style>\n",
       "<table border=\"1\" class=\"dataframe\">\n",
       "  <thead>\n",
       "    <tr style=\"text-align: right;\">\n",
       "      <th></th>\n",
       "      <th>매매가</th>\n",
       "    </tr>\n",
       "    <tr>\n",
       "      <th>연도</th>\n",
       "      <th></th>\n",
       "    </tr>\n",
       "  </thead>\n",
       "  <tbody>\n",
       "    <tr>\n",
       "      <th>2016년</th>\n",
       "      <td>26998</td>\n",
       "    </tr>\n",
       "    <tr>\n",
       "      <th>2017년</th>\n",
       "      <td>29446</td>\n",
       "    </tr>\n",
       "    <tr>\n",
       "      <th>2018년</th>\n",
       "      <td>30771</td>\n",
       "    </tr>\n",
       "    <tr>\n",
       "      <th>2019년</th>\n",
       "      <td>32540</td>\n",
       "    </tr>\n",
       "    <tr>\n",
       "      <th>2020년</th>\n",
       "      <td>33673</td>\n",
       "    </tr>\n",
       "    <tr>\n",
       "      <th>2021년</th>\n",
       "      <td>32721</td>\n",
       "    </tr>\n",
       "  </tbody>\n",
       "</table>\n",
       "</div>"
      ],
      "text/plain": [
       "         매매가\n",
       "연도          \n",
       "2016년  26998\n",
       "2017년  29446\n",
       "2018년  30771\n",
       "2019년  32540\n",
       "2020년  33673\n",
       "2021년  32721"
      ]
     },
     "execution_count": 84,
     "metadata": {},
     "output_type": "execute_result"
    }
   ],
   "source": [
    "data = pd.read_excel('./data/매매_전세_전세가율_평균.xlsx', sheet_name='호당')\n",
    "data = data.set_index('연도')\n",
    "\n",
    "sale_data = pd.DataFrame(data['매매가'])\n",
    "lease_data = pd.DataFrame(data['전세가'])\n",
    "per_data = pd.DataFrame(data['전세가율'])\n",
    "\n",
    "sale_data"
   ]
  },
  {
   "cell_type": "code",
   "execution_count": 85,
   "id": "6beffecc-2994-4116-8ab7-b527db92b802",
   "metadata": {},
   "outputs": [
    {
     "data": {
      "text/html": [
       "<div>\n",
       "<style scoped>\n",
       "    .dataframe tbody tr th:only-of-type {\n",
       "        vertical-align: middle;\n",
       "    }\n",
       "\n",
       "    .dataframe tbody tr th {\n",
       "        vertical-align: top;\n",
       "    }\n",
       "\n",
       "    .dataframe thead th {\n",
       "        text-align: right;\n",
       "    }\n",
       "</style>\n",
       "<table border=\"1\" class=\"dataframe\">\n",
       "  <thead>\n",
       "    <tr style=\"text-align: right;\">\n",
       "      <th></th>\n",
       "      <th>건수</th>\n",
       "    </tr>\n",
       "    <tr>\n",
       "      <th>연도</th>\n",
       "      <th></th>\n",
       "    </tr>\n",
       "  </thead>\n",
       "  <tbody>\n",
       "    <tr>\n",
       "      <th>2016년</th>\n",
       "      <td>27</td>\n",
       "    </tr>\n",
       "    <tr>\n",
       "      <th>2017년</th>\n",
       "      <td>33</td>\n",
       "    </tr>\n",
       "    <tr>\n",
       "      <th>2018년</th>\n",
       "      <td>372</td>\n",
       "    </tr>\n",
       "    <tr>\n",
       "      <th>2019년</th>\n",
       "      <td>1630</td>\n",
       "    </tr>\n",
       "    <tr>\n",
       "      <th>2020년</th>\n",
       "      <td>2408</td>\n",
       "    </tr>\n",
       "    <tr>\n",
       "      <th>2021년</th>\n",
       "      <td>2799</td>\n",
       "    </tr>\n",
       "  </tbody>\n",
       "</table>\n",
       "</div>"
      ],
      "text/plain": [
       "         건수\n",
       "연도         \n",
       "2016년    27\n",
       "2017년    33\n",
       "2018년   372\n",
       "2019년  1630\n",
       "2020년  2408\n",
       "2021년  2799"
      ]
     },
     "execution_count": 85,
     "metadata": {},
     "output_type": "execute_result"
    }
   ],
   "source": [
    "data = pd.read_csv('./data/깡통전세_사고현황(연도별).csv', encoding = 'CP949')\n",
    "data = data.set_index('연도')\n",
    "accident_data = pd.DataFrame(data[data['보증종류'] == '전세보증금반환보증']['건수'])\n",
    "accident_data"
   ]
  },
  {
   "cell_type": "code",
   "execution_count": 86,
   "id": "5bb10929-b907-408d-8434-1d582eb86b8d",
   "metadata": {},
   "outputs": [
    {
     "data": {
      "text/html": [
       "<div>\n",
       "<style scoped>\n",
       "    .dataframe tbody tr th:only-of-type {\n",
       "        vertical-align: middle;\n",
       "    }\n",
       "\n",
       "    .dataframe tbody tr th {\n",
       "        vertical-align: top;\n",
       "    }\n",
       "\n",
       "    .dataframe thead th {\n",
       "        text-align: right;\n",
       "    }\n",
       "</style>\n",
       "<table border=\"1\" class=\"dataframe\">\n",
       "  <thead>\n",
       "    <tr style=\"text-align: right;\">\n",
       "      <th></th>\n",
       "      <th>건수</th>\n",
       "      <th>매매가</th>\n",
       "      <th>전세가</th>\n",
       "      <th>전세가율</th>\n",
       "    </tr>\n",
       "    <tr>\n",
       "      <th>연도</th>\n",
       "      <th></th>\n",
       "      <th></th>\n",
       "      <th></th>\n",
       "      <th></th>\n",
       "    </tr>\n",
       "  </thead>\n",
       "  <tbody>\n",
       "    <tr>\n",
       "      <th>2016년</th>\n",
       "      <td>27</td>\n",
       "      <td>26998</td>\n",
       "      <td>18140</td>\n",
       "      <td>0.671902</td>\n",
       "    </tr>\n",
       "    <tr>\n",
       "      <th>2017년</th>\n",
       "      <td>33</td>\n",
       "      <td>29446</td>\n",
       "      <td>19287</td>\n",
       "      <td>0.654996</td>\n",
       "    </tr>\n",
       "    <tr>\n",
       "      <th>2018년</th>\n",
       "      <td>372</td>\n",
       "      <td>30771</td>\n",
       "      <td>19907</td>\n",
       "      <td>0.646940</td>\n",
       "    </tr>\n",
       "    <tr>\n",
       "      <th>2019년</th>\n",
       "      <td>1630</td>\n",
       "      <td>32540</td>\n",
       "      <td>20191</td>\n",
       "      <td>0.620498</td>\n",
       "    </tr>\n",
       "    <tr>\n",
       "      <th>2020년</th>\n",
       "      <td>2408</td>\n",
       "      <td>33673</td>\n",
       "      <td>21920</td>\n",
       "      <td>0.650967</td>\n",
       "    </tr>\n",
       "    <tr>\n",
       "      <th>2021년</th>\n",
       "      <td>2799</td>\n",
       "      <td>32721</td>\n",
       "      <td>24799</td>\n",
       "      <td>0.757892</td>\n",
       "    </tr>\n",
       "  </tbody>\n",
       "</table>\n",
       "</div>"
      ],
      "text/plain": [
       "         건수    매매가    전세가      전세가율\n",
       "연도                                 \n",
       "2016년    27  26998  18140  0.671902\n",
       "2017년    33  29446  19287  0.654996\n",
       "2018년   372  30771  19907  0.646940\n",
       "2019년  1630  32540  20191  0.620498\n",
       "2020년  2408  33673  21920  0.650967\n",
       "2021년  2799  32721  24799  0.757892"
      ]
     },
     "execution_count": 86,
     "metadata": {},
     "output_type": "execute_result"
    }
   ],
   "source": [
    "df = pd.concat([accident_data, sale_data, lease_data, per_data], join='inner', axis=1)\n",
    "df"
   ]
  },
  {
   "cell_type": "code",
   "execution_count": 87,
   "id": "3c88d3c3-e0a3-4e01-80ea-fd4822d6644f",
   "metadata": {},
   "outputs": [
    {
     "data": {
      "text/html": [
       "<div>\n",
       "<style scoped>\n",
       "    .dataframe tbody tr th:only-of-type {\n",
       "        vertical-align: middle;\n",
       "    }\n",
       "\n",
       "    .dataframe tbody tr th {\n",
       "        vertical-align: top;\n",
       "    }\n",
       "\n",
       "    .dataframe thead th {\n",
       "        text-align: right;\n",
       "    }\n",
       "</style>\n",
       "<table border=\"1\" class=\"dataframe\">\n",
       "  <thead>\n",
       "    <tr style=\"text-align: right;\">\n",
       "      <th></th>\n",
       "      <th>건수</th>\n",
       "      <th>매매가</th>\n",
       "      <th>전세가</th>\n",
       "      <th>전세가율</th>\n",
       "    </tr>\n",
       "  </thead>\n",
       "  <tbody>\n",
       "    <tr>\n",
       "      <th>건수</th>\n",
       "      <td>1.000000</td>\n",
       "      <td>0.868264</td>\n",
       "      <td>0.902196</td>\n",
       "      <td>0.446706</td>\n",
       "    </tr>\n",
       "    <tr>\n",
       "      <th>매매가</th>\n",
       "      <td>0.868264</td>\n",
       "      <td>1.000000</td>\n",
       "      <td>0.756113</td>\n",
       "      <td>0.077193</td>\n",
       "    </tr>\n",
       "    <tr>\n",
       "      <th>전세가</th>\n",
       "      <td>0.902196</td>\n",
       "      <td>0.756113</td>\n",
       "      <td>1.000000</td>\n",
       "      <td>0.710755</td>\n",
       "    </tr>\n",
       "    <tr>\n",
       "      <th>전세가율</th>\n",
       "      <td>0.446706</td>\n",
       "      <td>0.077193</td>\n",
       "      <td>0.710755</td>\n",
       "      <td>1.000000</td>\n",
       "    </tr>\n",
       "  </tbody>\n",
       "</table>\n",
       "</div>"
      ],
      "text/plain": [
       "            건수       매매가       전세가      전세가율\n",
       "건수    1.000000  0.868264  0.902196  0.446706\n",
       "매매가   0.868264  1.000000  0.756113  0.077193\n",
       "전세가   0.902196  0.756113  1.000000  0.710755\n",
       "전세가율  0.446706  0.077193  0.710755  1.000000"
      ]
     },
     "execution_count": 87,
     "metadata": {},
     "output_type": "execute_result"
    }
   ],
   "source": [
    "df.corr()"
   ]
  },
  {
   "cell_type": "code",
   "execution_count": 88,
   "id": "b56992de-2809-4724-a6c6-f3a82dbffe2e",
   "metadata": {},
   "outputs": [
    {
     "name": "stderr",
     "output_type": "stream",
     "text": [
      "C:\\Users\\Seungjun\\anaconda3\\envs\\pydatavenv\\lib\\site-packages\\seaborn\\utils.py:95: UserWarning: Glyph 8722 (\\N{MINUS SIGN}) missing from current font.\n",
      "  fig.canvas.draw()\n",
      "C:\\Users\\Seungjun\\anaconda3\\envs\\pydatavenv\\lib\\site-packages\\IPython\\core\\pylabtools.py:151: UserWarning: Glyph 8722 (\\N{MINUS SIGN}) missing from current font.\n",
      "  fig.canvas.print_figure(bytes_io, **kw)\n"
     ]
    },
    {
     "data": {
      "image/png": "[encoded data removed]",
      "text/plain": [
       "<Figure size 504x504 with 2 Axes>"
      ]
     },
     "metadata": {
      "needs_background": "light"
     },
     "output_type": "display_data"
    }
   ],
   "source": [
    "fig, ax = plt.subplots( figsize=(7,7) )\n",
    "\n",
    "# 히트맵을 그린다\n",
    "sns.heatmap(df.corr(), \n",
    "            cmap = 'RdYlBu_r',\n",
    "            annot = True,\n",
    "            linewidths=.5,  # 경계면 실선으로 구분하기\n",
    "            cbar_kws={\"shrink\": .5},# 컬러바 크기 절반으로 줄이기\n",
    "            vmin = -1,vmax = 1   # 컬러바 범위 -1 ~ 1\n",
    "           )  \n",
    "plt.show()"
   ]
  },
  {
   "cell_type": "code",
   "execution_count": null,
   "id": "c5b2dd93-4491-4898-9902-202d6634b3f2",
   "metadata": {},
   "outputs": [],
   "source": []
  },
  {
   "cell_type": "code",
   "execution_count": null,
   "id": "8a54cc5f-e3d2-47ba-abbc-610185ecb6bf",
   "metadata": {},
   "outputs": [],
   "source": []
  }
 ],
 "metadata": {
  "kernelspec": {
   "display_name": "pydatavenv",
   "language": "python",
   "name": "pydatavenv"
  },
  "language_info": {
   "codemirror_mode": {
    "name": "ipython",
    "version": 3
   },
   "file_extension": ".py",
   "mimetype": "text/x-python",
   "name": "python",
   "nbconvert_exporter": "python",
   "pygments_lexer": "ipython3",
   "version": "3.9.12"
  }
 },
 "nbformat": 4,
 "nbformat_minor": 5
}
