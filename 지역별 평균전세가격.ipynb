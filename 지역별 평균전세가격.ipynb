{
 "cells": [
  {
   "cell_type": "code",
   "execution_count": 42,
   "id": "2f034d07-a9a9-429f-b31f-754a2fe766b4",
   "metadata": {},
   "outputs": [],
   "source": [
    "import pandas as pd\n",
    "import seaborn as sns\n",
    "import numpy as np\n",
    "import matplotlib.pyplot as plt\n",
    "import sys\n",
    "from matplotlib import font_manager, rc, cm                ## 폰트를 관리하는 함수와 설정 함수를 사용한다. \n",
    "\n",
    "font_path = './font/malgun.ttf'\n",
    "font_name = font_manager.FontProperties(fname=font_path).get_name()\n",
    "rc('font', family=font_name)"
   ]
  },
  {
   "cell_type": "code",
   "execution_count": 44,
   "id": "2e86884e-1585-472a-a145-1948fa7d8504",
   "metadata": {},
   "outputs": [
    {
     "data": {
      "text/html": [
       "<div>\n",
       "<style scoped>\n",
       "    .dataframe tbody tr th:only-of-type {\n",
       "        vertical-align: middle;\n",
       "    }\n",
       "\n",
       "    .dataframe tbody tr th {\n",
       "        vertical-align: top;\n",
       "    }\n",
       "\n",
       "    .dataframe thead th {\n",
       "        text-align: right;\n",
       "    }\n",
       "</style>\n",
       "<table border=\"1\" class=\"dataframe\">\n",
       "  <thead>\n",
       "    <tr style=\"text-align: right;\">\n",
       "      <th></th>\n",
       "      <th>2019년 01월</th>\n",
       "      <th>2019년 07월</th>\n",
       "      <th>2020년 01월</th>\n",
       "      <th>2020년 07월</th>\n",
       "      <th>2020년 01월</th>\n",
       "      <th>2021년 07월</th>\n",
       "      <th>2022년 01월</th>\n",
       "    </tr>\n",
       "    <tr>\n",
       "      <th>지 역</th>\n",
       "      <th></th>\n",
       "      <th></th>\n",
       "      <th></th>\n",
       "      <th></th>\n",
       "      <th></th>\n",
       "      <th></th>\n",
       "      <th></th>\n",
       "    </tr>\n",
       "  </thead>\n",
       "  <tbody>\n",
       "    <tr>\n",
       "      <th>전국</th>\n",
       "      <td>190358</td>\n",
       "      <td>187382</td>\n",
       "      <td>193470</td>\n",
       "      <td>196901</td>\n",
       "      <td>193470</td>\n",
       "      <td>248136</td>\n",
       "      <td>255434</td>\n",
       "    </tr>\n",
       "    <tr>\n",
       "      <th>수도권</th>\n",
       "      <td>260395</td>\n",
       "      <td>255932</td>\n",
       "      <td>265503</td>\n",
       "      <td>270932</td>\n",
       "      <td>265503</td>\n",
       "      <td>357452</td>\n",
       "      <td>368592</td>\n",
       "    </tr>\n",
       "    <tr>\n",
       "      <th>지방권</th>\n",
       "      <td>126718</td>\n",
       "      <td>125094</td>\n",
       "      <td>127572</td>\n",
       "      <td>129176</td>\n",
       "      <td>127572</td>\n",
       "      <td>154849</td>\n",
       "      <td>158838</td>\n",
       "    </tr>\n",
       "  </tbody>\n",
       "</table>\n",
       "</div>"
      ],
      "text/plain": [
       "     2019년 01월  2019년 07월  2020년 01월  2020년 07월  2020년 01월  2021년 07월  \\\n",
       "지 역                                                                     \n",
       "전국      190358     187382     193470     196901     193470     248136   \n",
       "수도권     260395     255932     265503     270932     265503     357452   \n",
       "지방권     126718     125094     127572     129176     127572     154849   \n",
       "\n",
       "     2022년 01월  \n",
       "지 역             \n",
       "전국      255434  \n",
       "수도권     368592  \n",
       "지방권     158838  "
      ]
     },
     "metadata": {},
     "output_type": "display_data"
    }
   ],
   "source": [
    "df = pd.read_excel('./data/price/평균전세가격_종합.xlsx', engine='openpyxl', header=10)\n",
    "df.set_index('지 역', inplace=True)\n",
    "df_price = df.loc[['전국','수도권','지방권']]\n",
    "\n",
    "ndf = df_price[['2019년 01월','2019년 07월','2020년 01월','2020년 07월','2020년 01월','2021년 07월','2022년 01월']]\n",
    "display(ndf)"
   ]
  },
  {
   "cell_type": "code",
   "execution_count": 35,
   "id": "f839eda3-aa3d-478b-ba2a-40e344842cc7",
   "metadata": {},
   "outputs": [
    {
     "data": {
      "text/html": [
       "<div>\n",
       "<style scoped>\n",
       "    .dataframe tbody tr th:only-of-type {\n",
       "        vertical-align: middle;\n",
       "    }\n",
       "\n",
       "    .dataframe tbody tr th {\n",
       "        vertical-align: top;\n",
       "    }\n",
       "\n",
       "    .dataframe thead th {\n",
       "        text-align: right;\n",
       "    }\n",
       "</style>\n",
       "<table border=\"1\" class=\"dataframe\">\n",
       "  <thead>\n",
       "    <tr style=\"text-align: right;\">\n",
       "      <th></th>\n",
       "      <th>2019년 01월</th>\n",
       "      <th>2019년 02월</th>\n",
       "    </tr>\n",
       "    <tr>\n",
       "      <th>지 역</th>\n",
       "      <th></th>\n",
       "      <th></th>\n",
       "    </tr>\n",
       "  </thead>\n",
       "  <tbody>\n",
       "    <tr>\n",
       "      <th>전국</th>\n",
       "      <td>190358</td>\n",
       "      <td>189717</td>\n",
       "    </tr>\n",
       "    <tr>\n",
       "      <th>수도권</th>\n",
       "      <td>260395</td>\n",
       "      <td>259216</td>\n",
       "    </tr>\n",
       "    <tr>\n",
       "      <th>지방권</th>\n",
       "      <td>126718</td>\n",
       "      <td>126567</td>\n",
       "    </tr>\n",
       "  </tbody>\n",
       "</table>\n",
       "</div>"
      ],
      "text/plain": [
       "     2019년 01월  2019년 02월\n",
       "지 역                      \n",
       "전국      190358     189717\n",
       "수도권     260395     259216\n",
       "지방권     126718     126567"
      ]
     },
     "metadata": {},
     "output_type": "display_data"
    }
   ],
   "source": [
    "colors = sns.color_palette('Blues',len(data.columns))\n",
    "\n",
    "plt.rcParams['font.size'] = 15\n",
    "plt.rcParams['figure.figsize'] = (20, 12)\n",
    "\n",
    "fig, ax1 = plt.subplots()\n",
    "\n",
    "ax1 = ndf"
   ]
  },
  {
   "cell_type": "code",
   "execution_count": null,
   "id": "01484f2f-fe0b-4b1b-b580-66fbcbcb4143",
   "metadata": {},
   "outputs": [],
   "source": []
  },
  {
   "cell_type": "code",
   "execution_count": null,
   "id": "a4459072-5c41-4a0b-b106-ba7dba38bb5c",
   "metadata": {},
   "outputs": [],
   "source": []
  },
  {
   "cell_type": "code",
   "execution_count": null,
   "id": "fe6d19c8-d958-43dd-b27b-940c03e0b996",
   "metadata": {},
   "outputs": [],
   "source": []
  },
  {
   "cell_type": "code",
   "execution_count": null,
   "id": "21f080f6-95e3-4150-b4f8-078d6e1b1120",
   "metadata": {},
   "outputs": [],
   "source": []
  },
  {
   "cell_type": "code",
   "execution_count": null,
   "id": "237edf70-c22e-4c3e-b761-bdecda9c7438",
   "metadata": {},
   "outputs": [],
   "source": []
  },
  {
   "cell_type": "code",
   "execution_count": null,
   "id": "24a0221e-fc56-4fdc-a6a2-d19f5cd3c351",
   "metadata": {},
   "outputs": [],
   "source": []
  },
  {
   "cell_type": "code",
   "execution_count": null,
   "id": "ba1128a7-97c0-44fe-b4cf-54c0faa55ced",
   "metadata": {},
   "outputs": [],
   "source": []
  },
  {
   "cell_type": "code",
   "execution_count": null,
   "id": "9ff4f0ff-92aa-4032-af74-dca6b433780e",
   "metadata": {},
   "outputs": [],
   "source": []
  },
  {
   "cell_type": "code",
   "execution_count": null,
   "id": "a35cdbaa-ea58-487c-a7bf-c4c2fd7cb51c",
   "metadata": {},
   "outputs": [],
   "source": []
  },
  {
   "cell_type": "code",
   "execution_count": null,
   "id": "1a6abdfd-a42f-462e-8c4c-3c04a9bb535f",
   "metadata": {},
   "outputs": [],
   "source": []
  },
  {
   "cell_type": "code",
   "execution_count": null,
   "id": "69efe094-6127-4c42-b3ba-f3efb4049d7a",
   "metadata": {},
   "outputs": [],
   "source": []
  },
  {
   "cell_type": "code",
   "execution_count": null,
   "id": "14b36f6a-b67a-488a-a57d-02c6cd7b80ad",
   "metadata": {},
   "outputs": [],
   "source": []
  },
  {
   "cell_type": "code",
   "execution_count": null,
   "id": "66ce0fdb-19f9-4ac2-b4bd-fcbe06be3f0f",
   "metadata": {},
   "outputs": [],
   "source": []
  },
  {
   "cell_type": "code",
   "execution_count": null,
   "id": "8ab995ae-fae5-41bb-87e7-1647f2933dde",
   "metadata": {},
   "outputs": [],
   "source": []
  },
  {
   "cell_type": "code",
   "execution_count": null,
   "id": "8774b6aa-4cfb-49a3-a31b-68ded3cbdd9a",
   "metadata": {},
   "outputs": [],
   "source": []
  },
  {
   "cell_type": "code",
   "execution_count": null,
   "id": "20f78156-2b13-45dd-b31a-fb814c5e0d8c",
   "metadata": {},
   "outputs": [],
   "source": []
  }
 ],
 "metadata": {
  "kernelspec": {
   "display_name": "pydatavenv",
   "language": "python",
   "name": "pydatavenv"
  },
  "language_info": {
   "codemirror_mode": {
    "name": "ipython",
    "version": 3
   },
   "file_extension": ".py",
   "mimetype": "text/x-python",
   "name": "python",
   "nbconvert_exporter": "python",
   "pygments_lexer": "ipython3",
   "version": "3.9.12"
  }
 },
 "nbformat": 4,
 "nbformat_minor": 5
}
