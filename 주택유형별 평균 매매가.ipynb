{
 "cells": [
  {
   "cell_type": "code",
   "execution_count": 121,
   "id": "ebe3f9bb-97e0-4482-9305-f261b23bba41",
   "metadata": {},
   "outputs": [],
   "source": [
    "import pandas as pd\n",
    "import seaborn as sns\n",
    "import matplotlib.pyplot as plt"
   ]
  },
  {
   "cell_type": "code",
   "execution_count": 122,
   "id": "c4e917ec-4435-4196-b43c-00fbf1cc9087",
   "metadata": {},
   "outputs": [],
   "source": [
    "import sys                                               ## 파이썬 엔진에 대한 정보를 관리하는 모듈을 사용한다. \n",
    "from matplotlib import font_manager, rc                  ## 폰트를 관리하는 함수와 설정 함수를 사용한다. \n",
    "\n",
    "if sys.platform  == 'darwin':                             ## MAC OS의 이름을 확인한다.\n",
    "    path = '.....'  \n",
    "elif sys.platform == 'win32':                             ## Windows 이름을 확인한다.\n",
    "    path = \"font/malgun.ttf\"\n",
    "else:\n",
    "    print('Unknown system... sorry~~~~') \n",
    "    \n",
    "font_name = font_manager.FontProperties(fname=path).get_name()        ##  폰트가 있는지를 확인한다. \n",
    "rc('font', family=font_name)                                          ## 한글 폰트를 시각화 환경에 세팅한다. \n",
    "plt.rcParams['axes.unicode_minus'] = False "
   ]
  },
  {
   "cell_type": "code",
   "execution_count": 123,
   "id": "7eee9ea2-42a8-4552-b9da-3840e733b4e7",
   "metadata": {},
   "outputs": [
    {
     "data": {
      "text/html": [
       "<div>\n",
       "<style scoped>\n",
       "    .dataframe tbody tr th:only-of-type {\n",
       "        vertical-align: middle;\n",
       "    }\n",
       "\n",
       "    .dataframe tbody tr th {\n",
       "        vertical-align: top;\n",
       "    }\n",
       "\n",
       "    .dataframe thead th {\n",
       "        text-align: right;\n",
       "    }\n",
       "</style>\n",
       "<table border=\"1\" class=\"dataframe\">\n",
       "  <thead>\n",
       "    <tr style=\"text-align: right;\">\n",
       "      <th></th>\n",
       "      <th>2019년 01월</th>\n",
       "      <th>2019년 07월</th>\n",
       "      <th>2020년 01월</th>\n",
       "    </tr>\n",
       "  </thead>\n",
       "  <tbody>\n",
       "    <tr>\n",
       "      <th>전국</th>\n",
       "      <td>178554</td>\n",
       "      <td>177594</td>\n",
       "      <td>178372</td>\n",
       "    </tr>\n",
       "  </tbody>\n",
       "</table>\n",
       "</div>"
      ],
      "text/plain": [
       "   2019년 01월 2019년 07월 2020년 01월\n",
       "전국    178554    177594    178372"
      ]
     },
     "execution_count": 123,
     "metadata": {},
     "output_type": "execute_result"
    }
   ],
   "source": [
    "data = pd.read_csv(\"data/price/오피스텔매매가격.csv\", encoding = \"CP949\")\n",
    "data1 = data[['2019.01', '2019.07', '2020.01']]\n",
    "data1 = data1.iloc[1]\n",
    "data1 = pd.DataFrame(data1)\n",
    "data1.index = [\"2019년 01월\", \"2019년 07월\", \"2020년 01월\"]\n",
    "data1.columns = [\"전국\"]\n",
    "data1 = data1.T\n",
    "data1"
   ]
  },
  {
   "cell_type": "code",
   "execution_count": 124,
   "id": "ef6d36a3-8aae-4ec4-9ad0-16add94f13e5",
   "metadata": {
    "tags": []
   },
   "outputs": [],
   "source": [
    "data2 = pd.read_excel(\"data/price/오피스텔_매매가격.xlsx\", header = 10, index_col = \"지 역\")\n",
    "data3 = data2[[\"2020년 07월\", \"2021년 01월\", \"2021년 07월\", \"2022년 01월\"]]\n",
    "data3 = data3.loc[[\"전국\"]]"
   ]
  },
  {
   "cell_type": "code",
   "execution_count": 125,
   "id": "99ba1de6-0d20-42e0-bf1b-8fe560efc19d",
   "metadata": {},
   "outputs": [
    {
     "data": {
      "text/plain": [
       "2019년 01월    178554\n",
       "2019년 07월    177594\n",
       "2020년 01월    178372\n",
       "2020년 07월    203454\n",
       "2021년 01월    204880\n",
       "2021년 07월    208505\n",
       "2022년 01월    216076\n",
       "Name: 전국, dtype: int64"
      ]
     },
     "execution_count": 125,
     "metadata": {},
     "output_type": "execute_result"
    }
   ],
   "source": [
    "op = data1.join(data3).iloc[0]\n",
    "op = op.astype(\"int64\")\n",
    "op"
   ]
  },
  {
   "cell_type": "code",
   "execution_count": 126,
   "id": "f783dcaf-2c18-4257-b309-42924314e359",
   "metadata": {},
   "outputs": [
    {
     "data": {
      "text/plain": [
       "2019년 01월    285494\n",
       "2019년 07월    289623\n",
       "2020년 01월    293328\n",
       "2020년 07월    298014\n",
       "2021년 01월    302889\n",
       "2021년 07월    344759\n",
       "2022년 01월    351144\n",
       "Name: 전국, dtype: int64"
      ]
     },
     "metadata": {},
     "output_type": "display_data"
    },
    {
     "data": {
      "text/plain": [
       "2019년 01월    349426\n",
       "2019년 07월    344195\n",
       "2020년 01월    366793\n",
       "2020년 07월    380260\n",
       "2021년 01월    401083\n",
       "2021년 07월    491728\n",
       "2022년 01월    514577\n",
       "Name: 전국, dtype: object"
      ]
     },
     "metadata": {},
     "output_type": "display_data"
    },
    {
     "data": {
      "text/plain": [
       "2019년 01월    165762\n",
       "2019년 07월    164795\n",
       "2020년 01월    168514\n",
       "2020년 07월    169424\n",
       "2021년 01월    171690\n",
       "2021년 07월    202140\n",
       "2022년 01월    206397\n",
       "Name: 전국, dtype: int64"
      ]
     },
     "metadata": {},
     "output_type": "display_data"
    },
    {
     "data": {
      "text/plain": [
       "2019년 01월    178554\n",
       "2019년 07월    177594\n",
       "2020년 01월    178372\n",
       "2020년 07월    203454\n",
       "2021년 01월    204880\n",
       "2021년 07월    208505\n",
       "2022년 01월    216076\n",
       "Name: 전국, dtype: int64"
      ]
     },
     "metadata": {},
     "output_type": "display_data"
    }
   ],
   "source": [
    "data4 = pd.read_excel(\"data/price/평균매매가격_단독.xlsx\", header = 10, index_col = \"지 역\")\n",
    "data5 = data4[[\"2019년 01월\", \"2019년 07월\", \"2020년 01월\", \"2020년 07월\", \"2021년 01월\", \"2021년 07월\", \"2022년 01월\"]]\n",
    "solo = data5.loc[[\"전국\"]].iloc[0]\n",
    "display(solo)\n",
    "\n",
    "data4 = pd.read_excel(\"data/price/평균매매가격_아파트.xlsx\", header = 10, index_col = \"지 역\")\n",
    "data5 = data4[[\"2019년 01월\", \"2019년 07월\", \"2020년 01월\", \"2020년 07월\", \"2021년 01월\", \"2021년 07월\", \"2022년 01월\"]]\n",
    "apt = data5.loc[[\"전국\"]].iloc[0]\n",
    "display(apt)\n",
    "\n",
    "data4 = pd.read_excel(\"data/price/평균매매가격_연립다세대.xlsx\", header = 10, index_col = \"지 역\")\n",
    "data5 = data4[[\"2019년 01월\", \"2019년 07월\", \"2020년 01월\", \"2020년 07월\", \"2021년 01월\", \"2021년 07월\", \"2022년 01월\"]]\n",
    "many = data5.loc[[\"전국\"]].iloc[0]\n",
    "display(many)\n",
    "\n",
    "display(op)"
   ]
  },
  {
   "cell_type": "code",
   "execution_count": 127,
   "id": "71d17dc9-4b77-4af5-96fb-5fac081834cb",
   "metadata": {},
   "outputs": [
    {
     "data": {
      "text/html": [
       "<div>\n",
       "<style scoped>\n",
       "    .dataframe tbody tr th:only-of-type {\n",
       "        vertical-align: middle;\n",
       "    }\n",
       "\n",
       "    .dataframe tbody tr th {\n",
       "        vertical-align: top;\n",
       "    }\n",
       "\n",
       "    .dataframe thead th {\n",
       "        text-align: right;\n",
       "    }\n",
       "</style>\n",
       "<table border=\"1\" class=\"dataframe\">\n",
       "  <thead>\n",
       "    <tr style=\"text-align: right;\">\n",
       "      <th></th>\n",
       "      <th>2019년 01월</th>\n",
       "      <th>2019년 07월</th>\n",
       "      <th>2020년 01월</th>\n",
       "      <th>2020년 07월</th>\n",
       "      <th>2021년 01월</th>\n",
       "      <th>2021년 07월</th>\n",
       "      <th>2022년 01월</th>\n",
       "    </tr>\n",
       "  </thead>\n",
       "  <tbody>\n",
       "    <tr>\n",
       "      <th>단독</th>\n",
       "      <td>285494</td>\n",
       "      <td>289623</td>\n",
       "      <td>293328</td>\n",
       "      <td>298014</td>\n",
       "      <td>302889</td>\n",
       "      <td>344759</td>\n",
       "      <td>351144</td>\n",
       "    </tr>\n",
       "    <tr>\n",
       "      <th>아파트</th>\n",
       "      <td>349426</td>\n",
       "      <td>344195</td>\n",
       "      <td>366793</td>\n",
       "      <td>380260</td>\n",
       "      <td>401083</td>\n",
       "      <td>491728</td>\n",
       "      <td>514577</td>\n",
       "    </tr>\n",
       "    <tr>\n",
       "      <th>연립다세대</th>\n",
       "      <td>165762</td>\n",
       "      <td>164795</td>\n",
       "      <td>168514</td>\n",
       "      <td>169424</td>\n",
       "      <td>171690</td>\n",
       "      <td>202140</td>\n",
       "      <td>206397</td>\n",
       "    </tr>\n",
       "    <tr>\n",
       "      <th>오피스텔</th>\n",
       "      <td>178554</td>\n",
       "      <td>177594</td>\n",
       "      <td>178372</td>\n",
       "      <td>203454</td>\n",
       "      <td>204880</td>\n",
       "      <td>208505</td>\n",
       "      <td>216076</td>\n",
       "    </tr>\n",
       "  </tbody>\n",
       "</table>\n",
       "</div>"
      ],
      "text/plain": [
       "      2019년 01월 2019년 07월 2020년 01월 2020년 07월 2021년 01월 2021년 07월 2022년 01월\n",
       "단독       285494    289623    293328    298014    302889    344759    351144\n",
       "아파트      349426    344195    366793    380260    401083    491728    514577\n",
       "연립다세대    165762    164795    168514    169424    171690    202140    206397\n",
       "오피스텔     178554    177594    178372    203454    204880    208505    216076"
      ]
     },
     "execution_count": 127,
     "metadata": {},
     "output_type": "execute_result"
    }
   ],
   "source": [
    "# 데이터 합치기\n",
    "df = pd.concat([solo, apt, many, op], axis=1)\n",
    "df = df.T\n",
    "df.index = ['단독', '아파트', '연립다세대', '오피스텔']\n",
    "df"
   ]
  },
  {
   "cell_type": "code",
   "execution_count": 128,
   "id": "c18134f3-1d26-49f8-a71b-b8d0e9e69d62",
   "metadata": {},
   "outputs": [
    {
     "data": {
      "text/plain": [
       "<AxesSubplot:>"
      ]
     },
     "execution_count": 128,
     "metadata": {},
     "output_type": "execute_result"
    },
    {
     "data": {
      "image/png": "[encoded data removed]",
      "text/plain": [
       "<Figure size 1080x432 with 1 Axes>"
      ]
     },
     "metadata": {
      "needs_background": "light"
     },
     "output_type": "display_data"
    }
   ],
   "source": [
    "plt.rcParams['font.size'] = 15\n",
    "plt.rcParams['figure.figsize'] = (15, 6)\n",
    "\n",
    "df.T.plot(linewidth=4, marker='o', markersize=10)"
   ]
  },
  {
   "cell_type": "code",
   "execution_count": null,
   "id": "46f71b34-c84a-47db-a212-48411b184400",
   "metadata": {},
   "outputs": [],
   "source": []
  },
  {
   "cell_type": "code",
   "execution_count": null,
   "id": "7a1a0ff2-60e0-48dd-a7e8-8abdd039dd0e",
   "metadata": {},
   "outputs": [],
   "source": []
  },
  {
   "cell_type": "code",
   "execution_count": null,
   "id": "66b47dca-4ff0-4bc7-91a1-e4c7a23f7903",
   "metadata": {},
   "outputs": [],
   "source": []
  }
 ],
 "metadata": {
  "kernelspec": {
   "display_name": "pydatavenv",
   "language": "python",
   "name": "pydatavenv"
  },
  "language_info": {
   "codemirror_mode": {
    "name": "ipython",
    "version": 3
   },
   "file_extension": ".py",
   "mimetype": "text/x-python",
   "name": "python",
   "nbconvert_exporter": "python",
   "pygments_lexer": "ipython3",
   "version": "3.9.12"
  }
 },
 "nbformat": 4,
 "nbformat_minor": 5
}
