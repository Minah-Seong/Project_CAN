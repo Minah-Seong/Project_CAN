{
 "cells": [
  {
   "cell_type": "code",
   "execution_count": 1,
   "id": "ebb5eed1-f3b7-45f7-9847-d37cd7794d60",
   "metadata": {},
   "outputs": [],
   "source": [
    "import pandas as pd\n",
    "import seaborn as sns\n",
    "import numpy as np\n",
    "import matplotlib.pyplot as plt\n",
    "import sys\n",
    "from matplotlib import font_manager, rc, cm                ## 폰트를 관리하는 함수와 설정 함수를 사용한다. \n",
    "\n",
    "font_path = './font/GmarketSansTTFMedium.ttf'\n",
    "font_name = font_manager.FontProperties(fname=font_path).get_name()\n",
    "rc('font', family=font_name)"
   ]
  },
  {
   "cell_type": "code",
   "execution_count": 2,
   "id": "4ef60024-ed79-4bf0-9c1f-01043162df96",
   "metadata": {},
   "outputs": [
    {
     "name": "stdout",
     "output_type": "stream",
     "text": [
      "C:\\Users\\User\\anaconda3\\envs\\pydatavenv\\lib\\site-packages\\matplotlib\\mpl-data\\matplotlibrc\n",
      "C:\\Users\\User\\.matplotlib\n"
     ]
    }
   ],
   "source": [
    "import matplotlib as mpl\n",
    "\n",
    "print(mpl.matplotlib_fname())\n",
    "print(mpl.get_cachedir())"
   ]
  },
  {
   "cell_type": "code",
   "execution_count": 3,
   "id": "56236620-6f6d-48b6-abc0-52c5e8eb4b5f",
   "metadata": {},
   "outputs": [],
   "source": [
    "df = pd.read_csv('./data/악성임대인에 의한 보증사고 피해 임차인 연령 현황.csv', index_col='연령')"
   ]
  },
  {
   "cell_type": "code",
   "execution_count": 4,
   "id": "6e16d02b-ab41-47e7-ae78-d78f152fa71f",
   "metadata": {},
   "outputs": [
    {
     "data": {
      "text/html": [
       "<div>\n",
       "<style scoped>\n",
       "    .dataframe tbody tr th:only-of-type {\n",
       "        vertical-align: middle;\n",
       "    }\n",
       "\n",
       "    .dataframe tbody tr th {\n",
       "        vertical-align: top;\n",
       "    }\n",
       "\n",
       "    .dataframe thead th {\n",
       "        text-align: right;\n",
       "    }\n",
       "</style>\n",
       "<table border=\"1\" class=\"dataframe\">\n",
       "  <thead>\n",
       "    <tr style=\"text-align: right;\">\n",
       "      <th></th>\n",
       "      <th>사고 건수(A)</th>\n",
       "      <th>사고 건수 비중</th>\n",
       "      <th>사고 금액(B)</th>\n",
       "      <th>평균(B/A)</th>\n",
       "      <th>HUG 대위변제 건수</th>\n",
       "      <th>HUG 대위변제 금액</th>\n",
       "    </tr>\n",
       "    <tr>\n",
       "      <th>연령</th>\n",
       "      <th></th>\n",
       "      <th></th>\n",
       "      <th></th>\n",
       "      <th></th>\n",
       "      <th></th>\n",
       "      <th></th>\n",
       "    </tr>\n",
       "  </thead>\n",
       "  <tbody>\n",
       "    <tr>\n",
       "      <th>10대</th>\n",
       "      <td>1</td>\n",
       "      <td>0.0</td>\n",
       "      <td>4</td>\n",
       "      <td>4</td>\n",
       "      <td>1</td>\n",
       "      <td>4</td>\n",
       "    </tr>\n",
       "    <tr>\n",
       "      <th>20대</th>\n",
       "      <td>291</td>\n",
       "      <td>13.5</td>\n",
       "      <td>559</td>\n",
       "      <td>2</td>\n",
       "      <td>260</td>\n",
       "      <td>495</td>\n",
       "    </tr>\n",
       "    <tr>\n",
       "      <th>30대</th>\n",
       "      <td>1168</td>\n",
       "      <td>54.1</td>\n",
       "      <td>2318</td>\n",
       "      <td>2</td>\n",
       "      <td>1079</td>\n",
       "      <td>2117</td>\n",
       "    </tr>\n",
       "    <tr>\n",
       "      <th>40대</th>\n",
       "      <td>443</td>\n",
       "      <td>20.5</td>\n",
       "      <td>874</td>\n",
       "      <td>2</td>\n",
       "      <td>415</td>\n",
       "      <td>809</td>\n",
       "    </tr>\n",
       "    <tr>\n",
       "      <th>50대</th>\n",
       "      <td>161</td>\n",
       "      <td>7.5</td>\n",
       "      <td>342</td>\n",
       "      <td>2</td>\n",
       "      <td>149</td>\n",
       "      <td>307</td>\n",
       "    </tr>\n",
       "    <tr>\n",
       "      <th>60대</th>\n",
       "      <td>61</td>\n",
       "      <td>2.8</td>\n",
       "      <td>135</td>\n",
       "      <td>2</td>\n",
       "      <td>59</td>\n",
       "      <td>129</td>\n",
       "    </tr>\n",
       "    <tr>\n",
       "      <th>70대 이상</th>\n",
       "      <td>35</td>\n",
       "      <td>1.6</td>\n",
       "      <td>52</td>\n",
       "      <td>1</td>\n",
       "      <td>34</td>\n",
       "      <td>50</td>\n",
       "    </tr>\n",
       "    <tr>\n",
       "      <th>합계</th>\n",
       "      <td>2160</td>\n",
       "      <td>100.0</td>\n",
       "      <td>4284</td>\n",
       "      <td>2</td>\n",
       "      <td>1997</td>\n",
       "      <td>3911</td>\n",
       "    </tr>\n",
       "  </tbody>\n",
       "</table>\n",
       "</div>"
      ],
      "text/plain": [
       "        사고 건수(A)  사고 건수 비중  사고 금액(B)  평균(B/A)  HUG 대위변제 건수  HUG 대위변제 금액\n",
       "연령                                                                     \n",
       "10대            1       0.0         4        4            1            4\n",
       "20대          291      13.5       559        2          260          495\n",
       "30대         1168      54.1      2318        2         1079         2117\n",
       "40대          443      20.5       874        2          415          809\n",
       "50대          161       7.5       342        2          149          307\n",
       "60대           61       2.8       135        2           59          129\n",
       "70대 이상        35       1.6        52        1           34           50\n",
       "합계          2160     100.0      4284        2         1997         3911"
      ]
     },
     "metadata": {},
     "output_type": "display_data"
    }
   ],
   "source": [
    "# df.set_index=df['연령']\n",
    "display(df)"
   ]
  },
  {
   "cell_type": "code",
   "execution_count": 5,
   "id": "65d9adab-31c6-4f31-baad-451a869bfd93",
   "metadata": {},
   "outputs": [],
   "source": [
    "df.drop('합계', inplace=True, axis=0)"
   ]
  },
  {
   "cell_type": "code",
   "execution_count": 12,
   "id": "6fded66f-13f3-4ca3-b8e9-76d3de6e5390",
   "metadata": {},
   "outputs": [
    {
     "data": {
      "image/png": "[encoded data removed]",
      "text/plain": [
       "<Figure size 792x576 with 1 Axes>"
      ]
     },
     "metadata": {},
     "output_type": "display_data"
    }
   ],
   "source": [
    "mycolormap = cm.get_cmap(\"cool\", 7)\n",
    "mycolor = [mycolormap(i) for i in range(7)]\n",
    "\n",
    "fig = plt.figure(figsize=(11,8)) ## 캔버스 생성\n",
    "fig.set_facecolor('white')\n",
    "ax = fig.add_subplot()\n",
    "\n",
    "df_per = df['사고 건수(A)']\n",
    "wedgeprops={'edgecolor': 'w', 'linewidth': 5}\n",
    "explode = [0.03, 0.03, 0.03, 0.03, 0.03, 0.03, 0.03]\n",
    "labels = ['10대', '20대', '30대', '40대', '50대', '60대', '70대 이상']\n",
    "labels2 = ['', '20대', '30대', '40대', '', '', '']\n",
    "\n",
    "deposit = ax.pie(df_per,\n",
    "                 colors=mycolor,\n",
    "                 labels=labels2,\n",
    "                 explode=explode,\n",
    "                 startangle=190,\n",
    "                 counterclock=False,\n",
    "                 textprops = {'fontsize':16})\n",
    "        \n",
    "total=np.sum(df_per)\n",
    "\n",
    "threshold = 5 ## 상한선 비율\n",
    "sum_pct = 0 ## 퍼센티지\n",
    "\n",
    "bbox_props = dict(boxstyle='square',fc='w',ec='w',alpha=0)\n",
    " \n",
    "config = dict(arrowprops=dict(arrowstyle='-'),bbox=bbox_props,va='center')\n",
    "\n",
    "for i,l in enumerate(labels):\n",
    "    ang1, ang2 = ax.patches[i].theta1, ax.patches[i].theta2 ## 파이의 시작 각도와 끝 각도\n",
    "    center, r = ax.patches[i].center, ax.patches[i].r ## 원의 중심 좌표와 반지름길이\n",
    "    \n",
    "    if i < len(labels) - 1:\n",
    "        sum_pct += float(f'{df_per[i]/total*100:.2f}')\n",
    "        text = f'{df_per[i]/total*100:.2f}%'\n",
    "    else:\n",
    "        text = f'{100-sum_pct:.2f}%'\n",
    "    \n",
    "    ## 비율 상한선보다 작은 것들은 Annotation으로 만든다.\n",
    "    if df_per[i]/total*100 < threshold:\n",
    "        ang = (ang1+ang2)/2 ## 중심각\n",
    "        x = np.cos(np.deg2rad(ang)) ## Annotation의 끝점에 해당하는 x좌표\n",
    "        y = np.sin(np.deg2rad(ang)) ## Annotation의 끝점에 해당하는 y좌표\n",
    "        \n",
    "        ## x좌표가 양수이면 즉 y축을 중심으로 오른쪽에 있으면 왼쪽 정렬\n",
    "        ## x좌표가 음수이면 즉 y축을 중심으로 왼쪽에 있으면 오른쪽 정렬\n",
    "        horizontalalignment = {-1: \"right\", 1: \"left\"}[int(np.sign(x))]\n",
    "        connectionstyle = \"angle,angleA=0,angleB={}\".format(ang) ## 시작점과 끝점 연결 스타일\n",
    "        config[\"arrowprops\"].update({\"connectionstyle\": connectionstyle}) ## \n",
    "        ax.annotate(text, xy=(x, y), xytext=(1.5*x, 1.2*y),\n",
    "                    horizontalalignment=horizontalalignment,\n",
    "                    fontsize=12, **config,)\n",
    "    else:\n",
    "        x = (r/2)*np.cos(np.pi/180*((ang1+ang2)/2)) + center[0] ## 텍스트 x좌표\n",
    "        y = (r/2)*np.sin(np.pi/180*((ang1+ang2)/2)) + center[1] ## 텍스트 y좌표\n",
    "        ax.text(x,y,text,ha='center',va='center',fontsize=14)\n",
    "    \n",
    "plt.legend(deposit[0],labels,loc='upper left') ## 범례\n",
    "plt.show()"
   ]
  },
  {
   "cell_type": "code",
   "execution_count": null,
   "id": "1b8f78d5-e61e-4b3d-8da8-2631d9d42781",
   "metadata": {},
   "outputs": [],
   "source": []
  },
  {
   "cell_type": "code",
   "execution_count": null,
   "id": "afffa540-2a5f-483e-9ee7-b70568568cba",
   "metadata": {},
   "outputs": [],
   "source": []
  },
  {
   "cell_type": "code",
   "execution_count": null,
   "id": "728c6804-8033-4ce1-84a6-2d90bf82f884",
   "metadata": {},
   "outputs": [],
   "source": []
  },
  {
   "cell_type": "code",
   "execution_count": null,
   "id": "9f7a53b5-71a6-46ba-8aee-7385bbdc0cd4",
   "metadata": {},
   "outputs": [],
   "source": []
  },
  {
   "cell_type": "code",
   "execution_count": null,
   "id": "46f44fd5-716c-47f1-8238-af22925b1473",
   "metadata": {},
   "outputs": [],
   "source": []
  },
  {
   "cell_type": "code",
   "execution_count": null,
   "id": "705146a7-0b67-4ea7-92f6-d13bb22c1f48",
   "metadata": {},
   "outputs": [],
   "source": []
  },
  {
   "cell_type": "code",
   "execution_count": null,
   "id": "b58f0899-4710-4e76-8a03-9a10db0cc000",
   "metadata": {},
   "outputs": [],
   "source": []
  },
  {
   "cell_type": "code",
   "execution_count": null,
   "id": "f4005a2a-1bfb-43b1-a6ee-8a7d9ee92071",
   "metadata": {},
   "outputs": [],
   "source": []
  },
  {
   "cell_type": "code",
   "execution_count": null,
   "id": "f53ff634-a596-4a7a-8a34-91ff8507b6d7",
   "metadata": {},
   "outputs": [],
   "source": []
  },
  {
   "cell_type": "code",
   "execution_count": null,
   "id": "5db6e9d8-1c35-4557-9551-8d350e771ee3",
   "metadata": {},
   "outputs": [],
   "source": []
  },
  {
   "cell_type": "code",
   "execution_count": null,
   "id": "46331edb-b2cd-45a7-ab49-4e6cf7067c2f",
   "metadata": {},
   "outputs": [],
   "source": []
  },
  {
   "cell_type": "code",
   "execution_count": null,
   "id": "896539e5-3039-4c82-b92c-1189778bea80",
   "metadata": {},
   "outputs": [],
   "source": []
  },
  {
   "cell_type": "code",
   "execution_count": null,
   "id": "a3e47dbe-baf4-409c-92ea-06f6ba53fc1a",
   "metadata": {},
   "outputs": [],
   "source": []
  },
  {
   "cell_type": "code",
   "execution_count": null,
   "id": "107949a6-1bb9-431f-83b5-bc8a63c5f8f1",
   "metadata": {},
   "outputs": [],
   "source": []
  },
  {
   "cell_type": "code",
   "execution_count": null,
   "id": "9bdaf32c-b3c5-47c1-ae6f-9fc0c6389dd8",
   "metadata": {},
   "outputs": [],
   "source": []
  },
  {
   "cell_type": "code",
   "execution_count": null,
   "id": "bcc12b40-003e-4da0-99f9-a8cfc889c897",
   "metadata": {},
   "outputs": [],
   "source": []
  },
  {
   "cell_type": "code",
   "execution_count": null,
   "id": "e8d696ff-aba0-49a2-9406-8090d4dcdabf",
   "metadata": {},
   "outputs": [],
   "source": []
  },
  {
   "cell_type": "code",
   "execution_count": null,
   "id": "72f08049-a12c-49e4-8d51-8a559ef42bf0",
   "metadata": {},
   "outputs": [],
   "source": []
  },
  {
   "cell_type": "code",
   "execution_count": null,
   "id": "50ca3ac7-e23d-4a4f-b2a0-394dd2a4050e",
   "metadata": {},
   "outputs": [],
   "source": []
  },
  {
   "cell_type": "code",
   "execution_count": null,
   "id": "46337adf-feb2-478b-bd33-65359c123ad2",
   "metadata": {},
   "outputs": [],
   "source": []
  },
  {
   "cell_type": "code",
   "execution_count": null,
   "id": "ada65c5b-a954-498c-a8a0-de826728665e",
   "metadata": {},
   "outputs": [],
   "source": []
  },
  {
   "cell_type": "code",
   "execution_count": null,
   "id": "5bbd6049-c011-483b-be72-04a9cd859efc",
   "metadata": {},
   "outputs": [],
   "source": []
  },
  {
   "cell_type": "code",
   "execution_count": null,
   "id": "d6fbcfbf-22f0-497e-95b4-7205b45637c9",
   "metadata": {},
   "outputs": [],
   "source": []
  },
  {
   "cell_type": "code",
   "execution_count": null,
   "id": "e867e5a1-bf4d-4809-81d3-e3257ccc12c6",
   "metadata": {},
   "outputs": [],
   "source": []
  },
  {
   "cell_type": "code",
   "execution_count": null,
   "id": "5cf5abea-e16d-4e6b-be51-f19188246c68",
   "metadata": {},
   "outputs": [],
   "source": []
  },
  {
   "cell_type": "code",
   "execution_count": null,
   "id": "1884a015-7b6a-4ca0-992f-c2955b5ee7c0",
   "metadata": {},
   "outputs": [],
   "source": []
  },
  {
   "cell_type": "code",
   "execution_count": null,
   "id": "02ad6cf4-b492-4cd4-9bd8-5f06102b8cc9",
   "metadata": {},
   "outputs": [],
   "source": []
  },
  {
   "cell_type": "code",
   "execution_count": null,
   "id": "10ffd32c-4ecc-406a-a2eb-3bd1e99e6389",
   "metadata": {},
   "outputs": [],
   "source": []
  },
  {
   "cell_type": "code",
   "execution_count": null,
   "id": "42be98c4-067e-436f-a014-18753d4295c8",
   "metadata": {},
   "outputs": [],
   "source": []
  },
  {
   "cell_type": "code",
   "execution_count": null,
   "id": "a1aa2a88-3433-4dba-97db-a82e29556777",
   "metadata": {},
   "outputs": [],
   "source": []
  },
  {
   "cell_type": "code",
   "execution_count": null,
   "id": "1e2c8ce5-dd22-4317-838e-6020f690a3aa",
   "metadata": {},
   "outputs": [],
   "source": []
  },
  {
   "cell_type": "code",
   "execution_count": null,
   "id": "146aae0d-187b-4987-a9c9-572f1691d230",
   "metadata": {},
   "outputs": [],
   "source": []
  },
  {
   "cell_type": "code",
   "execution_count": null,
   "id": "71fcae77-a1fb-4a07-8637-4c3cb9284643",
   "metadata": {},
   "outputs": [],
   "source": []
  },
  {
   "cell_type": "code",
   "execution_count": null,
   "id": "d4093944-3905-45f4-b2ec-7eebb215a741",
   "metadata": {},
   "outputs": [],
   "source": []
  },
  {
   "cell_type": "code",
   "execution_count": null,
   "id": "4fbd4bea-eaa3-4a0c-9419-3cc5debb53f6",
   "metadata": {},
   "outputs": [],
   "source": []
  },
  {
   "cell_type": "code",
   "execution_count": null,
   "id": "0c5be5df-aaf2-4e85-ab8b-31e4eb045648",
   "metadata": {},
   "outputs": [],
   "source": []
  }
 ],
 "metadata": {
  "kernelspec": {
   "display_name": "pydatavenv",
   "language": "python",
   "name": "pydatavenv"
  },
  "language_info": {
   "codemirror_mode": {
    "name": "ipython",
    "version": 3
   },
   "file_extension": ".py",
   "mimetype": "text/x-python",
   "name": "python",
   "nbconvert_exporter": "python",
   "pygments_lexer": "ipython3",
   "version": "3.9.12"
  }
 },
 "nbformat": 4,
 "nbformat_minor": 5
}
