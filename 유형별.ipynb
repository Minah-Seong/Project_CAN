{
 "cells": [
  {
   "cell_type": "code",
   "execution_count": 1,
   "id": "bf990508-d18f-4e89-be11-fdd82b785962",
   "metadata": {},
   "outputs": [],
   "source": [
    "import pandas as pd\n",
    "import seaborn as sns\n",
    "import matplotlib.pyplot as plt"
   ]
  },
  {
   "cell_type": "code",
   "execution_count": 2,
   "id": "d36e2eb4-7889-4af8-afc3-58626fbd2733",
   "metadata": {},
   "outputs": [],
   "source": [
    "import sys                                               ## 파이썬 엔진에 대한 정보를 관리하는 모듈을 사용한다. \n",
    "from matplotlib import font_manager, rc                  ## 폰트를 관리하는 함수와 설정 함수를 사용한다. \n",
    "\n",
    "if sys.platform  == 'darwin':                             ## MAC OS의 이름을 확인한다.\n",
    "    path = '.....'  \n",
    "elif sys.platform == 'win32':                             ## Windows 이름을 확인한다.\n",
    "    path = \"font/malgun.ttf\"\n",
    "else:\n",
    "    print('Unknown system... sorry~~~~') \n",
    "    \n",
    "font_name = font_manager.FontProperties(fname=path).get_name()        ##  폰트가 있는지를 확인한다. \n",
    "rc('font', family=font_name)                                          ## 한글 폰트를 시각화 환경에 세팅한다. \n",
    "plt.rcParams['axes.unicode_minus'] = False "
   ]
  },
  {
   "cell_type": "code",
   "execution_count": 129,
   "id": "c3ab8efe-00dc-4ca4-a4a4-5e0c6a5e7252",
   "metadata": {},
   "outputs": [
    {
     "name": "stderr",
     "output_type": "stream",
     "text": [
      "C:\\Users\\Seungjun\\anaconda3\\envs\\pydatavenv\\lib\\site-packages\\openpyxl\\styles\\stylesheet.py:226: UserWarning: Workbook contains no default style, apply openpyxl's default\n",
      "  warn(\"Workbook contains no default style, apply openpyxl's default\")\n"
     ]
    }
   ],
   "source": [
    "# 데이터 불러오고 전처리\n",
    "# 오피스텔\n",
    "data1 = pd.read_excel('./data/price/오피스텔_전세가격1.xlsx')\n",
    "data1 = data1[['2019.01', '2019.07', '2020.01']]\n",
    "data1.rename(columns={'2019.01':'2019년 01월',\n",
    "                     '2019.07':'2019년 07월',\n",
    "                     '2020.01':'2020년 01월'}, inplace=True)\n",
    "data1 = data1.drop(0)\n",
    "data1 = data1.iloc[0]\n",
    "\n",
    "data2 = pd.read_excel('./data/price/오피스텔_전세가격2.xlsx', header=10)\n",
    "data2 = data2[['2020년 07월', '2021년 01월', '2021년 07월', '2022년 01월']]\n",
    "data2 = data2.drop(0)\n",
    "data2 = data2.iloc[0]\n",
    "\n",
    "# 오피스텔 concat\n",
    "data = pd.concat((data1, data2))\n",
    "\n",
    "# 단독\n",
    "data3 = pd.read_excel('./data/price/평균전세가격_단독.xlsx', header=10)\n",
    "data3 = data3.drop(['Unnamed: 1', 'Unnamed: 2'], axis=1)\n",
    "data3 = data3[['2019년 01월', '2019년 07월', '2020년 01월', '2020년 07월', '2021년 01월', '2021년 07월', '2022년 01월']]\n",
    "data3 = data3.iloc[0]\n",
    "\n",
    "# 아파트\n",
    "data4 = pd.read_excel('./data/price/평균전세가격_아파트.xlsx', header=10)\n",
    "data4 = data4.drop(['Unnamed: 1', 'Unnamed: 2'], axis=1)\n",
    "data4 = data4[['2019년 01월', '2019년 07월', '2020년 01월', '2020년 07월', '2021년 01월', '2021년 07월', '2022년 01월']]\n",
    "data4 = data4.iloc[0]\n",
    "\n",
    "# 연립다세대\n",
    "data5 = pd.read_excel('./data/price/평균전세가격_연립다세대.xlsx', header=10)\n",
    "data5 = data5.drop(['Unnamed: 1', 'Unnamed: 2'], axis=1)\n",
    "data5 = data5[['2019년 01월', '2019년 07월', '2020년 01월', '2020년 07월', '2021년 01월', '2021년 07월', '2022년 01월']]\n",
    "data5 = data5.iloc[0]"
   ]
  },
  {
   "cell_type": "code",
   "execution_count": 130,
   "id": "59a4016d-eaa4-42af-ae13-9f8db0c9a033",
   "metadata": {},
   "outputs": [
    {
     "data": {
      "text/html": [
       "<div>\n",
       "<style scoped>\n",
       "    .dataframe tbody tr th:only-of-type {\n",
       "        vertical-align: middle;\n",
       "    }\n",
       "\n",
       "    .dataframe tbody tr th {\n",
       "        vertical-align: top;\n",
       "    }\n",
       "\n",
       "    .dataframe thead th {\n",
       "        text-align: right;\n",
       "    }\n",
       "</style>\n",
       "<table border=\"1\" class=\"dataframe\">\n",
       "  <thead>\n",
       "    <tr style=\"text-align: right;\">\n",
       "      <th></th>\n",
       "      <th>2019년 01월</th>\n",
       "      <th>2019년 07월</th>\n",
       "      <th>2020년 01월</th>\n",
       "      <th>2020년 07월</th>\n",
       "      <th>2021년 01월</th>\n",
       "      <th>2021년 07월</th>\n",
       "      <th>2022년 01월</th>\n",
       "    </tr>\n",
       "  </thead>\n",
       "  <tbody>\n",
       "    <tr>\n",
       "      <th>오피스텔</th>\n",
       "      <td>141630.0</td>\n",
       "      <td>141059.0</td>\n",
       "      <td>141638.0</td>\n",
       "      <td>163525.0</td>\n",
       "      <td>165916.0</td>\n",
       "      <td>168168.0</td>\n",
       "      <td>172122.0</td>\n",
       "    </tr>\n",
       "    <tr>\n",
       "      <th>단독</th>\n",
       "      <td>141970.0</td>\n",
       "      <td>141695.0</td>\n",
       "      <td>140910.0</td>\n",
       "      <td>141504.0</td>\n",
       "      <td>142145.0</td>\n",
       "      <td>162110.0</td>\n",
       "      <td>163670.0</td>\n",
       "    </tr>\n",
       "    <tr>\n",
       "      <th>아파트</th>\n",
       "      <td>228000.0</td>\n",
       "      <td>223366.0</td>\n",
       "      <td>231562.0</td>\n",
       "      <td>236923.0</td>\n",
       "      <td>253946.0</td>\n",
       "      <td>308699.0</td>\n",
       "      <td>319475.0</td>\n",
       "    </tr>\n",
       "    <tr>\n",
       "      <th>연립다세대</th>\n",
       "      <td>113378.0</td>\n",
       "      <td>112614.0</td>\n",
       "      <td>116374.0</td>\n",
       "      <td>116751.0</td>\n",
       "      <td>118205.0</td>\n",
       "      <td>137918.0</td>\n",
       "      <td>139877.0</td>\n",
       "    </tr>\n",
       "  </tbody>\n",
       "</table>\n",
       "</div>"
      ],
      "text/plain": [
       "      2019년 01월 2019년 07월 2020년 01월 2020년 07월 2021년 01월 2021년 07월 2022년 01월\n",
       "오피스텔   141630.0  141059.0  141638.0  163525.0  165916.0  168168.0  172122.0\n",
       "단독     141970.0  141695.0  140910.0  141504.0  142145.0  162110.0  163670.0\n",
       "아파트    228000.0  223366.0  231562.0  236923.0  253946.0  308699.0  319475.0\n",
       "연립다세대  113378.0  112614.0  116374.0  116751.0  118205.0  137918.0  139877.0"
      ]
     },
     "execution_count": 130,
     "metadata": {},
     "output_type": "execute_result"
    }
   ],
   "source": [
    "# 데이터 합치기\n",
    "df = pd.concat([data, data3, data4, data5], axis=1)\n",
    "df = df.T\n",
    "df.index = ['오피스텔', '단독', '아파트', '연립다세대']\n",
    "df"
   ]
  },
  {
   "cell_type": "code",
   "execution_count": 131,
   "id": "3077947a-6b94-4963-bbb0-52b81ad67c7b",
   "metadata": {},
   "outputs": [
    {
     "data": {
      "text/plain": [
       "<AxesSubplot:>"
      ]
     },
     "execution_count": 131,
     "metadata": {},
     "output_type": "execute_result"
    },
    {
     "data": {
      "image/png": "[encoded data removed]",
      "text/plain": [
       "<Figure size 1080x432 with 1 Axes>"
      ]
     },
     "metadata": {
      "needs_background": "light"
     },
     "output_type": "display_data"
    }
   ],
   "source": [
    "plt.rcParams['font.size'] = 15\n",
    "plt.rcParams['figure.figsize'] = (15, 6)\n",
    "\n",
    "df.T.plot(linewidth=4, marker='o', markersize=10)"
   ]
  },
  {
   "cell_type": "code",
   "execution_count": null,
   "id": "ff0f2383-413a-4c1b-83b8-2059758d9c3f",
   "metadata": {},
   "outputs": [],
   "source": []
  }
 ],
 "metadata": {
  "kernelspec": {
   "display_name": "pydatavenv",
   "language": "python",
   "name": "pydatavenv"
  },
  "language_info": {
   "codemirror_mode": {
    "name": "ipython",
    "version": 3
   },
   "file_extension": ".py",
   "mimetype": "text/x-python",
   "name": "python",
   "nbconvert_exporter": "python",
   "pygments_lexer": "ipython3",
   "version": "3.9.12"
  }
 },
 "nbformat": 4,
 "nbformat_minor": 5
}
