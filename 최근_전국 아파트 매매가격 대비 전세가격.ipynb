{
 "cells": [
  {
   "cell_type": "code",
   "execution_count": 2,
   "id": "4f5fb875-88bc-401b-95c1-39c88b68a1de",
   "metadata": {},
   "outputs": [],
   "source": [
    "import pandas as pd\n",
    "import seaborn as sns\n",
    "import numpy as np\n",
    "import matplotlib.pyplot as plt\n",
    "import sys\n",
    "from matplotlib import font_manager, rc, cm                ## 폰트를 관리하는 함수와 설정 함수를 사용한다. \n",
    "\n",
    "font_path = './font/GmarketSansTTFMedium.ttf'\n",
    "font_name = font_manager.FontProperties(fname=font_path).get_name()\n",
    "rc('font', family=font_name)"
   ]
  },
  {
   "cell_type": "code",
   "execution_count": 4,
   "id": "7eee9ea2-42a8-4552-b9da-3840e733b4e7",
   "metadata": {},
   "outputs": [
    {
     "data": {
      "text/html": [
       "<div>\n",
       "<style scoped>\n",
       "    .dataframe tbody tr th:only-of-type {\n",
       "        vertical-align: middle;\n",
       "    }\n",
       "\n",
       "    .dataframe tbody tr th {\n",
       "        vertical-align: top;\n",
       "    }\n",
       "\n",
       "    .dataframe thead th {\n",
       "        text-align: right;\n",
       "    }\n",
       "</style>\n",
       "<table border=\"1\" class=\"dataframe\">\n",
       "  <thead>\n",
       "    <tr style=\"text-align: right;\">\n",
       "      <th></th>\n",
       "      <th>2012년 01월</th>\n",
       "      <th>2012년 02월</th>\n",
       "      <th>2012년 03월</th>\n",
       "      <th>2012년 04월</th>\n",
       "      <th>2012년 05월</th>\n",
       "      <th>2012년 06월</th>\n",
       "      <th>2012년 07월</th>\n",
       "      <th>2012년 08월</th>\n",
       "      <th>2012년 09월</th>\n",
       "      <th>2012년 10월</th>\n",
       "      <th>...</th>\n",
       "      <th>2021년 06월</th>\n",
       "      <th>2021년 07월</th>\n",
       "      <th>2021년 08월</th>\n",
       "      <th>2021년 09월</th>\n",
       "      <th>2021년 10월</th>\n",
       "      <th>2021년 11월</th>\n",
       "      <th>2021년 12월</th>\n",
       "      <th>2022년 01월</th>\n",
       "      <th>2022년 02월</th>\n",
       "      <th>2022년 03월</th>\n",
       "    </tr>\n",
       "    <tr>\n",
       "      <th>지 역</th>\n",
       "      <th></th>\n",
       "      <th></th>\n",
       "      <th></th>\n",
       "      <th></th>\n",
       "      <th></th>\n",
       "      <th></th>\n",
       "      <th></th>\n",
       "      <th></th>\n",
       "      <th></th>\n",
       "      <th></th>\n",
       "      <th></th>\n",
       "      <th></th>\n",
       "      <th></th>\n",
       "      <th></th>\n",
       "      <th></th>\n",
       "      <th></th>\n",
       "      <th></th>\n",
       "      <th></th>\n",
       "      <th></th>\n",
       "      <th></th>\n",
       "      <th></th>\n",
       "    </tr>\n",
       "  </thead>\n",
       "  <tbody>\n",
       "    <tr>\n",
       "      <th>전국</th>\n",
       "      <td>57.4</td>\n",
       "      <td>57.5</td>\n",
       "      <td>57.5</td>\n",
       "      <td>57.6</td>\n",
       "      <td>57.6</td>\n",
       "      <td>57.7</td>\n",
       "      <td>57.8</td>\n",
       "      <td>57.9</td>\n",
       "      <td>58.2</td>\n",
       "      <td>58.5</td>\n",
       "      <td>...</td>\n",
       "      <td>64.2</td>\n",
       "      <td>64.5</td>\n",
       "      <td>64.3</td>\n",
       "      <td>64.1</td>\n",
       "      <td>64.0</td>\n",
       "      <td>63.9</td>\n",
       "      <td>63.8</td>\n",
       "      <td>63.8</td>\n",
       "      <td>63.8</td>\n",
       "      <td>63.8</td>\n",
       "    </tr>\n",
       "    <tr>\n",
       "      <th>수도권</th>\n",
       "      <td>54.1</td>\n",
       "      <td>54.2</td>\n",
       "      <td>54.3</td>\n",
       "      <td>54.4</td>\n",
       "      <td>54.4</td>\n",
       "      <td>54.6</td>\n",
       "      <td>54.7</td>\n",
       "      <td>54.9</td>\n",
       "      <td>55.4</td>\n",
       "      <td>55.8</td>\n",
       "      <td>...</td>\n",
       "      <td>63.7</td>\n",
       "      <td>64.2</td>\n",
       "      <td>64.0</td>\n",
       "      <td>63.7</td>\n",
       "      <td>63.5</td>\n",
       "      <td>63.3</td>\n",
       "      <td>63.3</td>\n",
       "      <td>63.3</td>\n",
       "      <td>63.3</td>\n",
       "      <td>63.2</td>\n",
       "    </tr>\n",
       "    <tr>\n",
       "      <th>지방권</th>\n",
       "      <td>60.5</td>\n",
       "      <td>60.5</td>\n",
       "      <td>60.5</td>\n",
       "      <td>60.5</td>\n",
       "      <td>60.6</td>\n",
       "      <td>60.6</td>\n",
       "      <td>60.7</td>\n",
       "      <td>60.7</td>\n",
       "      <td>60.8</td>\n",
       "      <td>60.9</td>\n",
       "      <td>...</td>\n",
       "      <td>64.8</td>\n",
       "      <td>64.7</td>\n",
       "      <td>64.6</td>\n",
       "      <td>64.5</td>\n",
       "      <td>64.4</td>\n",
       "      <td>64.3</td>\n",
       "      <td>64.3</td>\n",
       "      <td>64.3</td>\n",
       "      <td>64.3</td>\n",
       "      <td>64.3</td>\n",
       "    </tr>\n",
       "  </tbody>\n",
       "</table>\n",
       "<p>3 rows × 123 columns</p>\n",
       "</div>"
      ],
      "text/plain": [
       "    2012년 01월 2012년 02월 2012년 03월 2012년 04월 2012년 05월 2012년 06월 2012년 07월  \\\n",
       "지 역                                                                         \n",
       "전국       57.4      57.5      57.5      57.6      57.6      57.7      57.8   \n",
       "수도권      54.1      54.2      54.3      54.4      54.4      54.6      54.7   \n",
       "지방권      60.5      60.5      60.5      60.5      60.6      60.6      60.7   \n",
       "\n",
       "    2012년 08월 2012년 09월 2012년 10월  ... 2021년 06월  2021년 07월  2021년 08월  \\\n",
       "지 역                                ...                                   \n",
       "전국       57.9      58.2      58.5  ...      64.2       64.5       64.3   \n",
       "수도권      54.9      55.4      55.8  ...      63.7       64.2       64.0   \n",
       "지방권      60.7      60.8      60.9  ...      64.8       64.7       64.6   \n",
       "\n",
       "     2021년 09월  2021년 10월  2021년 11월  2021년 12월  2022년 01월  2022년 02월  \\\n",
       "지 역                                                                     \n",
       "전국        64.1       64.0       63.9       63.8       63.8       63.8   \n",
       "수도권       63.7       63.5       63.3       63.3       63.3       63.3   \n",
       "지방권       64.5       64.4       64.3       64.3       64.3       64.3   \n",
       "\n",
       "     2022년 03월  \n",
       "지 역             \n",
       "전국        63.8  \n",
       "수도권       63.2  \n",
       "지방권       64.3  \n",
       "\n",
       "[3 rows x 123 columns]"
      ]
     },
     "execution_count": 4,
     "metadata": {},
     "output_type": "execute_result"
    }
   ],
   "source": [
    "data = pd.read_excel('./data/price/매매가격대비전세가격_평균가격_종합.xlsx', header=10)\n",
    "data = data.drop(['Unnamed: 1', 'Unnamed: 2'], axis=1)\n",
    "data = data.loc[[0,1,2]]\n",
    "data.set_index('지 역' ,inplace=True)\n",
    "data"
   ]
  },
  {
   "cell_type": "code",
   "execution_count": null,
   "id": "64b383bf-8cee-4c11-b44b-6d1f9d6d60bd",
   "metadata": {},
   "outputs": [],
   "source": [
    "ndf = data[['2020년 07월', '2020년 10월', '2021년 01월', '2021년 04월', '2021년 07월', '2021년 10월', '2022년 01월']]"
   ]
  },
  {
   "cell_type": "code",
   "execution_count": 9,
   "id": "91869608-7980-48cd-a18f-561a973af893",
   "metadata": {},
   "outputs": [
    {
     "name": "stderr",
     "output_type": "stream",
     "text": [
      "C:\\Users\\User\\AppData\\Local\\Temp\\ipykernel_7792\\614769568.py:28: UserWarning: FixedFormatter should only be used together with FixedLocator\n",
      "  ax.set_xticklabels(labels=ndf.columns, fontsize=11)\n"
     ]
    },
    {
     "data": {
      "image/png": "[encoded data removed]",
      "text/plain": [
       "<Figure size 720x432 with 1 Axes>"
      ]
     },
     "metadata": {},
     "output_type": "display_data"
    }
   ],
   "source": [
    "colors = sns.color_palette('BuGn',len(ndf.columns))\n",
    "\n",
    "fig = plt.figure(figsize=(10,6))\n",
    "fig.set_facecolor('white')\n",
    "ax = fig.add_subplot()\n",
    "\n",
    "line1 = ax.plot(ndf.columns, ndf.loc['전국'], label='전국', linewidth=4, color ='#00CC99', marker='o', markersize=10)\n",
    "line1 = line1[0]\n",
    "\n",
    "for coord in list(line1.get_xydata()):\n",
    "    ax.text(coord[0],coord[1]+0.1,f'{coord[1]}%',fontsize=12, ha='center')\n",
    "\n",
    "ax.set_title('전국 종합주택유형 매매가격 대비 전세가격',size=18, pad=10)\n",
    "\n",
    "\n",
    "ax.set_xticklabels(labels=ndf.columns, fontsize=11)\n",
    "ax.set_xlabel('연도', fontsize = 15)\n",
    "ax.set_ylabel('매매가격 대비 전세가격 비(%)', fontsize = 15)\n",
    "               \n",
    "ax.legend(loc='best')\n",
    "\n",
    "plt.savefig('output/전세가율_현황.png')"
   ]
  },
  {
   "cell_type": "code",
   "execution_count": 57,
   "id": "bb0ba61f-3b7d-4d26-85a6-744a5eeda34e",
   "metadata": {},
   "outputs": [
    {
     "data": {
      "text/plain": [
       "Index(['2018년 01월', '2018년 07월', '2019년 01월', '2019년 07월', '2020년 01월',\n",
       "       '2020년 07월', '2021년 01월', '2021년 07월', '2022년 01월'],\n",
       "      dtype='object')"
      ]
     },
     "execution_count": 57,
     "metadata": {},
     "output_type": "execute_result"
    }
   ],
   "source": [
    "data.T.index"
   ]
  },
  {
   "cell_type": "code",
   "execution_count": null,
   "id": "c18134f3-1d26-49f8-a71b-b8d0e9e69d62",
   "metadata": {},
   "outputs": [],
   "source": []
  }
 ],
 "metadata": {
  "kernelspec": {
   "display_name": "pydatavenv",
   "language": "python",
   "name": "pydatavenv"
  },
  "language_info": {
   "codemirror_mode": {
    "name": "ipython",
    "version": 3
   },
   "file_extension": ".py",
   "mimetype": "text/x-python",
   "name": "python",
   "nbconvert_exporter": "python",
   "pygments_lexer": "ipython3",
   "version": "3.9.12"
  }
 },
 "nbformat": 4,
 "nbformat_minor": 5
}
