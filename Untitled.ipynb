{
 "cells": [
  {
   "cell_type": "code",
   "execution_count": 80,
   "id": "4b6c8dd6-e5ac-4b71-ad26-81dca98b6241",
   "metadata": {},
   "outputs": [],
   "source": [
    "import requests\n",
    "import pprint\n",
    "import pandas as pd\n",
    "import os\n",
    "import xml.etree.ElementTree as ET"
   ]
  },
  {
   "cell_type": "code",
   "execution_count": 37,
   "id": "deca1c33-2df0-4fbe-91c3-628481e45bbb",
   "metadata": {},
   "outputs": [],
   "source": [
    "import xml.etree.ElementTree as ET\n",
    "\n",
    "def get_items(response):\n",
    "    root = ET.fromstring(response.content)\n",
    "    item_list = []\n",
    "    for child in root.find('body').find('items'):\n",
    "        elements = child.findall('*')\n",
    "        data = {}\n",
    "        for element in elements:\n",
    "            tag = element.tag.strip()\n",
    "            text = element.text.strip()\n",
    "            # print tag, text\n",
    "            data[tag] = text\n",
    "        item_list.append(data)  \n",
    "    return item_list"
   ]
  },
  {
   "cell_type": "code",
   "execution_count": 82,
   "id": "b29b0068-0291-4c08-96fd-86a6d1a5f899",
   "metadata": {},
   "outputs": [
    {
     "name": "stdout",
     "output_type": "stream",
     "text": [
      "1100000000\n",
      "<class 'numpy.int64'>\n"
     ]
    }
   ],
   "source": [
    "code_file = \"./data/법정동코드 전체자료.txt\"\n",
    "code = pd.read_csv(code_file, sep='\\t')\n",
    "\n",
    "code.columns = ['code', 'name', 'is_exist']\n",
    "code = code [code['is_exist'] == '존재']\n",
    "\n",
    "print(code['code'][0])\n",
    "print(type(code['code'][0])) ## int64타입\n",
    "\n",
    "## string으로 변경\n",
    "code['code'] = code['code'].apply(str) "
   ]
  },
  {
   "cell_type": "code",
   "execution_count": 83,
   "id": "1d8ede4e-414e-4203-9249-03789b042845",
   "metadata": {},
   "outputs": [],
   "source": [
    "# year = [str(\"%02d\" %(y)) for y in range(2017, 2022)]\n",
    "# month = [str(\"%02d\" %(m)) for m in range(1, 13)]\n",
    "# base_date_list = [\"%s%s\" %(y, m) for y in year for m in month ]\n",
    "base_date_list = [\"202111\",\"202112\",\"202201\",\"202202\",\"202203\",\"202204\"]"
   ]
  },
  {
   "cell_type": "code",
   "execution_count": 94,
   "id": "b55e657e-1a6c-45df-a596-3d3d392c7aa2",
   "metadata": {},
   "outputs": [
    {
     "data": {
      "text/plain": [
       "['11110',\n",
       " '11140',\n",
       " '11170',\n",
       " '11200',\n",
       " '11215',\n",
       " '11230',\n",
       " '11260',\n",
       " '11290',\n",
       " '11305',\n",
       " '11320',\n",
       " '11350',\n",
       " '11380',\n",
       " '11410',\n",
       " '11440',\n",
       " '11470',\n",
       " '11500',\n",
       " '11500',\n",
       " '11530',\n",
       " '11545',\n",
       " '11560',\n",
       " '11590',\n",
       " '11620',\n",
       " '11650',\n",
       " '11680',\n",
       " '11710',\n",
       " '11740',\n",
       " '28110',\n",
       " '28140',\n",
       " '28177',\n",
       " '28185',\n",
       " '28200',\n",
       " '28237',\n",
       " '28245',\n",
       " '41111',\n",
       " '41113',\n",
       " '41115',\n",
       " '41117',\n",
       " '41131',\n",
       " '41133',\n",
       " '41135',\n",
       " '41150',\n",
       " '41171',\n",
       " '41173',\n",
       " '41190',\n",
       " '41210',\n",
       " '41220',\n",
       " '41250',\n",
       " '41271',\n",
       " '41273',\n",
       " '41281',\n",
       " '41285',\n",
       " '41287',\n",
       " '41290',\n",
       " '41310',\n",
       " '41360',\n",
       " '41360',\n",
       " '41370',\n",
       " '41390',\n",
       " '41410',\n",
       " '41430',\n",
       " '41450',\n",
       " '41461',\n",
       " '41463',\n",
       " '41465',\n",
       " '41480',\n",
       " '41500',\n",
       " '41550',\n",
       " '41570',\n",
       " '41590',\n",
       " '41610',\n",
       " '41650',\n",
       " '41670']"
      ]
     },
     "execution_count": 94,
     "metadata": {},
     "output_type": "execute_result"
    }
   ],
   "source": [
    "gu_list = ['강남구', '강동구', '강북구', '강서구', '관악구', '광진구', '구로구', '금천구', '노원구', '도봉구', '동대문구', '동작구',\n",
    "           '마포구', '서대문구', '서초구', '성동구', '성북구', '송파구', '양천구', '영등포구', '용산구', '은평구', '종로구', '서울중구',\n",
    "           '중랑구', '인천동구', '미추홀구', '연수구', '남동구', '부평구', '계양구', '서구', '인천중구','수원시 장안구', '수원시 권선구', '수원시 팔달구', \n",
    "           '수원시 영통구', '성남시 수정구', '성남시 중원구', '안산시 상록구', '의정부시', '안양시 만안구', '안양시 동안구', '부천시', \n",
    "           '성남시 분당구', '광명시', '평택시', '동두천시', '안산시 단원구', '고양시 덕양구', '고양시 일산동구', '고양시 일산서구', '과천시', \n",
    "           '구리시', '남양주시', '오산시', '시흥시', '군포시', '의왕시', '하남시', '용인시 처인구', '용인시 기흥구', '용인시 수지구', \n",
    "           '파주시', '이천시', '안성시', '김포시', '화성시', '광주시', '양주시', '포천시', '여주시']\n",
    "gu_code_list = []\n",
    "for i in range(len(gu_list)):\n",
    "    gu_code = code[ (code['name'].str.contains(gu_list[i]) )]\n",
    "    gu_code = gu_code['code'].reset_index(drop=True)\n",
    "    gu_code = str(gu_code[0])[0:5]\n",
    "    gu_code_list.append(gu_code)\n",
    "sorted(gu_code_list)"
   ]
  },
  {
   "cell_type": "code",
   "execution_count": 76,
   "id": "1c5e83c4-6518-404d-a3b9-48c28e9a7183",
   "metadata": {},
   "outputs": [],
   "source": [
    "import requests\n",
    "import datetime\n",
    "\n",
    "\n",
    "def sale_data(gu_code, base_date):\n",
    "    url =\"http://openapi.molit.go.kr:8081/OpenAPI_ToolInstallPackage/service/rest/RTMSOBJSvc/getRTMSDataSvcRHTrade?\"\n",
    "    service_key = \"AlUCFS55oaHO3YecssapG9Hf0CTFp23Roj27VnlP3ne7Yr34sWeieyrzDTEb1vGbzvjcQhig/Xjmo1EjP2a1GQ==\"    \n",
    "    payload = \"LAWD_CD=\" + gu_code + \"&\" + \\\n",
    "              \"DEAL_YMD=\" + base_date + \"&\" + \\\n",
    "              \"serviceKey=\" + service_key + \"&\"\n",
    "\n",
    "    res = requests.get(url + payload)\n",
    "    \n",
    "    return res"
   ]
  },
  {
   "cell_type": "code",
   "execution_count": 77,
   "id": "0cd4afa9-1283-49be-9a7e-20d945589353",
   "metadata": {},
   "outputs": [],
   "source": [
    "for gu_code in gu_list:\n",
    "    items_list = []\n",
    "    for base_date in base_date_list:\n",
    "        res = sale_data(gu_code, base_date)\n",
    "        items_list += get_items(res)\n",
    "    df = pd.DataFrame(items_list) \n",
    "    df.to_csv(os.path.join(\"./data/매매/\"+gu_code+\"_매매가.csv\"), index=False,encoding=\"euc-kr\") "
   ]
  },
  {
   "cell_type": "code",
   "execution_count": 79,
   "id": "65f9b747-4946-4f67-856b-5bb250a6207f",
   "metadata": {},
   "outputs": [
    {
     "ename": "EmptyDataError",
     "evalue": "No columns to parse from file",
     "output_type": "error",
     "traceback": [
      "\u001b[1;31m---------------------------------------------------------------------------\u001b[0m",
      "\u001b[1;31mEmptyDataError\u001b[0m                            Traceback (most recent call last)",
      "Input \u001b[1;32mIn [79]\u001b[0m, in \u001b[0;36m<cell line: 1>\u001b[1;34m()\u001b[0m\n\u001b[1;32m----> 1\u001b[0m df \u001b[38;5;241m=\u001b[39m \u001b[43mpd\u001b[49m\u001b[38;5;241;43m.\u001b[39;49m\u001b[43mread_csv\u001b[49m\u001b[43m(\u001b[49m\u001b[38;5;124;43m'\u001b[39;49m\u001b[38;5;124;43m./data/매매/강남구_매매가.csv\u001b[39;49m\u001b[38;5;124;43m'\u001b[39;49m\u001b[43m,\u001b[49m\u001b[43m \u001b[49m\u001b[43mthousands\u001b[49m\u001b[38;5;241;43m=\u001b[39;49m\u001b[38;5;124;43m'\u001b[39;49m\u001b[38;5;124;43m,\u001b[39;49m\u001b[38;5;124;43m'\u001b[39;49m\u001b[43m,\u001b[49m\u001b[43m \u001b[49m\u001b[43mencoding\u001b[49m\u001b[38;5;241;43m=\u001b[39;49m\u001b[38;5;124;43m'\u001b[39;49m\u001b[38;5;124;43mcp949\u001b[39;49m\u001b[38;5;124;43m'\u001b[39;49m\u001b[43m)\u001b[49m\n\u001b[0;32m      2\u001b[0m df\n",
      "File \u001b[1;32m~\\anaconda3\\envs\\pydatavenv\\lib\\site-packages\\pandas\\util\\_decorators.py:311\u001b[0m, in \u001b[0;36mdeprecate_nonkeyword_arguments.<locals>.decorate.<locals>.wrapper\u001b[1;34m(*args, **kwargs)\u001b[0m\n\u001b[0;32m    305\u001b[0m \u001b[38;5;28;01mif\u001b[39;00m \u001b[38;5;28mlen\u001b[39m(args) \u001b[38;5;241m>\u001b[39m num_allow_args:\n\u001b[0;32m    306\u001b[0m     warnings\u001b[38;5;241m.\u001b[39mwarn(\n\u001b[0;32m    307\u001b[0m         msg\u001b[38;5;241m.\u001b[39mformat(arguments\u001b[38;5;241m=\u001b[39marguments),\n\u001b[0;32m    308\u001b[0m         \u001b[38;5;167;01mFutureWarning\u001b[39;00m,\n\u001b[0;32m    309\u001b[0m         stacklevel\u001b[38;5;241m=\u001b[39mstacklevel,\n\u001b[0;32m    310\u001b[0m     )\n\u001b[1;32m--> 311\u001b[0m \u001b[38;5;28;01mreturn\u001b[39;00m func(\u001b[38;5;241m*\u001b[39margs, \u001b[38;5;241m*\u001b[39m\u001b[38;5;241m*\u001b[39mkwargs)\n",
      "File \u001b[1;32m~\\anaconda3\\envs\\pydatavenv\\lib\\site-packages\\pandas\\io\\parsers\\readers.py:680\u001b[0m, in \u001b[0;36mread_csv\u001b[1;34m(filepath_or_buffer, sep, delimiter, header, names, index_col, usecols, squeeze, prefix, mangle_dupe_cols, dtype, engine, converters, true_values, false_values, skipinitialspace, skiprows, skipfooter, nrows, na_values, keep_default_na, na_filter, verbose, skip_blank_lines, parse_dates, infer_datetime_format, keep_date_col, date_parser, dayfirst, cache_dates, iterator, chunksize, compression, thousands, decimal, lineterminator, quotechar, quoting, doublequote, escapechar, comment, encoding, encoding_errors, dialect, error_bad_lines, warn_bad_lines, on_bad_lines, delim_whitespace, low_memory, memory_map, float_precision, storage_options)\u001b[0m\n\u001b[0;32m    665\u001b[0m kwds_defaults \u001b[38;5;241m=\u001b[39m _refine_defaults_read(\n\u001b[0;32m    666\u001b[0m     dialect,\n\u001b[0;32m    667\u001b[0m     delimiter,\n\u001b[1;32m   (...)\u001b[0m\n\u001b[0;32m    676\u001b[0m     defaults\u001b[38;5;241m=\u001b[39m{\u001b[38;5;124m\"\u001b[39m\u001b[38;5;124mdelimiter\u001b[39m\u001b[38;5;124m\"\u001b[39m: \u001b[38;5;124m\"\u001b[39m\u001b[38;5;124m,\u001b[39m\u001b[38;5;124m\"\u001b[39m},\n\u001b[0;32m    677\u001b[0m )\n\u001b[0;32m    678\u001b[0m kwds\u001b[38;5;241m.\u001b[39mupdate(kwds_defaults)\n\u001b[1;32m--> 680\u001b[0m \u001b[38;5;28;01mreturn\u001b[39;00m \u001b[43m_read\u001b[49m\u001b[43m(\u001b[49m\u001b[43mfilepath_or_buffer\u001b[49m\u001b[43m,\u001b[49m\u001b[43m \u001b[49m\u001b[43mkwds\u001b[49m\u001b[43m)\u001b[49m\n",
      "File \u001b[1;32m~\\anaconda3\\envs\\pydatavenv\\lib\\site-packages\\pandas\\io\\parsers\\readers.py:575\u001b[0m, in \u001b[0;36m_read\u001b[1;34m(filepath_or_buffer, kwds)\u001b[0m\n\u001b[0;32m    572\u001b[0m _validate_names(kwds\u001b[38;5;241m.\u001b[39mget(\u001b[38;5;124m\"\u001b[39m\u001b[38;5;124mnames\u001b[39m\u001b[38;5;124m\"\u001b[39m, \u001b[38;5;28;01mNone\u001b[39;00m))\n\u001b[0;32m    574\u001b[0m \u001b[38;5;66;03m# Create the parser.\u001b[39;00m\n\u001b[1;32m--> 575\u001b[0m parser \u001b[38;5;241m=\u001b[39m TextFileReader(filepath_or_buffer, \u001b[38;5;241m*\u001b[39m\u001b[38;5;241m*\u001b[39mkwds)\n\u001b[0;32m    577\u001b[0m \u001b[38;5;28;01mif\u001b[39;00m chunksize \u001b[38;5;129;01mor\u001b[39;00m iterator:\n\u001b[0;32m    578\u001b[0m     \u001b[38;5;28;01mreturn\u001b[39;00m parser\n",
      "File \u001b[1;32m~\\anaconda3\\envs\\pydatavenv\\lib\\site-packages\\pandas\\io\\parsers\\readers.py:933\u001b[0m, in \u001b[0;36mTextFileReader.__init__\u001b[1;34m(self, f, engine, **kwds)\u001b[0m\n\u001b[0;32m    930\u001b[0m     \u001b[38;5;28mself\u001b[39m\u001b[38;5;241m.\u001b[39moptions[\u001b[38;5;124m\"\u001b[39m\u001b[38;5;124mhas_index_names\u001b[39m\u001b[38;5;124m\"\u001b[39m] \u001b[38;5;241m=\u001b[39m kwds[\u001b[38;5;124m\"\u001b[39m\u001b[38;5;124mhas_index_names\u001b[39m\u001b[38;5;124m\"\u001b[39m]\n\u001b[0;32m    932\u001b[0m \u001b[38;5;28mself\u001b[39m\u001b[38;5;241m.\u001b[39mhandles: IOHandles \u001b[38;5;241m|\u001b[39m \u001b[38;5;28;01mNone\u001b[39;00m \u001b[38;5;241m=\u001b[39m \u001b[38;5;28;01mNone\u001b[39;00m\n\u001b[1;32m--> 933\u001b[0m \u001b[38;5;28mself\u001b[39m\u001b[38;5;241m.\u001b[39m_engine \u001b[38;5;241m=\u001b[39m \u001b[38;5;28;43mself\u001b[39;49m\u001b[38;5;241;43m.\u001b[39;49m\u001b[43m_make_engine\u001b[49m\u001b[43m(\u001b[49m\u001b[43mf\u001b[49m\u001b[43m,\u001b[49m\u001b[43m \u001b[49m\u001b[38;5;28;43mself\u001b[39;49m\u001b[38;5;241;43m.\u001b[39;49m\u001b[43mengine\u001b[49m\u001b[43m)\u001b[49m\n",
      "File \u001b[1;32m~\\anaconda3\\envs\\pydatavenv\\lib\\site-packages\\pandas\\io\\parsers\\readers.py:1235\u001b[0m, in \u001b[0;36mTextFileReader._make_engine\u001b[1;34m(self, f, engine)\u001b[0m\n\u001b[0;32m   1232\u001b[0m     \u001b[38;5;28;01mraise\u001b[39;00m \u001b[38;5;167;01mValueError\u001b[39;00m(msg)\n\u001b[0;32m   1234\u001b[0m \u001b[38;5;28;01mtry\u001b[39;00m:\n\u001b[1;32m-> 1235\u001b[0m     \u001b[38;5;28;01mreturn\u001b[39;00m mapping[engine](f, \u001b[38;5;241m*\u001b[39m\u001b[38;5;241m*\u001b[39m\u001b[38;5;28mself\u001b[39m\u001b[38;5;241m.\u001b[39moptions)\n\u001b[0;32m   1236\u001b[0m \u001b[38;5;28;01mexcept\u001b[39;00m \u001b[38;5;167;01mException\u001b[39;00m:\n\u001b[0;32m   1237\u001b[0m     \u001b[38;5;28;01mif\u001b[39;00m \u001b[38;5;28mself\u001b[39m\u001b[38;5;241m.\u001b[39mhandles \u001b[38;5;129;01mis\u001b[39;00m \u001b[38;5;129;01mnot\u001b[39;00m \u001b[38;5;28;01mNone\u001b[39;00m:\n",
      "File \u001b[1;32m~\\anaconda3\\envs\\pydatavenv\\lib\\site-packages\\pandas\\io\\parsers\\c_parser_wrapper.py:75\u001b[0m, in \u001b[0;36mCParserWrapper.__init__\u001b[1;34m(self, src, **kwds)\u001b[0m\n\u001b[0;32m     72\u001b[0m     kwds\u001b[38;5;241m.\u001b[39mpop(key, \u001b[38;5;28;01mNone\u001b[39;00m)\n\u001b[0;32m     74\u001b[0m kwds[\u001b[38;5;124m\"\u001b[39m\u001b[38;5;124mdtype\u001b[39m\u001b[38;5;124m\"\u001b[39m] \u001b[38;5;241m=\u001b[39m ensure_dtype_objs(kwds\u001b[38;5;241m.\u001b[39mget(\u001b[38;5;124m\"\u001b[39m\u001b[38;5;124mdtype\u001b[39m\u001b[38;5;124m\"\u001b[39m, \u001b[38;5;28;01mNone\u001b[39;00m))\n\u001b[1;32m---> 75\u001b[0m \u001b[38;5;28mself\u001b[39m\u001b[38;5;241m.\u001b[39m_reader \u001b[38;5;241m=\u001b[39m parsers\u001b[38;5;241m.\u001b[39mTextReader(src, \u001b[38;5;241m*\u001b[39m\u001b[38;5;241m*\u001b[39mkwds)\n\u001b[0;32m     77\u001b[0m \u001b[38;5;28mself\u001b[39m\u001b[38;5;241m.\u001b[39munnamed_cols \u001b[38;5;241m=\u001b[39m \u001b[38;5;28mself\u001b[39m\u001b[38;5;241m.\u001b[39m_reader\u001b[38;5;241m.\u001b[39munnamed_cols\n\u001b[0;32m     79\u001b[0m \u001b[38;5;66;03m# error: Cannot determine type of 'names'\u001b[39;00m\n",
      "File \u001b[1;32m~\\anaconda3\\envs\\pydatavenv\\lib\\site-packages\\pandas\\_libs\\parsers.pyx:551\u001b[0m, in \u001b[0;36mpandas._libs.parsers.TextReader.__cinit__\u001b[1;34m()\u001b[0m\n",
      "\u001b[1;31mEmptyDataError\u001b[0m: No columns to parse from file"
     ]
    }
   ],
   "source": [
    "df = pd.read_csv('./data/매매/강남구_매매가.csv', thousands=',', encoding='cp949')\n",
    "df"
   ]
  },
  {
   "cell_type": "markdown",
   "id": "489e82eb-60f7-4693-9a65-d655168703f1",
   "metadata": {},
   "source": [
    "# 전세가"
   ]
  },
  {
   "cell_type": "code",
   "execution_count": 48,
   "id": "6c959bf4-92ae-4a83-8aae-2f566b00a0c1",
   "metadata": {},
   "outputs": [],
   "source": [
    "import requests\n",
    "import datetime\n",
    "\n",
    "def lone_data(gu_code, base_date):\n",
    "    url =\"http://openapi.molit.go.kr:8081/OpenAPI_ToolInstallPackage/service/rest/RTMSOBJSvc/getRTMSDataSvcRHRent?\"\n",
    "    service_key = \"AlUCFS55oaHO3YecssapG9Hf0CTFp23Roj27VnlP3ne7Yr34sWeieyrzDTEb1vGbzvjcQhig/Xjmo1EjP2a1GQ==\"    \n",
    "    payload = \"LAWD_CD=\" + gu_code + \"&\" + \\\n",
    "              \"DEAL_YMD=\" + base_date + \"&\" + \\\n",
    "              \"serviceKey=\" + service_key + \"&\"\n",
    "\n",
    "    res = requests.get(url + payload)\n",
    "    \n",
    "    return res"
   ]
  },
  {
   "cell_type": "code",
   "execution_count": 49,
   "id": "03ffc2cf-01e7-4c5e-8aab-bee0cdb94be7",
   "metadata": {},
   "outputs": [],
   "source": [
    "for gu_code in gu_code_list:\n",
    "    items_list = []\n",
    "    for base_date in base_date_list:\n",
    "        res = lone_data(gu_code, base_date)\n",
    "        items_list += get_items(res)\n",
    "    df = pd.DataFrame(items_list) \n",
    "    df.to_csv(os.path.join(\"./data/전세/\"+gu_code+\"_전세가.csv\"), index=False,encoding=\"euc-kr\") "
   ]
  },
  {
   "cell_type": "markdown",
   "id": "3208e505-0e71-40a5-a51c-e08ad072255e",
   "metadata": {},
   "source": [
    "# 매매가 데이터 합치기"
   ]
  },
  {
   "cell_type": "code",
   "execution_count": 61,
   "id": "38b583f8-90b4-4d91-84a6-e422e9f2c5ca",
   "metadata": {},
   "outputs": [
    {
     "data": {
      "text/html": [
       "<div>\n",
       "<style scoped>\n",
       "    .dataframe tbody tr th:only-of-type {\n",
       "        vertical-align: middle;\n",
       "    }\n",
       "\n",
       "    .dataframe tbody tr th {\n",
       "        vertical-align: top;\n",
       "    }\n",
       "\n",
       "    .dataframe thead th {\n",
       "        text-align: right;\n",
       "    }\n",
       "</style>\n",
       "<table border=\"1\" class=\"dataframe\">\n",
       "  <thead>\n",
       "    <tr style=\"text-align: right;\">\n",
       "      <th></th>\n",
       "      <th>매매가</th>\n",
       "      <th>전세가</th>\n",
       "    </tr>\n",
       "  </thead>\n",
       "  <tbody>\n",
       "    <tr>\n",
       "      <th>0</th>\n",
       "      <td>46551.595745</td>\n",
       "      <td>29484.561151</td>\n",
       "    </tr>\n",
       "  </tbody>\n",
       "</table>\n",
       "</div>"
      ],
      "text/plain": [
       "            매매가           전세가\n",
       "0  46551.595745  29484.561151"
      ]
     },
     "execution_count": 61,
     "metadata": {},
     "output_type": "execute_result"
    }
   ],
   "source": [
    "sale_df = pd.read_csv('./data/매매/11110_매매가.csv', thousands=',', encoding='cp949')\n",
    "sale_df = sale_df[['년', '월', '거래금액']]\n",
    "sale_df = [sale_df['거래금액'].mean()]\n",
    "\n",
    "\n",
    "lone_df = pd.read_csv('./data/전세/11110_전세가.csv', thousands=',', encoding='cp949')\n",
    "lone_df = lone_df[['년','월','월세금액','보증금액']]\n",
    "lone_df = lone_df[lone_df['월세금액'] == 0].drop(['월세금액'], axis=1).reset_index(drop=True)\n",
    "lone_df = [lone_df['보증금액'].mean()]\n",
    "\n",
    "df = pd.DataFrame({'매매가':sale_df, '전세가':lone_df})\n",
    "df"
   ]
  },
  {
   "cell_type": "code",
   "execution_count": 67,
   "id": "13cd571c-bda8-491f-a57e-9390796131c8",
   "metadata": {},
   "outputs": [],
   "source": [
    "sale_list = []\n",
    "lone_list = []\n",
    "for gu_code in gu_code_list:\n",
    "    sale_df = pd.read_csv('./data/매매/'+gu_code+'_매매가.csv', thousands=',', encoding='cp949')\n",
    "    sale_df = sale_df[['년', '월', '거래금액']]\n",
    "    sale_df = sale_df['거래금액'].mean()\n",
    "\n",
    "    lone_df = pd.read_csv('./data/전세/'+gu_code+'_전세가.csv', thousands=',', encoding='cp949')\n",
    "    lone_df = lone_df[['년','월','월세금액','보증금액']]\n",
    "    lone_df = lone_df[lone_df['월세금액'] == 0].drop(['월세금액'], axis=1).reset_index(drop=True)\n",
    "    lone_df = lone_df['보증금액'].mean()\n",
    "    \n",
    "    sale_list.append(sale_df)\n",
    "    lone_list.append(lone_df)"
   ]
  },
  {
   "cell_type": "code",
   "execution_count": 69,
   "id": "7bc8739a-4d8c-44a4-b319-70c47ae1c1f8",
   "metadata": {},
   "outputs": [
    {
     "data": {
      "text/html": [
       "<div>\n",
       "<style scoped>\n",
       "    .dataframe tbody tr th:only-of-type {\n",
       "        vertical-align: middle;\n",
       "    }\n",
       "\n",
       "    .dataframe tbody tr th {\n",
       "        vertical-align: top;\n",
       "    }\n",
       "\n",
       "    .dataframe thead th {\n",
       "        text-align: right;\n",
       "    }\n",
       "</style>\n",
       "<table border=\"1\" class=\"dataframe\">\n",
       "  <thead>\n",
       "    <tr style=\"text-align: right;\">\n",
       "      <th></th>\n",
       "      <th>지역코드</th>\n",
       "      <th>매매가</th>\n",
       "      <th>전세가</th>\n",
       "      <th>전세가율</th>\n",
       "    </tr>\n",
       "  </thead>\n",
       "  <tbody>\n",
       "    <tr>\n",
       "      <th>0</th>\n",
       "      <td>11680</td>\n",
       "      <td>60651.149474</td>\n",
       "      <td>33386.354858</td>\n",
       "      <td>0.550465</td>\n",
       "    </tr>\n",
       "    <tr>\n",
       "      <th>1</th>\n",
       "      <td>11740</td>\n",
       "      <td>33607.249135</td>\n",
       "      <td>24663.548313</td>\n",
       "      <td>0.733876</td>\n",
       "    </tr>\n",
       "    <tr>\n",
       "      <th>2</th>\n",
       "      <td>11305</td>\n",
       "      <td>23349.789424</td>\n",
       "      <td>18705.146104</td>\n",
       "      <td>0.801084</td>\n",
       "    </tr>\n",
       "    <tr>\n",
       "      <th>3</th>\n",
       "      <td>11500</td>\n",
       "      <td>24556.606794</td>\n",
       "      <td>22250.464333</td>\n",
       "      <td>0.906089</td>\n",
       "    </tr>\n",
       "    <tr>\n",
       "      <th>4</th>\n",
       "      <td>11620</td>\n",
       "      <td>27173.798255</td>\n",
       "      <td>22785.936404</td>\n",
       "      <td>0.838526</td>\n",
       "    </tr>\n",
       "    <tr>\n",
       "      <th>...</th>\n",
       "      <td>...</td>\n",
       "      <td>...</td>\n",
       "      <td>...</td>\n",
       "      <td>...</td>\n",
       "    </tr>\n",
       "    <tr>\n",
       "      <th>67</th>\n",
       "      <td>41590</td>\n",
       "      <td>11938.062738</td>\n",
       "      <td>13734.363118</td>\n",
       "      <td>1.150468</td>\n",
       "    </tr>\n",
       "    <tr>\n",
       "      <th>68</th>\n",
       "      <td>41610</td>\n",
       "      <td>20502.588082</td>\n",
       "      <td>18145.555050</td>\n",
       "      <td>0.885037</td>\n",
       "    </tr>\n",
       "    <tr>\n",
       "      <th>69</th>\n",
       "      <td>41360</td>\n",
       "      <td>15670.344435</td>\n",
       "      <td>12605.484061</td>\n",
       "      <td>0.804417</td>\n",
       "    </tr>\n",
       "    <tr>\n",
       "      <th>70</th>\n",
       "      <td>41650</td>\n",
       "      <td>9924.072386</td>\n",
       "      <td>10329.212329</td>\n",
       "      <td>1.040824</td>\n",
       "    </tr>\n",
       "    <tr>\n",
       "      <th>71</th>\n",
       "      <td>41670</td>\n",
       "      <td>17621.771429</td>\n",
       "      <td>10725.925926</td>\n",
       "      <td>0.608675</td>\n",
       "    </tr>\n",
       "  </tbody>\n",
       "</table>\n",
       "<p>72 rows × 4 columns</p>\n",
       "</div>"
      ],
      "text/plain": [
       "     지역코드           매매가           전세가      전세가율\n",
       "0   11680  60651.149474  33386.354858  0.550465\n",
       "1   11740  33607.249135  24663.548313  0.733876\n",
       "2   11305  23349.789424  18705.146104  0.801084\n",
       "3   11500  24556.606794  22250.464333  0.906089\n",
       "4   11620  27173.798255  22785.936404  0.838526\n",
       "..    ...           ...           ...       ...\n",
       "67  41590  11938.062738  13734.363118  1.150468\n",
       "68  41610  20502.588082  18145.555050  0.885037\n",
       "69  41360  15670.344435  12605.484061  0.804417\n",
       "70  41650   9924.072386  10329.212329  1.040824\n",
       "71  41670  17621.771429  10725.925926  0.608675\n",
       "\n",
       "[72 rows x 4 columns]"
      ]
     },
     "execution_count": 69,
     "metadata": {},
     "output_type": "execute_result"
    }
   ],
   "source": [
    "data = pd.DataFrame({'지역코드':gu_code_list, '매매가':sale_list, '전세가':lone_list})\n",
    "data['전세가율'] = data['전세가'] / data['매매가']\n",
    "data"
   ]
  },
  {
   "cell_type": "code",
   "execution_count": 70,
   "id": "7e7573a7-384f-4e59-b501-2f1e2d3cb43a",
   "metadata": {},
   "outputs": [],
   "source": [
    "data.to_csv(os.path.join(\"./data/수도권크롤링.csv\"), index=False,encoding=\"euc-kr\") "
   ]
  },
  {
   "cell_type": "code",
   "execution_count": null,
   "id": "629946c1-8622-47f1-8231-56d667bdfd51",
   "metadata": {},
   "outputs": [],
   "source": []
  }
 ],
 "metadata": {
  "kernelspec": {
   "display_name": "pydatavenv",
   "language": "python",
   "name": "pydatavenv"
  },
  "language_info": {
   "codemirror_mode": {
    "name": "ipython",
    "version": 3
   },
   "file_extension": ".py",
   "mimetype": "text/x-python",
   "name": "python",
   "nbconvert_exporter": "python",
   "pygments_lexer": "ipython3",
   "version": "3.9.12"
  }
 },
 "nbformat": 4,
 "nbformat_minor": 5
}
