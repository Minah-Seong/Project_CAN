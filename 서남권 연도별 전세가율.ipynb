{
 "cells": [
  {
   "cell_type": "code",
   "execution_count": null,
   "id": "b674f27e-39f9-40f7-a72f-0070db20f434",
   "metadata": {},
   "outputs": [],
   "source": [
    "import pandas as pd\n",
    "import seaborn as sns\n",
    "import numpy as np\n",
    "import matplotlib.pyplot as plt\n",
    "import sys\n",
    "from matplotlib import font_manager, rc, cm                ## 폰트를 관리하는 함수와 설정 함수를 사용한다. \n",
    "\n",
    "font_path = './font/GmarketSansTTFMedium.ttf'\n",
    "font_name = font_manager.FontProperties(fname=font_path).get_name()\n",
    "rc('font', family=font_name)"
   ]
  },
  {
   "cell_type": "code",
   "execution_count": null,
   "id": "87670440-c0a0-4ed5-9b64-b05f0bb19503",
   "metadata": {},
   "outputs": [
    {
     "data": {
      "text/html": [
       "<div>\n",
       "<style scoped>\n",
       "    .dataframe tbody tr th:only-of-type {\n",
       "        vertical-align: middle;\n",
       "    }\n",
       "\n",
       "    .dataframe tbody tr th {\n",
       "        vertical-align: top;\n",
       "    }\n",
       "\n",
       "    .dataframe thead th {\n",
       "        text-align: right;\n",
       "    }\n",
       "</style>\n",
       "<table border=\"1\" class=\"dataframe\">\n",
       "  <thead>\n",
       "    <tr style=\"text-align: right;\">\n",
       "      <th></th>\n",
       "      <th>2017.01 월</th>\n",
       "      <th>2017.02 월</th>\n",
       "      <th>2017.03 월</th>\n",
       "      <th>2017.04 월</th>\n",
       "      <th>2017.05 월</th>\n",
       "      <th>2017.06 월</th>\n",
       "      <th>2017.07 월</th>\n",
       "      <th>2017.08 월</th>\n",
       "      <th>2017.09 월</th>\n",
       "      <th>2017.10 월</th>\n",
       "      <th>...</th>\n",
       "      <th>2021.03 월</th>\n",
       "      <th>2021.04 월</th>\n",
       "      <th>2021.05 월</th>\n",
       "      <th>2021.06 월</th>\n",
       "      <th>2021.07 월</th>\n",
       "      <th>2021.08 월</th>\n",
       "      <th>2021.09 월</th>\n",
       "      <th>2021.10 월</th>\n",
       "      <th>2021.11 월</th>\n",
       "      <th>2021.12 월</th>\n",
       "    </tr>\n",
       "    <tr>\n",
       "      <th>지역별</th>\n",
       "      <th></th>\n",
       "      <th></th>\n",
       "      <th></th>\n",
       "      <th></th>\n",
       "      <th></th>\n",
       "      <th></th>\n",
       "      <th></th>\n",
       "      <th></th>\n",
       "      <th></th>\n",
       "      <th></th>\n",
       "      <th></th>\n",
       "      <th></th>\n",
       "      <th></th>\n",
       "      <th></th>\n",
       "      <th></th>\n",
       "      <th></th>\n",
       "      <th></th>\n",
       "      <th></th>\n",
       "      <th></th>\n",
       "      <th></th>\n",
       "      <th></th>\n",
       "    </tr>\n",
       "  </thead>\n",
       "  <tbody>\n",
       "    <tr>\n",
       "      <th>서남권</th>\n",
       "      <td>65.360986</td>\n",
       "      <td>65.370047</td>\n",
       "      <td>65.385034</td>\n",
       "      <td>65.417969</td>\n",
       "      <td>65.448275</td>\n",
       "      <td>65.451413</td>\n",
       "      <td>65.435139</td>\n",
       "      <td>65.327886</td>\n",
       "      <td>65.390686</td>\n",
       "      <td>65.396831</td>\n",
       "      <td>...</td>\n",
       "      <td>75.782326</td>\n",
       "      <td>75.738832</td>\n",
       "      <td>75.693571</td>\n",
       "      <td>75.590263</td>\n",
       "      <td>70.191574</td>\n",
       "      <td>70.368089</td>\n",
       "      <td>70.442674</td>\n",
       "      <td>70.332018</td>\n",
       "      <td>70.23455</td>\n",
       "      <td>70.316033</td>\n",
       "    </tr>\n",
       "  </tbody>\n",
       "</table>\n",
       "<p>1 rows × 60 columns</p>\n",
       "</div>"
      ],
      "text/plain": [
       "     2017.01 월  2017.02 월  2017.03 월  2017.04 월  2017.05 월  2017.06 월  \\\n",
       "지역별                                                                     \n",
       "서남권  65.360986  65.370047  65.385034  65.417969  65.448275  65.451413   \n",
       "\n",
       "     2017.07 월  2017.08 월  2017.09 월  2017.10 월  ...  2021.03 월  2021.04 월  \\\n",
       "지역별                                              ...                         \n",
       "서남권  65.435139  65.327886  65.390686  65.396831  ...  75.782326  75.738832   \n",
       "\n",
       "     2021.05 월  2021.06 월  2021.07 월  2021.08 월  2021.09 월  2021.10 월  \\\n",
       "지역별                                                                     \n",
       "서남권  75.693571  75.590263  70.191574  70.368089  70.442674  70.332018   \n",
       "\n",
       "     2021.11 월  2021.12 월  \n",
       "지역별                        \n",
       "서남권   70.23455  70.316033  \n",
       "\n",
       "[1 rows x 60 columns]"
      ]
     },
     "execution_count": 3,
     "metadata": {},
     "output_type": "execute_result"
    }
   ],
   "source": [
    "ndf = pd.read_excel('./data/서남권_연도별_전세가율.xlsx', index_col=0)\n",
    "ndf"
   ]
  },
  {
   "cell_type": "code",
   "execution_count": null,
   "id": "001be80b-60c0-4010-9755-c7dd5a366f9d",
   "metadata": {},
   "outputs": [
    {
     "ename": "NameError",
     "evalue": "name 'plt' is not defined",
     "output_type": "error",
     "traceback": [
      "\u001b[1;31m---------------------------------------------------------------------------\u001b[0m",
      "\u001b[1;31mNameError\u001b[0m                                 Traceback (most recent call last)",
      "Input \u001b[1;32mIn [1]\u001b[0m, in \u001b[0;36m<cell line: 3>\u001b[1;34m()\u001b[0m\n\u001b[0;32m      1\u001b[0m \u001b[38;5;66;03m# colors = sns.color_palette('BuGn',len(ndf.columns))\u001b[39;00m\n\u001b[1;32m----> 3\u001b[0m fig \u001b[38;5;241m=\u001b[39m \u001b[43mplt\u001b[49m\u001b[38;5;241m.\u001b[39mfigure(figsize\u001b[38;5;241m=\u001b[39m(\u001b[38;5;241m10\u001b[39m,\u001b[38;5;241m6\u001b[39m))\n\u001b[0;32m      4\u001b[0m fig\u001b[38;5;241m.\u001b[39mset_facecolor(\u001b[38;5;124m'\u001b[39m\u001b[38;5;124mwhite\u001b[39m\u001b[38;5;124m'\u001b[39m)\n\u001b[0;32m      5\u001b[0m ax \u001b[38;5;241m=\u001b[39m fig\u001b[38;5;241m.\u001b[39madd_subplot()\n",
      "\u001b[1;31mNameError\u001b[0m: name 'plt' is not defined"
     ]
    }
   ],
   "source": [
    "colors = sns.color_palette('BuGn',len(ndf.columns))\n",
    "\n",
    "fig = plt.figure(figsize=(12,6))\n",
    "fig.set_facecolor('white')\n",
    "ax = fig.add_subplot()\n",
    "\n",
    "\n",
    "line1 = ax.plot(ndf.columns, ndf.loc['서남권'], label='서남권', linewidth=8, color ='#00CC99')\n",
    "\n",
    "ax.set_title('서남권 전세가율 시계열 그래프',size=18, pad=10)\n",
    "\n",
    "ax.set_xticklabels(labels=ndf.columns, fontsize=11)\n",
    "\n",
    "plt.xticks([0,10, 23, 36, 48, 59], ['2017년 1월', '2017년 10월', '2018년 12월', '2019년 12월', \n",
    "                                    '2020년 12월', '2021년 12월' ])\n",
    "\n",
    "\n",
    "ax.set_ylabel('매매가격 대비 전세가격 비(%)', fontsize = 15)\n",
    "ax.legend(loc='best')\n",
    "\n",
    "plt.savefig('./output/서남권_전세가율_시게열그래프.png')"
   ]
  },
  {
   "cell_type": "code",
   "execution_count": 50,
   "id": "cd9bac2d-2369-4453-b4b7-17a3c96c0e07",
   "metadata": {},
   "outputs": [
    {
     "data": {
      "text/plain": [
       "Text(0, 0.5, 'Y')"
      ]
     },
     "execution_count": 50,
     "metadata": {},
     "output_type": "execute_result"
    },
    {
     "data": {
      "image/png": "[encoded data removed]",
      "text/plain": [
       "<Figure size 432x288 with 1 Axes>"
      ]
     },
     "metadata": {
      "needs_background": "light"
     },
     "output_type": "display_data"
    }
   ],
   "source": [
    " plt.plot(ndf.columns, ndf.loc['서남권'], color = 'blue')\n",
    " plt.title(\"Inlineplot seaborn\")\n",
    " plt.xlabel(\"X\")\n",
    " plt.ylabel(\"Y\")"
   ]
  },
  {
   "cell_type": "code",
   "execution_count": null,
   "id": "acbec996-00e0-4cae-8c42-4de4c8b6db4f",
   "metadata": {},
   "outputs": [],
   "source": []
  },
  {
   "cell_type": "code",
   "execution_count": null,
   "id": "5c22bef5-2b93-4f60-bfce-ac86bc47b2c3",
   "metadata": {},
   "outputs": [],
   "source": []
  }
 ],
 "metadata": {
  "kernelspec": {
   "display_name": "Python 3 (ipykernel)",
   "language": "python",
   "name": "python3"
  },
  "language_info": {
   "codemirror_mode": {
    "name": "ipython",
    "version": 3
   },
   "file_extension": ".py",
   "mimetype": "text/x-python",
   "name": "python",
   "nbconvert_exporter": "python",
   "pygments_lexer": "ipython3",
   "version": "3.9.12"
  }
 },
 "nbformat": 4,
 "nbformat_minor": 5
}
