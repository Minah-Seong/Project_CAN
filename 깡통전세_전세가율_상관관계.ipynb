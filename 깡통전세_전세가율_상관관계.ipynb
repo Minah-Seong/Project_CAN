{
 "cells": [
  {
   "cell_type": "code",
   "execution_count": 56,
   "id": "2138c895-ac4c-40af-b772-68bae7ef70dd",
   "metadata": {},
   "outputs": [],
   "source": [
    "import pandas as pd\n",
    "import seaborn as sns\n",
    "import numpy as np\n",
    "import matplotlib.pyplot as plt\n",
    "import sys\n",
    "from matplotlib import font_manager, rc, cm                ## 폰트를 관리하는 함수와 설정 함수를 사용한다. \n",
    "\n",
    "font_path = './font/GmarketSansTTFMedium.ttf'\n",
    "font_name = font_manager.FontProperties(fname=font_path).get_name()\n",
    "rc('font', family=font_name)"
   ]
  },
  {
   "cell_type": "code",
   "execution_count": 57,
   "id": "e6a659a6-ca97-4a63-a550-b90555353d9c",
   "metadata": {},
   "outputs": [],
   "source": [
    "# 평균 매매가격\n",
    "data = pd.read_excel('./data/price/평균매매가격_아파트.xlsx', header=10)\n",
    "data = data.drop(['Unnamed: 1', 'Unnamed: 2', 'Unnamed: 3'], axis=1)\n",
    "data = data.iloc[[0],:].drop('지 역', axis=1).T\n",
    "sale_data = data.iloc[48:120].astype('int64')\n",
    "sale_data.columns = ['매매가']\n",
    "sale_data.reset_index(drop=False, inplace= True)\n",
    "date_list = sale_data['index'].str.split(' ')\n",
    "\n",
    "sale_data['연도'] = date_list.str.get(0)\n",
    "sale_data['월'] = date_list.str.get(1)\n",
    "\n",
    "grouped = sale_data.groupby('연도')\n",
    "grouped_sale_data = grouped.mean()"
   ]
  },
  {
   "cell_type": "code",
   "execution_count": 58,
   "id": "76be9757-89c3-4654-a75d-2cd07b3ae6d6",
   "metadata": {},
   "outputs": [],
   "source": [
    "# 평균 전세가격\n",
    "data = pd.read_excel('./data/price/평균전세가격_아파트.xlsx', header=10)\n",
    "data = data.drop(['Unnamed: 1', 'Unnamed: 2', 'Unnamed: 3'], axis=1)\n",
    "data = data.iloc[[0],:].drop('지 역', axis=1).T\n",
    "lease_data = data.iloc[48:120].astype('int64')\n",
    "lease_data.columns = ['전세가']\n",
    "lease_data.reset_index(drop=False, inplace= True)\n",
    "date_list = lease_data['index'].str.split(' ')\n",
    "\n",
    "lease_data['연도'] = date_list.str.get(0)\n",
    "lease_data['월'] = date_list.str.get(1)\n",
    "\n",
    "grouped = lease_data.groupby('연도')\n",
    "grouped_lease_data = grouped.mean()"
   ]
  },
  {
   "cell_type": "code",
   "execution_count": 59,
   "id": "33939dc2-0cf7-4a34-b9c2-aabd60c2b35b",
   "metadata": {},
   "outputs": [],
   "source": [
    "data = pd.read_excel('./data/price/매매가격대비전세가격_평균가격_아파트.xlsx', header=10)\n",
    "data = data.drop(['Unnamed: 1', 'Unnamed: 2', 'Unnamed: 3'], axis=1)\n",
    "data = data.iloc[[0],:].drop('지 역', axis=1).T\n",
    "per_data = data.iloc[48:120].astype('int64')\n",
    "per_data.columns = ['전세가율']\n",
    "per_data.reset_index(drop=False, inplace= True)\n",
    "date_list = per_data['index'].str.split(' ')\n",
    "\n",
    "per_data['연도'] = date_list.str.get(0)\n",
    "per_data['월'] = date_list.str.get(1)\n",
    "\n",
    "grouped = per_data.groupby('연도')\n",
    "grouped_per_data = grouped.mean()"
   ]
  },
  {
   "cell_type": "code",
   "execution_count": 60,
   "id": "6beffecc-2994-4116-8ab7-b527db92b802",
   "metadata": {},
   "outputs": [],
   "source": [
    "data = pd.read_csv('./data/보증사고현황(2016-2021).csv', encoding = 'CP949')\n",
    "data = data.set_index('연도')\n",
    "accident_data = pd.DataFrame(data[data['보증종류'] == '전세보증금반환보증']['건수'])"
   ]
  },
  {
   "cell_type": "code",
   "execution_count": 61,
   "id": "5bb10929-b907-408d-8434-1d582eb86b8d",
   "metadata": {},
   "outputs": [
    {
     "data": {
      "text/html": [
       "<div>\n",
       "<style scoped>\n",
       "    .dataframe tbody tr th:only-of-type {\n",
       "        vertical-align: middle;\n",
       "    }\n",
       "\n",
       "    .dataframe tbody tr th {\n",
       "        vertical-align: top;\n",
       "    }\n",
       "\n",
       "    .dataframe thead th {\n",
       "        text-align: right;\n",
       "    }\n",
       "</style>\n",
       "<table border=\"1\" class=\"dataframe\">\n",
       "  <thead>\n",
       "    <tr style=\"text-align: right;\">\n",
       "      <th></th>\n",
       "      <th>건수</th>\n",
       "      <th>매매가</th>\n",
       "      <th>전세가</th>\n",
       "      <th>전세가율</th>\n",
       "    </tr>\n",
       "    <tr>\n",
       "      <th>연도</th>\n",
       "      <th></th>\n",
       "      <th></th>\n",
       "      <th></th>\n",
       "      <th></th>\n",
       "    </tr>\n",
       "  </thead>\n",
       "  <tbody>\n",
       "    <tr>\n",
       "      <th>2016년</th>\n",
       "      <td>27</td>\n",
       "      <td>281272.333333</td>\n",
       "      <td>203355.250000</td>\n",
       "      <td>73.750000</td>\n",
       "    </tr>\n",
       "    <tr>\n",
       "      <th>2017년</th>\n",
       "      <td>33</td>\n",
       "      <td>288256.833333</td>\n",
       "      <td>208642.500000</td>\n",
       "      <td>74.083333</td>\n",
       "    </tr>\n",
       "    <tr>\n",
       "      <th>2018년</th>\n",
       "      <td>372</td>\n",
       "      <td>321295.916667</td>\n",
       "      <td>224878.833333</td>\n",
       "      <td>73.666667</td>\n",
       "    </tr>\n",
       "    <tr>\n",
       "      <th>2019년</th>\n",
       "      <td>1630</td>\n",
       "      <td>346602.000000</td>\n",
       "      <td>224964.583333</td>\n",
       "      <td>71.000000</td>\n",
       "    </tr>\n",
       "    <tr>\n",
       "      <th>2020년</th>\n",
       "      <td>2408</td>\n",
       "      <td>379655.666667</td>\n",
       "      <td>238244.583333</td>\n",
       "      <td>70.083333</td>\n",
       "    </tr>\n",
       "    <tr>\n",
       "      <th>2021년</th>\n",
       "      <td>2799</td>\n",
       "      <td>459218.666667</td>\n",
       "      <td>286890.083333</td>\n",
       "      <td>69.166667</td>\n",
       "    </tr>\n",
       "  </tbody>\n",
       "</table>\n",
       "</div>"
      ],
      "text/plain": [
       "         건수            매매가            전세가       전세가율\n",
       "연도                                                  \n",
       "2016년    27  281272.333333  203355.250000  73.750000\n",
       "2017년    33  288256.833333  208642.500000  74.083333\n",
       "2018년   372  321295.916667  224878.833333  73.666667\n",
       "2019년  1630  346602.000000  224964.583333  71.000000\n",
       "2020년  2408  379655.666667  238244.583333  70.083333\n",
       "2021년  2799  459218.666667  286890.083333  69.166667"
      ]
     },
     "execution_count": 61,
     "metadata": {},
     "output_type": "execute_result"
    }
   ],
   "source": [
    "df = pd.concat([accident_data, grouped_sale_data, grouped_lease_data, grouped_per_data], join='inner', axis=1)\n",
    "df"
   ]
  },
  {
   "cell_type": "code",
   "execution_count": 62,
   "id": "3c88d3c3-e0a3-4e01-80ea-fd4822d6644f",
   "metadata": {},
   "outputs": [
    {
     "data": {
      "text/html": [
       "<div>\n",
       "<style scoped>\n",
       "    .dataframe tbody tr th:only-of-type {\n",
       "        vertical-align: middle;\n",
       "    }\n",
       "\n",
       "    .dataframe tbody tr th {\n",
       "        vertical-align: top;\n",
       "    }\n",
       "\n",
       "    .dataframe thead th {\n",
       "        text-align: right;\n",
       "    }\n",
       "</style>\n",
       "<table border=\"1\" class=\"dataframe\">\n",
       "  <thead>\n",
       "    <tr style=\"text-align: right;\">\n",
       "      <th></th>\n",
       "      <th>건수</th>\n",
       "      <th>매매가</th>\n",
       "      <th>전세가</th>\n",
       "      <th>전세가율</th>\n",
       "    </tr>\n",
       "  </thead>\n",
       "  <tbody>\n",
       "    <tr>\n",
       "      <th>건수</th>\n",
       "      <td>1.000000</td>\n",
       "      <td>0.940007</td>\n",
       "      <td>0.857649</td>\n",
       "      <td>-0.994874</td>\n",
       "    </tr>\n",
       "    <tr>\n",
       "      <th>매매가</th>\n",
       "      <td>0.940007</td>\n",
       "      <td>1.000000</td>\n",
       "      <td>0.981449</td>\n",
       "      <td>-0.929508</td>\n",
       "    </tr>\n",
       "    <tr>\n",
       "      <th>전세가</th>\n",
       "      <td>0.857649</td>\n",
       "      <td>0.981449</td>\n",
       "      <td>1.000000</td>\n",
       "      <td>-0.844418</td>\n",
       "    </tr>\n",
       "    <tr>\n",
       "      <th>전세가율</th>\n",
       "      <td>-0.994874</td>\n",
       "      <td>-0.929508</td>\n",
       "      <td>-0.844418</td>\n",
       "      <td>1.000000</td>\n",
       "    </tr>\n",
       "  </tbody>\n",
       "</table>\n",
       "</div>"
      ],
      "text/plain": [
       "            건수       매매가       전세가      전세가율\n",
       "건수    1.000000  0.940007  0.857649 -0.994874\n",
       "매매가   0.940007  1.000000  0.981449 -0.929508\n",
       "전세가   0.857649  0.981449  1.000000 -0.844418\n",
       "전세가율 -0.994874 -0.929508 -0.844418  1.000000"
      ]
     },
     "execution_count": 62,
     "metadata": {},
     "output_type": "execute_result"
    }
   ],
   "source": [
    "df.corr()"
   ]
  },
  {
   "cell_type": "code",
   "execution_count": 63,
   "id": "b56992de-2809-4724-a6c6-f3a82dbffe2e",
   "metadata": {},
   "outputs": [
    {
     "name": "stderr",
     "output_type": "stream",
     "text": [
      "C:\\Users\\Seungjun\\anaconda3\\envs\\pydatavenv\\lib\\site-packages\\seaborn\\utils.py:95: UserWarning: Glyph 8722 (\\N{MINUS SIGN}) missing from current font.\n",
      "  fig.canvas.draw()\n",
      "C:\\Users\\Seungjun\\anaconda3\\envs\\pydatavenv\\lib\\site-packages\\IPython\\core\\pylabtools.py:151: UserWarning: Glyph 8722 (\\N{MINUS SIGN}) missing from current font.\n",
      "  fig.canvas.print_figure(bytes_io, **kw)\n"
     ]
    },
    {
     "data": {
      "image/png": "[encoded data removed]",
      "text/plain": [
       "<Figure size 504x504 with 2 Axes>"
      ]
     },
     "metadata": {
      "needs_background": "light"
     },
     "output_type": "display_data"
    }
   ],
   "source": [
    "fig, ax = plt.subplots( figsize=(7,7) )\n",
    "\n",
    "# 히트맵을 그린다\n",
    "sns.heatmap(df.corr(), \n",
    "            cmap = 'RdYlBu_r',\n",
    "            annot = True,\n",
    "            linewidths=.5,  # 경계면 실선으로 구분하기\n",
    "            cbar_kws={\"shrink\": .5},# 컬러바 크기 절반으로 줄이기\n",
    "            vmin = -1,vmax = 1   # 컬러바 범위 -1 ~ 1\n",
    "           )  \n",
    "plt.show()"
   ]
  },
  {
   "cell_type": "code",
   "execution_count": null,
   "id": "6f5da9fb-a836-40b4-b0ce-33c4a4917ff8",
   "metadata": {},
   "outputs": [],
   "source": []
  }
 ],
 "metadata": {
  "kernelspec": {
   "display_name": "pydatavenv",
   "language": "python",
   "name": "pydatavenv"
  },
  "language_info": {
   "codemirror_mode": {
    "name": "ipython",
    "version": 3
   },
   "file_extension": ".py",
   "mimetype": "text/x-python",
   "name": "python",
   "nbconvert_exporter": "python",
   "pygments_lexer": "ipython3",
   "version": "3.9.12"
  }
 },
 "nbformat": 4,
 "nbformat_minor": 5
}
