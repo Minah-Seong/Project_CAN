{
 "cells": [
  {
   "cell_type": "code",
   "execution_count": 1,
   "id": "bf990508-d18f-4e89-be11-fdd82b785962",
   "metadata": {},
   "outputs": [],
   "source": [
    "import pandas as pd\n",
    "import seaborn as sns\n",
    "import numpy as np\n",
    "import matplotlib.pyplot as plt\n",
    "import sys\n",
    "from matplotlib import font_manager, rc, cm                ## 폰트를 관리하는 함수와 설정 함수를 사용한다. \n",
    "\n",
    "font_path = './font/GmarketSansTTFMedium.ttf'\n",
    "font_name = font_manager.FontProperties(fname=font_path).get_name()\n",
    "rc('font', family=font_name)"
   ]
  },
  {
   "cell_type": "code",
   "execution_count": 2,
   "id": "c3ab8efe-00dc-4ca4-a4a4-5e0c6a5e7252",
   "metadata": {},
   "outputs": [
    {
     "name": "stderr",
     "output_type": "stream",
     "text": [
      "C:\\Users\\User\\anaconda3\\envs\\pydatavenv\\lib\\site-packages\\openpyxl\\styles\\stylesheet.py:226: UserWarning: Workbook contains no default style, apply openpyxl's default\n",
      "  warn(\"Workbook contains no default style, apply openpyxl's default\")\n"
     ]
    }
   ],
   "source": [
    "# 데이터 불러오고 전처리\n",
    "# 오피스텔\n",
    "data1 = pd.read_excel('./data/price/오피스텔_전세가격1.xlsx')\n",
    "data1 = data1[['2019.01', '2019.07', '2020.01']]\n",
    "data1.rename(columns={'2019.01':'2019년 01월',\n",
    "                     '2019.07':'2019년 07월',\n",
    "                     '2020.01':'2020년 01월'}, inplace=True)\n",
    "data1 = data1.drop(0)\n",
    "data1 = data1.iloc[0]\n",
    "\n",
    "data2 = pd.read_excel('./data/price/오피스텔_전세가격2.xlsx', header=10)\n",
    "data2 = data2[['2020년 07월', '2021년 01월', '2021년 07월', '2022년 01월']]\n",
    "data2 = data2.drop(0)\n",
    "data2 = data2.iloc[0]\n",
    "\n",
    "# 오피스텔 concat\n",
    "data = pd.concat((data1, data2))\n",
    "\n",
    "# 단독\n",
    "data3 = pd.read_excel('./data/price/평균전세가격_단독.xlsx', header=10)\n",
    "data3 = data3.drop(['Unnamed: 1', 'Unnamed: 2'], axis=1)\n",
    "data3 = data3[['2019년 01월', '2019년 07월', '2020년 01월', '2020년 07월', '2021년 01월', '2021년 07월', '2022년 01월']]\n",
    "data3 = data3.iloc[0]\n",
    "\n",
    "# 아파트\n",
    "data4 = pd.read_excel('./data/price/평균전세가격_아파트.xlsx', header=10)\n",
    "data4 = data4.drop(['Unnamed: 1', 'Unnamed: 2'], axis=1)\n",
    "data4 = data4[['2019년 01월', '2019년 07월', '2020년 01월', '2020년 07월', '2021년 01월', '2021년 07월', '2022년 01월']]\n",
    "data4 = data4.iloc[0]\n",
    "\n",
    "# 연립다세대\n",
    "data5 = pd.read_excel('./data/price/평균전세가격_연립다세대.xlsx', header=10)\n",
    "data5 = data5.drop(['Unnamed: 1', 'Unnamed: 2'], axis=1)\n",
    "data5 = data5[['2019년 01월', '2019년 07월', '2020년 01월', '2020년 07월', '2021년 01월', '2021년 07월', '2022년 01월']]\n",
    "data5 = data5.iloc[0]"
   ]
  },
  {
   "cell_type": "code",
   "execution_count": 3,
   "id": "59a4016d-eaa4-42af-ae13-9f8db0c9a033",
   "metadata": {},
   "outputs": [
    {
     "data": {
      "text/html": [
       "<div>\n",
       "<style scoped>\n",
       "    .dataframe tbody tr th:only-of-type {\n",
       "        vertical-align: middle;\n",
       "    }\n",
       "\n",
       "    .dataframe tbody tr th {\n",
       "        vertical-align: top;\n",
       "    }\n",
       "\n",
       "    .dataframe thead th {\n",
       "        text-align: right;\n",
       "    }\n",
       "</style>\n",
       "<table border=\"1\" class=\"dataframe\">\n",
       "  <thead>\n",
       "    <tr style=\"text-align: right;\">\n",
       "      <th></th>\n",
       "      <th>2019년 01월</th>\n",
       "      <th>2019년 07월</th>\n",
       "      <th>2020년 01월</th>\n",
       "      <th>2020년 07월</th>\n",
       "      <th>2021년 01월</th>\n",
       "      <th>2021년 07월</th>\n",
       "      <th>2022년 01월</th>\n",
       "    </tr>\n",
       "  </thead>\n",
       "  <tbody>\n",
       "    <tr>\n",
       "      <th>오피스텔</th>\n",
       "      <td>141630</td>\n",
       "      <td>141059</td>\n",
       "      <td>141638</td>\n",
       "      <td>163525</td>\n",
       "      <td>165916</td>\n",
       "      <td>168168</td>\n",
       "      <td>172122</td>\n",
       "    </tr>\n",
       "    <tr>\n",
       "      <th>단독</th>\n",
       "      <td>141970</td>\n",
       "      <td>141695</td>\n",
       "      <td>140910</td>\n",
       "      <td>141504</td>\n",
       "      <td>142145</td>\n",
       "      <td>162110</td>\n",
       "      <td>163670</td>\n",
       "    </tr>\n",
       "    <tr>\n",
       "      <th>아파트</th>\n",
       "      <td>228000</td>\n",
       "      <td>223366</td>\n",
       "      <td>231562</td>\n",
       "      <td>236923</td>\n",
       "      <td>253946</td>\n",
       "      <td>308699</td>\n",
       "      <td>319475</td>\n",
       "    </tr>\n",
       "    <tr>\n",
       "      <th>연립다세대</th>\n",
       "      <td>113378</td>\n",
       "      <td>112614</td>\n",
       "      <td>116374</td>\n",
       "      <td>116751</td>\n",
       "      <td>118205</td>\n",
       "      <td>137918</td>\n",
       "      <td>139877</td>\n",
       "    </tr>\n",
       "  </tbody>\n",
       "</table>\n",
       "</div>"
      ],
      "text/plain": [
       "      2019년 01월 2019년 07월 2020년 01월 2020년 07월 2021년 01월 2021년 07월 2022년 01월\n",
       "오피스텔     141630    141059    141638    163525    165916    168168    172122\n",
       "단독       141970    141695    140910    141504    142145    162110    163670\n",
       "아파트      228000    223366    231562    236923    253946    308699    319475\n",
       "연립다세대    113378    112614    116374    116751    118205    137918    139877"
      ]
     },
     "execution_count": 3,
     "metadata": {},
     "output_type": "execute_result"
    }
   ],
   "source": [
    "# 데이터 합치기\n",
    "df = pd.concat([data, data3, data4, data5], axis=1)\n",
    "df = df.T\n",
    "df.index = ['오피스텔', '단독', '아파트', '연립다세대']\n",
    "df"
   ]
  },
  {
   "cell_type": "code",
   "execution_count": 20,
   "id": "3077947a-6b94-4963-bbb0-52b81ad67c7b",
   "metadata": {},
   "outputs": [
    {
     "data": {
      "text/plain": [
       "Text(0, 0.5, '가격(천원)')"
      ]
     },
     "execution_count": 20,
     "metadata": {},
     "output_type": "execute_result"
    },
    {
     "data": {
      "image/png": "[encoded data removed]",
      "text/plain": [
       "<Figure size 1080x432 with 1 Axes>"
      ]
     },
     "metadata": {
      "needs_background": "light"
     },
     "output_type": "display_data"
    }
   ],
   "source": [
    "# plt.rcParams['font.size'] = 15\n",
    "plt.rcParams['figure.figsize'] = (15, 6)\n",
    "\n",
    "lines = df.T.plot(linewidth=4, marker='o', markersize=10)\n",
    "\n",
    "# for x,y in enumerate(df.T['아파트']):\n",
    "#     plt.text(x,y+9000,f'{round(y/100000,2)}억원',ha='center',fontsize=13)\n",
    "\n",
    "plt.xticks(fontsize=13)\n",
    "plt.yticks(np.arange(100000,400000,50000), fontsize=11)\n",
    "plt.xlabel('연도', fontsize=18, labelpad=10)\n",
    "plt.ylabel('가격(천원)', fontsize=18, labelpad=10)"
   ]
  },
  {
   "cell_type": "code",
   "execution_count": null,
   "id": "ff0f2383-413a-4c1b-83b8-2059758d9c3f",
   "metadata": {},
   "outputs": [],
   "source": []
  }
 ],
 "metadata": {
  "kernelspec": {
   "display_name": "pydatavenv",
   "language": "python",
   "name": "pydatavenv"
  },
  "language_info": {
   "codemirror_mode": {
    "name": "ipython",
    "version": 3
   },
   "file_extension": ".py",
   "mimetype": "text/x-python",
   "name": "python",
   "nbconvert_exporter": "python",
   "pygments_lexer": "ipython3",
   "version": "3.9.12"
  }
 },
 "nbformat": 4,
 "nbformat_minor": 5
}
